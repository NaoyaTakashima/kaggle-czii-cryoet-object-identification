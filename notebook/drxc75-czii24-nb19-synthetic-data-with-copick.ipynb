{
 "cells": [
  {
   "cell_type": "code",
   "execution_count": 1,
   "id": "2e4248b5",
   "metadata": {
    "execution": {
     "iopub.execute_input": "2024-12-12T00:42:06.739784Z",
     "iopub.status.busy": "2024-12-12T00:42:06.739295Z",
     "iopub.status.idle": "2024-12-12T00:42:11.270172Z",
     "shell.execute_reply": "2024-12-12T00:42:11.269071Z"
    },
    "papermill": {
     "duration": 4.538239,
     "end_time": "2024-12-12T00:42:11.272879",
     "exception": false,
     "start_time": "2024-12-12T00:42:06.734640",
     "status": "completed"
    },
    "tags": []
   },
   "outputs": [],
   "source": [
    "import copick\n",
    "import matplotlib.pyplot as plt\n",
    "import numpy as np\n",
    "\n",
    "from copick_utils.segmentation import segmentation_from_picks\n",
    "from tqdm.auto import tqdm"
   ]
  },
  {
   "cell_type": "code",
   "execution_count": 2,
   "id": "b9b1a0dc",
   "metadata": {
    "execution": {
     "iopub.execute_input": "2024-12-12T00:42:11.281583Z",
     "iopub.status.busy": "2024-12-12T00:42:11.280597Z",
     "iopub.status.idle": "2024-12-12T00:42:11.287210Z",
     "shell.execute_reply": "2024-12-12T00:42:11.286145Z"
    },
    "papermill": {
     "duration": 0.013147,
     "end_time": "2024-12-12T00:42:11.289317",
     "exception": false,
     "start_time": "2024-12-12T00:42:11.276170",
     "status": "completed"
    },
    "tags": []
   },
   "outputs": [],
   "source": [
    "CONFIG_PATH = \"/home/naoya/kaggle/czii/input/czii-cryo-et-object-identification/copick.config\"\n",
    "RESOLUTION = 0\n",
    "SESSION_ID = \"0\"\n",
    "TOMO_TYPE = \"wbp\" \n",
    "USER_ID = \"curation\"\n",
    "VOXEL_SIZE =  10\n",
    "VOXEL_SPACING = VOXEL_SIZE *  (2**RESOLUTION)"
   ]
  },
  {
   "cell_type": "code",
   "execution_count": 3,
   "id": "b38e3f61",
   "metadata": {
    "execution": {
     "iopub.execute_input": "2024-12-12T00:42:11.297419Z",
     "iopub.status.busy": "2024-12-12T00:42:11.296502Z",
     "iopub.status.idle": "2024-12-12T00:42:11.303725Z",
     "shell.execute_reply": "2024-12-12T00:42:11.302770Z"
    },
    "papermill": {
     "duration": 0.013752,
     "end_time": "2024-12-12T00:42:11.306037",
     "exception": false,
     "start_time": "2024-12-12T00:42:11.292285",
     "status": "completed"
    },
    "tags": []
   },
   "outputs": [],
   "source": [
    "config_blob = \"\"\"{\n",
    "    \"name\": \"czii_cryoet_mlchallenge_2024\",\n",
    "    \"description\": \"2024 CZII CryoET ML Challenge training data.\",\n",
    "    \"version\": \"1.0.0\",\n",
    "    \"pickable_objects\": [\n",
    "        {\n",
    "            \"name\": \"apo-ferritin\",\n",
    "            \"identifier\": \"GO:0070288\",\n",
    "            \"is_particle\": true,\n",
    "            \"pdb_id\": \"4V1W\",\n",
    "            \"label\": 1,\n",
    "            \"color\": [  0, 117, 220, 128],\n",
    "            \"radius\": 60,\n",
    "            \"map_threshold\": 0.0418\n",
    "        },\n",
    "        {\n",
    "            \"name\": \"beta-amylase\",\n",
    "            \"identifier\": \"UniProtKB:P10537\",\n",
    "            \"is_particle\": true,\n",
    "            \"pdb_id\": \"1FA2\",\n",
    "            \"label\": 2,\n",
    "            \"color\": [153,  63,   0, 128],\n",
    "            \"radius\": 65,\n",
    "            \"map_threshold\": 0.035\n",
    "        },\n",
    "        {\n",
    "            \"name\": \"beta-galactosidase\",\n",
    "            \"identifier\": \"UniProtKB:P00722\",\n",
    "            \"is_particle\": true,\n",
    "            \"pdb_id\": \"6X1Q\",\n",
    "            \"label\": 3,\n",
    "            \"color\": [ 76,   0,  92, 128],\n",
    "            \"radius\": 90,\n",
    "            \"map_threshold\": 0.0578\n",
    "        },\n",
    "        {\n",
    "            \"name\": \"ribosome\",\n",
    "            \"identifier\": \"GO:0022626\",\n",
    "            \"is_particle\": true,\n",
    "            \"pdb_id\": \"6EK0\",\n",
    "            \"label\": 4,\n",
    "            \"color\": [  0,  92,  49, 128],\n",
    "            \"radius\": 150,\n",
    "            \"map_threshold\": 0.0374\n",
    "        },\n",
    "        {\n",
    "            \"name\": \"thyroglobulin\",\n",
    "            \"identifier\": \"UniProtKB:P01267\",\n",
    "            \"is_particle\": true,\n",
    "            \"pdb_id\": \"6SCJ\",\n",
    "            \"label\": 5,\n",
    "            \"color\": [ 43, 206,  72, 128],\n",
    "            \"radius\": 130,\n",
    "            \"map_threshold\": 0.0278\n",
    "        },\n",
    "        {\n",
    "            \"name\": \"virus-like-particle\",\n",
    "            \"identifier\": \"GO:0170047\",\n",
    "            \"is_particle\": true,\n",
    "            \"pdb_id\": \"6N4V\",            \n",
    "            \"label\": 6,\n",
    "            \"color\": [255, 204, 153, 128],\n",
    "            \"radius\": 135,\n",
    "            \"map_threshold\": 0.201\n",
    "        }\n",
    "    ],\n",
    "    \"overlay_root\": \"/home/naoya/kaggle/czii/input/numpy-dataset-external/wbp\",\n",
    "    \"static_root\": \"/home/naoya/kaggle/czii/input/external_dataset/overlay/\",\n",
    "    \"overlay_fs_args\": {\n",
    "        \"auto_mkdir\": true\n",
    "    }\n",
    "}\"\"\"\n",
    "with open(CONFIG_PATH, \"w\") as f:\n",
    "    f.write(config_blob)"
   ]
  },
  {
   "cell_type": "code",
   "execution_count": 4,
   "id": "26e4a122",
   "metadata": {
    "execution": {
     "iopub.execute_input": "2024-12-12T00:42:11.313347Z",
     "iopub.status.busy": "2024-12-12T00:42:11.312933Z",
     "iopub.status.idle": "2024-12-12T00:42:11.319243Z",
     "shell.execute_reply": "2024-12-12T00:42:11.318217Z"
    },
    "papermill": {
     "duration": 0.012949,
     "end_time": "2024-12-12T00:42:11.321908",
     "exception": false,
     "start_time": "2024-12-12T00:42:11.308959",
     "status": "completed"
    },
    "tags": []
   },
   "outputs": [],
   "source": [
    "root = copick.from_file(CONFIG_PATH)"
   ]
  },
  {
   "cell_type": "code",
   "execution_count": null,
   "id": "0935735b",
   "metadata": {
    "execution": {
     "iopub.execute_input": "2024-12-12T00:42:11.329307Z",
     "iopub.status.busy": "2024-12-12T00:42:11.328875Z",
     "iopub.status.idle": "2024-12-12T00:42:17.688145Z",
     "shell.execute_reply": "2024-12-12T00:42:17.686695Z"
    },
    "papermill": {
     "duration": 6.366084,
     "end_time": "2024-12-12T00:42:17.690868",
     "exception": false,
     "start_time": "2024-12-12T00:42:11.324784",
     "status": "completed"
    },
    "tags": []
   },
   "outputs": [],
   "source": [
    "data_dicts = []\n",
    "for run in tqdm(root.runs):\n",
    "    tomogram = run.get_voxel_spacing(VOXEL_SIZE).get_tomogram(TOMO_TYPE).numpy(str(RESOLUTION))\n",
    "    segmentation = np.zeros(tomogram.shape)\n",
    "    for obj in root.pickable_objects:\n",
    "        if not obj.is_particle:\n",
    "            continue\n",
    "        pick = run.get_picks(object_name=obj.name, user_id=USER_ID)\n",
    "        if len(pick):\n",
    "            segmentation = segmentation_from_picks.from_picks(\n",
    "                    pick[0], segmentation, obj.radius, obj.label, voxel_spacing=VOXEL_SPACING)\n",
    "            segmentation = (segmentation > 0).astype(int)\n",
    "    data_dicts.append({\"name\": run.name, \"image\": tomogram, \"label\": segmentation})"
   ]
  },
  {
   "cell_type": "code",
   "execution_count": 6,
   "id": "efdfa64a",
   "metadata": {
    "execution": {
     "iopub.execute_input": "2024-12-12T00:42:17.699443Z",
     "iopub.status.busy": "2024-12-12T00:42:17.698573Z",
     "iopub.status.idle": "2024-12-12T00:42:17.703948Z",
     "shell.execute_reply": "2024-12-12T00:42:17.702783Z"
    },
    "papermill": {
     "duration": 0.01214,
     "end_time": "2024-12-12T00:42:17.706338",
     "exception": false,
     "start_time": "2024-12-12T00:42:17.694198",
     "status": "completed"
    },
    "tags": []
   },
   "outputs": [],
   "source": [
    "import os\n",
    "\n",
    "# ディレクトリが存在しない場合は作成\n",
    "output_dir = \"/home/naoya/kaggle/czii/input/numpy-dataset-external/wbp\"\n",
    "os.makedirs(output_dir, exist_ok=True)\n",
    "\n",
    "# 各データを保存\n",
    "for idx, data_dict in enumerate(data_dicts):\n",
    "    image_path = os.path.join(output_dir, f\"image_{data_dicts[idx]['name']}.npy\")\n",
    "    label_path = os.path.join(output_dir, f\"label_{data_dicts[idx]['name']}.npy\")\n",
    "    \n",
    "    np.save(image_path, data_dict[\"image\"])\n",
    "    np.save(label_path, data_dict[\"label\"])"
   ]
  },
  {
   "cell_type": "code",
   "execution_count": null,
   "id": "6b0e00ad",
   "metadata": {
    "execution": {
     "iopub.execute_input": "2024-12-12T00:42:17.714007Z",
     "iopub.status.busy": "2024-12-12T00:42:17.713577Z",
     "iopub.status.idle": "2024-12-12T00:42:21.178300Z",
     "shell.execute_reply": "2024-12-12T00:42:21.176929Z"
    },
    "papermill": {
     "duration": 3.477222,
     "end_time": "2024-12-12T00:42:21.186675",
     "exception": false,
     "start_time": "2024-12-12T00:42:17.709453",
     "status": "completed"
    },
    "tags": []
   },
   "outputs": [],
   "source": [
    "fig, axes = plt.subplots(nrows=3, ncols=2, figsize=(30, 50))\n",
    "for i in range(3):\n",
    "    axes[i, 0].imshow(tomogram[27+i], cmap='gray')\n",
    "    axes[i, 0].set_title(\"Tomogram\")\n",
    "    \n",
    "    axes[i, 1].imshow(mask[27+i], cmap='gray')\n",
    "    axes[i, 1].set_title(\"Mask\")\n",
    "\n",
    "plt.tight_layout(rect=[0, 0, 1, 0.97])\n",
    "plt.show()"
   ]
  },
  {
   "cell_type": "code",
   "execution_count": null,
   "id": "25804f56",
   "metadata": {},
   "outputs": [],
   "source": []
  }
 ],
 "metadata": {
  "kaggle": {
   "accelerator": "none",
   "dataSources": [
    {
     "databundleVersionId": 10033515,
     "sourceId": 84969,
     "sourceType": "competition"
    },
    {
     "datasetId": 6162896,
     "sourceId": 10010692,
     "sourceType": "datasetVersion"
    }
   ],
   "dockerImageVersionId": 30804,
   "isGpuEnabled": false,
   "isInternetEnabled": true,
   "language": "python",
   "sourceType": "notebook"
  },
  "kernelspec": {
   "display_name": ".venv",
   "language": "python",
   "name": "python3"
  },
  "language_info": {
   "codemirror_mode": {
    "name": "ipython",
    "version": 3
   },
   "file_extension": ".py",
   "mimetype": "text/x-python",
   "name": "python",
   "nbconvert_exporter": "python",
   "pygments_lexer": "ipython3",
   "version": "3.12.7"
  },
  "papermill": {
   "default_parameters": {},
   "duration": 95.59708,
   "end_time": "2024-12-12T00:42:22.219790",
   "environment_variables": {},
   "exception": null,
   "input_path": "__notebook__.ipynb",
   "output_path": "__notebook__.ipynb",
   "parameters": {},
   "start_time": "2024-12-12T00:40:46.622710",
   "version": "2.6.0"
  },
  "widgets": {
   "application/vnd.jupyter.widget-state+json": {
    "state": {
     "00bb31f1608249ef91e72c4a1cd217d6": {
      "model_module": "@jupyter-widgets/base",
      "model_module_version": "2.0.0",
      "model_name": "LayoutModel",
      "state": {
       "_model_module": "@jupyter-widgets/base",
       "_model_module_version": "2.0.0",
       "_model_name": "LayoutModel",
       "_view_count": null,
       "_view_module": "@jupyter-widgets/base",
       "_view_module_version": "2.0.0",
       "_view_name": "LayoutView",
       "align_content": null,
       "align_items": null,
       "align_self": null,
       "border_bottom": null,
       "border_left": null,
       "border_right": null,
       "border_top": null,
       "bottom": null,
       "display": null,
       "flex": null,
       "flex_flow": null,
       "grid_area": null,
       "grid_auto_columns": null,
       "grid_auto_flow": null,
       "grid_auto_rows": null,
       "grid_column": null,
       "grid_gap": null,
       "grid_row": null,
       "grid_template_areas": null,
       "grid_template_columns": null,
       "grid_template_rows": null,
       "height": null,
       "justify_content": null,
       "justify_items": null,
       "left": null,
       "margin": null,
       "max_height": null,
       "max_width": null,
       "min_height": null,
       "min_width": null,
       "object_fit": null,
       "object_position": null,
       "order": null,
       "overflow": null,
       "padding": null,
       "right": null,
       "top": null,
       "visibility": null,
       "width": null
      }
     },
     "314d67206fcd463db5f719e811ae6584": {
      "model_module": "@jupyter-widgets/controls",
      "model_module_version": "2.0.0",
      "model_name": "ProgressStyleModel",
      "state": {
       "_model_module": "@jupyter-widgets/controls",
       "_model_module_version": "2.0.0",
       "_model_name": "ProgressStyleModel",
       "_view_count": null,
       "_view_module": "@jupyter-widgets/base",
       "_view_module_version": "2.0.0",
       "_view_name": "StyleView",
       "bar_color": null,
       "description_width": ""
      }
     },
     "3dde1733a2854475b7a9cc89785c3b9f": {
      "model_module": "@jupyter-widgets/controls",
      "model_module_version": "2.0.0",
      "model_name": "HBoxModel",
      "state": {
       "_dom_classes": [],
       "_model_module": "@jupyter-widgets/controls",
       "_model_module_version": "2.0.0",
       "_model_name": "HBoxModel",
       "_view_count": null,
       "_view_module": "@jupyter-widgets/controls",
       "_view_module_version": "2.0.0",
       "_view_name": "HBoxView",
       "box_style": "",
       "children": [
        "IPY_MODEL_55d4deb59a124907a1f8845b20ec26e8",
        "IPY_MODEL_a555f0b2ad984b15b51140d7f5fec853",
        "IPY_MODEL_b36b0fd1920348458b85f46cf4fdc7b5"
       ],
       "layout": "IPY_MODEL_8c5923b2cea841f9a4a8e05c60e837e4",
       "tabbable": null,
       "tooltip": null
      }
     },
     "3ffc32dec099482997f550b57c9966aa": {
      "model_module": "@jupyter-widgets/controls",
      "model_module_version": "2.0.0",
      "model_name": "HTMLStyleModel",
      "state": {
       "_model_module": "@jupyter-widgets/controls",
       "_model_module_version": "2.0.0",
       "_model_name": "HTMLStyleModel",
       "_view_count": null,
       "_view_module": "@jupyter-widgets/base",
       "_view_module_version": "2.0.0",
       "_view_name": "StyleView",
       "background": null,
       "description_width": "",
       "font_size": null,
       "text_color": null
      }
     },
     "55d4deb59a124907a1f8845b20ec26e8": {
      "model_module": "@jupyter-widgets/controls",
      "model_module_version": "2.0.0",
      "model_name": "HTMLModel",
      "state": {
       "_dom_classes": [],
       "_model_module": "@jupyter-widgets/controls",
       "_model_module_version": "2.0.0",
       "_model_name": "HTMLModel",
       "_view_count": null,
       "_view_module": "@jupyter-widgets/controls",
       "_view_module_version": "2.0.0",
       "_view_name": "HTMLView",
       "description": "",
       "description_allow_html": false,
       "layout": "IPY_MODEL_c0bdfbb805564ad1a8a9f625fb7574a2",
       "placeholder": "​",
       "style": "IPY_MODEL_771bbb1b93434b139b8c02254216b9f6",
       "tabbable": null,
       "tooltip": null,
       "value": "100%"
      }
     },
     "72536af1a54e4c37ab530003d513cc4b": {
      "model_module": "@jupyter-widgets/base",
      "model_module_version": "2.0.0",
      "model_name": "LayoutModel",
      "state": {
       "_model_module": "@jupyter-widgets/base",
       "_model_module_version": "2.0.0",
       "_model_name": "LayoutModel",
       "_view_count": null,
       "_view_module": "@jupyter-widgets/base",
       "_view_module_version": "2.0.0",
       "_view_name": "LayoutView",
       "align_content": null,
       "align_items": null,
       "align_self": null,
       "border_bottom": null,
       "border_left": null,
       "border_right": null,
       "border_top": null,
       "bottom": null,
       "display": null,
       "flex": null,
       "flex_flow": null,
       "grid_area": null,
       "grid_auto_columns": null,
       "grid_auto_flow": null,
       "grid_auto_rows": null,
       "grid_column": null,
       "grid_gap": null,
       "grid_row": null,
       "grid_template_areas": null,
       "grid_template_columns": null,
       "grid_template_rows": null,
       "height": null,
       "justify_content": null,
       "justify_items": null,
       "left": null,
       "margin": null,
       "max_height": null,
       "max_width": null,
       "min_height": null,
       "min_width": null,
       "object_fit": null,
       "object_position": null,
       "order": null,
       "overflow": null,
       "padding": null,
       "right": null,
       "top": null,
       "visibility": null,
       "width": null
      }
     },
     "771bbb1b93434b139b8c02254216b9f6": {
      "model_module": "@jupyter-widgets/controls",
      "model_module_version": "2.0.0",
      "model_name": "HTMLStyleModel",
      "state": {
       "_model_module": "@jupyter-widgets/controls",
       "_model_module_version": "2.0.0",
       "_model_name": "HTMLStyleModel",
       "_view_count": null,
       "_view_module": "@jupyter-widgets/base",
       "_view_module_version": "2.0.0",
       "_view_name": "StyleView",
       "background": null,
       "description_width": "",
       "font_size": null,
       "text_color": null
      }
     },
     "8c5923b2cea841f9a4a8e05c60e837e4": {
      "model_module": "@jupyter-widgets/base",
      "model_module_version": "2.0.0",
      "model_name": "LayoutModel",
      "state": {
       "_model_module": "@jupyter-widgets/base",
       "_model_module_version": "2.0.0",
       "_model_name": "LayoutModel",
       "_view_count": null,
       "_view_module": "@jupyter-widgets/base",
       "_view_module_version": "2.0.0",
       "_view_name": "LayoutView",
       "align_content": null,
       "align_items": null,
       "align_self": null,
       "border_bottom": null,
       "border_left": null,
       "border_right": null,
       "border_top": null,
       "bottom": null,
       "display": null,
       "flex": null,
       "flex_flow": null,
       "grid_area": null,
       "grid_auto_columns": null,
       "grid_auto_flow": null,
       "grid_auto_rows": null,
       "grid_column": null,
       "grid_gap": null,
       "grid_row": null,
       "grid_template_areas": null,
       "grid_template_columns": null,
       "grid_template_rows": null,
       "height": null,
       "justify_content": null,
       "justify_items": null,
       "left": null,
       "margin": null,
       "max_height": null,
       "max_width": null,
       "min_height": null,
       "min_width": null,
       "object_fit": null,
       "object_position": null,
       "order": null,
       "overflow": null,
       "padding": null,
       "right": null,
       "top": null,
       "visibility": null,
       "width": null
      }
     },
     "a555f0b2ad984b15b51140d7f5fec853": {
      "model_module": "@jupyter-widgets/controls",
      "model_module_version": "2.0.0",
      "model_name": "FloatProgressModel",
      "state": {
       "_dom_classes": [],
       "_model_module": "@jupyter-widgets/controls",
       "_model_module_version": "2.0.0",
       "_model_name": "FloatProgressModel",
       "_view_count": null,
       "_view_module": "@jupyter-widgets/controls",
       "_view_module_version": "2.0.0",
       "_view_name": "ProgressView",
       "bar_style": "success",
       "description": "",
       "description_allow_html": false,
       "layout": "IPY_MODEL_00bb31f1608249ef91e72c4a1cd217d6",
       "max": 27,
       "min": 0,
       "orientation": "horizontal",
       "style": "IPY_MODEL_314d67206fcd463db5f719e811ae6584",
       "tabbable": null,
       "tooltip": null,
       "value": 27
      }
     },
     "b36b0fd1920348458b85f46cf4fdc7b5": {
      "model_module": "@jupyter-widgets/controls",
      "model_module_version": "2.0.0",
      "model_name": "HTMLModel",
      "state": {
       "_dom_classes": [],
       "_model_module": "@jupyter-widgets/controls",
       "_model_module_version": "2.0.0",
       "_model_name": "HTMLModel",
       "_view_count": null,
       "_view_module": "@jupyter-widgets/controls",
       "_view_module_version": "2.0.0",
       "_view_name": "HTMLView",
       "description": "",
       "description_allow_html": false,
       "layout": "IPY_MODEL_72536af1a54e4c37ab530003d513cc4b",
       "placeholder": "​",
       "style": "IPY_MODEL_3ffc32dec099482997f550b57c9966aa",
       "tabbable": null,
       "tooltip": null,
       "value": " 27/27 [00:06&lt;00:00,  4.66it/s]"
      }
     },
     "c0bdfbb805564ad1a8a9f625fb7574a2": {
      "model_module": "@jupyter-widgets/base",
      "model_module_version": "2.0.0",
      "model_name": "LayoutModel",
      "state": {
       "_model_module": "@jupyter-widgets/base",
       "_model_module_version": "2.0.0",
       "_model_name": "LayoutModel",
       "_view_count": null,
       "_view_module": "@jupyter-widgets/base",
       "_view_module_version": "2.0.0",
       "_view_name": "LayoutView",
       "align_content": null,
       "align_items": null,
       "align_self": null,
       "border_bottom": null,
       "border_left": null,
       "border_right": null,
       "border_top": null,
       "bottom": null,
       "display": null,
       "flex": null,
       "flex_flow": null,
       "grid_area": null,
       "grid_auto_columns": null,
       "grid_auto_flow": null,
       "grid_auto_rows": null,
       "grid_column": null,
       "grid_gap": null,
       "grid_row": null,
       "grid_template_areas": null,
       "grid_template_columns": null,
       "grid_template_rows": null,
       "height": null,
       "justify_content": null,
       "justify_items": null,
       "left": null,
       "margin": null,
       "max_height": null,
       "max_width": null,
       "min_height": null,
       "min_width": null,
       "object_fit": null,
       "object_position": null,
       "order": null,
       "overflow": null,
       "padding": null,
       "right": null,
       "top": null,
       "visibility": null,
       "width": null
      }
     }
    },
    "version_major": 2,
    "version_minor": 0
   }
  }
 },
 "nbformat": 4,
 "nbformat_minor": 5
}
