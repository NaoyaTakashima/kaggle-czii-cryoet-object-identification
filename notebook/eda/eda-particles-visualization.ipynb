{
 "cells": [
  {
   "cell_type": "markdown",
   "id": "b661fec0",
   "metadata": {
    "papermill": {
     "duration": 0.006187,
     "end_time": "2024-11-07T01:53:40.368621",
     "exception": false,
     "start_time": "2024-11-07T01:53:40.362434",
     "status": "completed"
    },
    "tags": []
   },
   "source": [
    "## Overview\n",
    "This notebook provides an exploratory data analysis of the CZII Cryo-ET Particle Detection Challenge dataset. It focuses on:\n",
    "- Loading and visualizing tomogram data\n",
    "- Analyzing particle distributions\n",
    "- Visualizing different particle types:\n",
    "  - apo-ferritin (easy)\n",
    "  - beta-amylase (impossible, not scored)\n",
    "  - beta-galactosidase (hard)\n",
    "  - ribosome (easy)\n",
    "  - thyroglobulin (hard)\n",
    "  - virus-like-particle (easy)"
   ]
  },
  {
   "cell_type": "markdown",
   "id": "444667ac",
   "metadata": {
    "papermill": {
     "duration": 0.004956,
     "end_time": "2024-11-07T01:53:40.379034",
     "exception": false,
     "start_time": "2024-11-07T01:53:40.374078",
     "status": "completed"
    },
    "tags": []
   },
   "source": [
    "## Table of Contents\n",
    "1. Loading Required Libraries\n",
    "2. Reading Tomogram Data\n",
    "3. Loading Particle Coordinates\n",
    "4. Visualizing Particles in Tomogram Slices\n",
    "5. Statistical Analysis of Particle Distribution"
   ]
  },
  {
   "cell_type": "markdown",
   "id": "a225ce32",
   "metadata": {
    "papermill": {
     "duration": 0.005226,
     "end_time": "2024-11-07T01:54:38.306125",
     "exception": false,
     "start_time": "2024-11-07T01:54:38.300899",
     "status": "completed"
    },
    "tags": []
   },
   "source": [
    "## Loading Required Libraries"
   ]
  },
  {
   "cell_type": "code",
   "execution_count": null,
   "id": "7e64d321",
   "metadata": {
    "execution": {
     "iopub.execute_input": "2024-11-07T01:54:38.319185Z",
     "iopub.status.busy": "2024-11-07T01:54:38.318719Z",
     "iopub.status.idle": "2024-11-07T01:54:38.438497Z",
     "shell.execute_reply": "2024-11-07T01:54:38.437230Z"
    },
    "papermill": {
     "duration": 0.130095,
     "end_time": "2024-11-07T01:54:38.441736",
     "exception": false,
     "start_time": "2024-11-07T01:54:38.311641",
     "status": "completed"
    },
    "tags": []
   },
   "outputs": [],
   "source": [
    "# First, let's import the necessary libraries\n",
    "import zarr\n",
    "import numpy as np\n",
    "import matplotlib.pyplot as plt\n",
    "from pathlib import Path"
   ]
  },
  {
   "cell_type": "markdown",
   "id": "0c0e28e3",
   "metadata": {
    "papermill": {
     "duration": 0.005274,
     "end_time": "2024-11-07T01:54:38.452695",
     "exception": false,
     "start_time": "2024-11-07T01:54:38.447421",
     "status": "completed"
    },
    "tags": []
   },
   "source": [
    "## Reading Tomogram Data"
   ]
  },
  {
   "cell_type": "code",
   "execution_count": null,
   "id": "c7127e7d",
   "metadata": {
    "execution": {
     "iopub.execute_input": "2024-11-07T01:54:38.467857Z",
     "iopub.status.busy": "2024-11-07T01:54:38.466940Z",
     "iopub.status.idle": "2024-11-07T01:54:38.560619Z",
     "shell.execute_reply": "2024-11-07T01:54:38.559265Z"
    },
    "papermill": {
     "duration": 0.104764,
     "end_time": "2024-11-07T01:54:38.563207",
     "exception": false,
     "start_time": "2024-11-07T01:54:38.458443",
     "status": "completed"
    },
    "tags": []
   },
   "outputs": [],
   "source": [
    "# Define the path to the zarr file\n",
    "zarr_path = Path('/home/naoya/kaggle/czii/input/czii-cryo-et-object-identification/train/static/ExperimentRuns/TS_5_4/VoxelSpacing10.000/denoised.zarr')\n",
    "\n",
    "# Open the zarr array\n",
    "zarr_store = zarr.open(str(zarr_path))\n",
    "\n",
    "# Print basic information about the zarr store\n",
    "print(\"Zarr store structure:\")\n",
    "print(zarr_store.tree())"
   ]
  },
  {
   "cell_type": "code",
   "execution_count": null,
   "id": "f45c3ad5",
   "metadata": {
    "execution": {
     "iopub.execute_input": "2024-11-07T01:54:38.576859Z",
     "iopub.status.busy": "2024-11-07T01:54:38.576438Z",
     "iopub.status.idle": "2024-11-07T01:54:41.020364Z",
     "shell.execute_reply": "2024-11-07T01:54:41.018982Z"
    },
    "papermill": {
     "duration": 2.453915,
     "end_time": "2024-11-07T01:54:41.022730",
     "exception": false,
     "start_time": "2024-11-07T01:54:38.568815",
     "status": "completed"
    },
    "tags": []
   },
   "outputs": [],
   "source": [
    "# Get the highest resolution data (scale 0)\n",
    "tomogram = zarr_store['0'][:]\n",
    "\n",
    "print(f\"Tomogram shape: {tomogram.shape}\")\n",
    "print(f\"Data type: {tomogram.dtype}\")\n",
    "print(f\"Min value: {tomogram.min()}\")\n",
    "print(f\"Max value: {tomogram.max()}\")\n",
    "print(f\"Mean value: {tomogram.mean()}\")"
   ]
  },
  {
   "cell_type": "code",
   "execution_count": null,
   "id": "41897a28",
   "metadata": {
    "execution": {
     "iopub.execute_input": "2024-11-07T01:54:41.036166Z",
     "iopub.status.busy": "2024-11-07T01:54:41.035751Z",
     "iopub.status.idle": "2024-11-07T01:54:41.052145Z",
     "shell.execute_reply": "2024-11-07T01:54:41.050724Z"
    },
    "papermill": {
     "duration": 0.026929,
     "end_time": "2024-11-07T01:54:41.055399",
     "exception": false,
     "start_time": "2024-11-07T01:54:41.028470",
     "status": "completed"
    },
    "tags": []
   },
   "outputs": [],
   "source": [
    "# Reading and printing the structure of the apo-ferritin JSON\n",
    "import json\n",
    "from pathlib import Path\n",
    "\n",
    "# Read the JSON file for apo-ferritin\n",
    "json_path = Path('/home/naoya/kaggle/czii/input/czii-cryo-et-object-identification/train/overlay/ExperimentRuns/TS_5_4/Picks/apo-ferritin.json')\n",
    "\n",
    "with open(json_path, 'r') as f:\n",
    "    data = json.load(f)\n",
    "\n",
    "# Examine the structure\n",
    "print(\"Keys in the JSON file:\", data.keys())\n",
    "print(\"\\nFirst few points:\")\n",
    "print(json.dumps(data['points'][:2], indent=2))  # Print first 2 points for examination"
   ]
  },
  {
   "cell_type": "markdown",
   "id": "af0639e3",
   "metadata": {
    "papermill": {
     "duration": 0.005598,
     "end_time": "2024-11-07T01:54:41.067234",
     "exception": false,
     "start_time": "2024-11-07T01:54:41.061636",
     "status": "completed"
    },
    "tags": []
   },
   "source": [
    "## Loading Particle Coordinates"
   ]
  },
  {
   "cell_type": "code",
   "execution_count": null,
   "id": "49d77c37",
   "metadata": {
    "execution": {
     "iopub.execute_input": "2024-11-07T01:54:41.080838Z",
     "iopub.status.busy": "2024-11-07T01:54:41.080353Z",
     "iopub.status.idle": "2024-11-07T01:54:41.093461Z",
     "shell.execute_reply": "2024-11-07T01:54:41.091956Z"
    },
    "papermill": {
     "duration": 0.022608,
     "end_time": "2024-11-07T01:54:41.095877",
     "exception": false,
     "start_time": "2024-11-07T01:54:41.073269",
     "status": "completed"
    },
    "tags": []
   },
   "outputs": [],
   "source": [
    "import json\n",
    "import numpy as np\n",
    "from pathlib import Path\n",
    "\n",
    "def load_apo_ferritin_coordinates(experiment_name='TS_5_4'):\n",
    "    \"\"\"Load apo-ferritin coordinates from JSON file.\"\"\"\n",
    "    json_path = Path('/home/naoya/kaggle/czii/input/czii-cryo-et-object-identification/train/overlay/ExperimentRuns') / experiment_name / 'Picks/apo-ferritin.json'\n",
    "\n",
    "    try:\n",
    "        with open(json_path, 'r') as f:\n",
    "            data = json.load(f)\n",
    "\n",
    "        # Extract coordinates from the points array\n",
    "        coords = []\n",
    "        for point in data['points']:\n",
    "            coords.append([\n",
    "                point['location']['z'],\n",
    "                point['location']['y'],\n",
    "                point['location']['x']\n",
    "            ])\n",
    "\n",
    "        coords = np.array(coords)\n",
    "        print(f\"Loaded {len(coords)} apo-ferritin coordinates\")\n",
    "\n",
    "        # Print some basic statistics\n",
    "        print(\"\\nCoordinate ranges:\")\n",
    "        print(f\"Z range: {coords[:, 0].min():.1f} to {coords[:, 0].max():.1f}\")\n",
    "        print(f\"Y range: {coords[:, 1].min():.1f} to {coords[:, 1].max():.1f}\")\n",
    "        print(f\"X range: {coords[:, 2].min():.1f} to {coords[:, 2].max():.1f}\")\n",
    "\n",
    "        return coords\n",
    "\n",
    "    except Exception as e:\n",
    "        print(f\"Error reading coordinates: {e}\")\n",
    "        return np.array([])\n",
    "\n",
    "# Load the coordinates\n",
    "apo_ferritin_coords = load_apo_ferritin_coordinates()"
   ]
  },
  {
   "cell_type": "code",
   "execution_count": null,
   "id": "f5e578d8",
   "metadata": {
    "execution": {
     "iopub.execute_input": "2024-11-07T01:54:41.110624Z",
     "iopub.status.busy": "2024-11-07T01:54:41.110143Z",
     "iopub.status.idle": "2024-11-07T01:54:41.116990Z",
     "shell.execute_reply": "2024-11-07T01:54:41.115856Z"
    },
    "papermill": {
     "duration": 0.018516,
     "end_time": "2024-11-07T01:54:41.120397",
     "exception": false,
     "start_time": "2024-11-07T01:54:41.101881",
     "status": "completed"
    },
    "tags": []
   },
   "outputs": [],
   "source": [
    "print(\"Tomogram shape:\", tomogram.shape)\n",
    "print(\"\\nCoordinate ranges before scaling:\")\n",
    "print(f\"Z range: {apo_ferritin_coords[:, 0].min():.1f} to {apo_ferritin_coords[:, 0].max():.1f}\")\n",
    "print(f\"Y range: {apo_ferritin_coords[:, 1].min():.1f} to {apo_ferritin_coords[:, 1].max():.1f}\")\n",
    "print(f\"X range: {apo_ferritin_coords[:, 2].min():.1f} to {apo_ferritin_coords[:, 2].max():.1f}\")"
   ]
  },
  {
   "cell_type": "code",
   "execution_count": null,
   "id": "50094761",
   "metadata": {
    "execution": {
     "iopub.execute_input": "2024-11-07T01:54:41.134126Z",
     "iopub.status.busy": "2024-11-07T01:54:41.133702Z",
     "iopub.status.idle": "2024-11-07T01:54:41.142783Z",
     "shell.execute_reply": "2024-11-07T01:54:41.141679Z"
    },
    "papermill": {
     "duration": 0.018704,
     "end_time": "2024-11-07T01:54:41.145153",
     "exception": false,
     "start_time": "2024-11-07T01:54:41.126449",
     "status": "completed"
    },
    "tags": []
   },
   "outputs": [],
   "source": [
    "# Let's create a function to scale the coordinates\n",
    "def scale_coordinates(coords, tomogram_shape):\n",
    "    \"\"\"Scale coordinates to match tomogram dimensions.\"\"\"\n",
    "    scaled_coords = coords.copy()\n",
    "    \n",
    "    # Scale factors for each dimension\n",
    "    scale_z = tomogram_shape[0] / coords[:, 0].max()\n",
    "    scale_y = tomogram_shape[1] / coords[:, 1].max()\n",
    "    scale_x = tomogram_shape[2] / coords[:, 2].max()\n",
    "    \n",
    "    # Apply scaling\n",
    "    scaled_coords[:, 0] = coords[:, 0] * scale_z\n",
    "    scaled_coords[:, 1] = coords[:, 1] * scale_y\n",
    "    scaled_coords[:, 2] = coords[:, 2] * scale_x\n",
    "    \n",
    "    return scaled_coords\n",
    "\n",
    "# Scale the coordinates\n",
    "scaled_coords = scale_coordinates(apo_ferritin_coords, tomogram.shape)\n",
    "\n",
    "print(\"\\nCoordinate ranges after scaling:\")\n",
    "print(f\"Z range: {scaled_coords[:, 0].min():.1f} to {scaled_coords[:, 0].max():.1f}\")\n",
    "print(f\"Y range: {scaled_coords[:, 1].min():.1f} to {scaled_coords[:, 1].max():.1f}\")\n",
    "print(f\"X range: {scaled_coords[:, 2].min():.1f} to {scaled_coords[:, 2].max():.1f}\")"
   ]
  },
  {
   "cell_type": "markdown",
   "id": "83b642f2",
   "metadata": {
    "papermill": {
     "duration": 0.005721,
     "end_time": "2024-11-07T01:54:41.156964",
     "exception": false,
     "start_time": "2024-11-07T01:54:41.151243",
     "status": "completed"
    },
    "tags": []
   },
   "source": [
    "## Visualizing Particles in Tomogram Slices"
   ]
  },
  {
   "cell_type": "code",
   "execution_count": null,
   "id": "d8420368",
   "metadata": {
    "execution": {
     "iopub.execute_input": "2024-11-07T01:54:41.171201Z",
     "iopub.status.busy": "2024-11-07T01:54:41.170380Z",
     "iopub.status.idle": "2024-11-07T01:54:41.203335Z",
     "shell.execute_reply": "2024-11-07T01:54:41.202264Z"
    },
    "papermill": {
     "duration": 0.043206,
     "end_time": "2024-11-07T01:54:41.206055",
     "exception": false,
     "start_time": "2024-11-07T01:54:41.162849",
     "status": "completed"
    },
    "tags": []
   },
   "outputs": [],
   "source": [
    "from mpl_toolkits.axes_grid1 import ImageGrid\n",
    "\n",
    "# Updated visualization function\n",
    "def visualize_apo_ferritin(tomogram, coords, n_slices=3, slice_thickness=10):\n",
    "    \"\"\"\n",
    "    Visualize apo-ferritin particles in tomogram slices.\n",
    "    \"\"\"\n",
    "    fig = plt.figure(figsize=(20, 10))\n",
    "    grid = ImageGrid(fig, 111,\n",
    "                    nrows_ncols=(1, n_slices),\n",
    "                    axes_pad=0.3,\n",
    "                    share_all=True,\n",
    "                    cbar_location=\"right\",\n",
    "                    cbar_mode=\"single\",\n",
    "                    cbar_size=\"5%\",\n",
    "                    cbar_pad=0.1)\n",
    "\n",
    "    # Normalize tomogram data\n",
    "    vmin, vmax = np.percentile(tomogram, (1, 99))\n",
    "    normalized_tomogram = np.clip((tomogram - vmin) / (vmax - vmin), 0, 1)\n",
    "\n",
    "    # Calculate evenly spaced z-positions\n",
    "    z_positions = np.linspace(0, tomogram.shape[0]-1, n_slices, dtype=int)\n",
    "\n",
    "    # Plot each slice\n",
    "    for idx, ax in enumerate(grid):\n",
    "        z = z_positions[idx]\n",
    "\n",
    "        # Show tomogram slice\n",
    "        im = ax.imshow(normalized_tomogram[z, :, :], cmap='gray', vmin=0, vmax=1)\n",
    "\n",
    "        # Find particles near this slice\n",
    "        mask = np.abs(coords[:, 0] - z) < slice_thickness\n",
    "        if np.any(mask):\n",
    "            ax.scatter(\n",
    "                coords[mask, 2], coords[mask, 1],\n",
    "                color='red', marker='o', s=100,\n",
    "                facecolors='none', linewidth=2,\n",
    "                label='apo-ferritin'\n",
    "            )\n",
    "\n",
    "        ax.set_title(f'Slice Z={z}\\n({np.sum(mask)} particles visible)')\n",
    "        ax.grid(False)\n",
    "\n",
    "        # Set the axes limits to match the tomogram dimensions\n",
    "        ax.set_xlim(0, tomogram.shape[2])\n",
    "        ax.set_ylim(tomogram.shape[1], 0)  # Inverted y-axis to match image coordinates\n",
    "\n",
    "    # Add colorbar and title\n",
    "    grid.cbar_axes[0].colorbar(im)\n",
    "\n",
    "    plt.suptitle(\n",
    "        'Apo-ferritin Particles in Tomogram Slices\\n' +\n",
    "        f'Showing particles within ±{slice_thickness} units of each slice',\n",
    "        fontsize=16, y=1.05\n",
    "    )\n",
    "\n",
    "    # Add legend to the first subplot\n",
    "    grid[0].legend(bbox_to_anchor=(1.5, 1.0))\n",
    "\n",
    "    plt.show()\n",
    "\n",
    "    # return fig"
   ]
  },
  {
   "cell_type": "code",
   "execution_count": null,
   "id": "281ee1af",
   "metadata": {
    "execution": {
     "iopub.execute_input": "2024-11-07T01:54:41.220160Z",
     "iopub.status.busy": "2024-11-07T01:54:41.219700Z",
     "iopub.status.idle": "2024-11-07T01:54:44.116262Z",
     "shell.execute_reply": "2024-11-07T01:54:44.115111Z"
    },
    "papermill": {
     "duration": 2.924162,
     "end_time": "2024-11-07T01:54:44.136550",
     "exception": false,
     "start_time": "2024-11-07T01:54:41.212388",
     "status": "completed"
    },
    "tags": []
   },
   "outputs": [],
   "source": [
    "# Create the visualization with scaled coordinates\n",
    "visualize_apo_ferritin(tomogram, scaled_coords)"
   ]
  },
  {
   "cell_type": "markdown",
   "id": "31bde489",
   "metadata": {
    "papermill": {
     "duration": 0.027348,
     "end_time": "2024-11-07T01:54:44.191496",
     "exception": false,
     "start_time": "2024-11-07T01:54:44.164148",
     "status": "completed"
    },
    "tags": []
   },
   "source": [
    "## Visualizing 6 Particles in Tomogram Slices with difficulty levels"
   ]
  },
  {
   "cell_type": "code",
   "execution_count": null,
   "id": "197a0bff",
   "metadata": {
    "execution": {
     "iopub.execute_input": "2024-11-07T01:54:44.245993Z",
     "iopub.status.busy": "2024-11-07T01:54:44.245600Z",
     "iopub.status.idle": "2024-11-07T01:54:44.256410Z",
     "shell.execute_reply": "2024-11-07T01:54:44.255334Z"
    },
    "papermill": {
     "duration": 0.041472,
     "end_time": "2024-11-07T01:54:44.258901",
     "exception": false,
     "start_time": "2024-11-07T01:54:44.217429",
     "status": "completed"
    },
    "tags": []
   },
   "outputs": [],
   "source": [
    "# Define particle types with their properties\n",
    "PARTICLE_TYPES = {\n",
    "    'apo-ferritin': {'color': 'red', 'marker': 'o', 'difficulty': 'easy'},\n",
    "    'beta-amylase': {'color': 'gray', 'marker': 's', 'difficulty': 'impossible'},\n",
    "    'beta-galactosidase': {'color': 'blue', 'marker': '^', 'difficulty': 'hard'},\n",
    "    'ribosome': {'color': 'green', 'marker': 'D', 'difficulty': 'easy'},\n",
    "    'thyroglobulin': {'color': 'purple', 'marker': 'p', 'difficulty': 'hard'},\n",
    "    'virus-like-particle': {'color': 'orange', 'marker': '*', 'difficulty': 'easy'}\n",
    "}\n",
    "\n",
    "def load_all_particle_coordinates(experiment_name='TS_5_4'):\n",
    "    \"\"\"Load coordinates for all particle types.\"\"\"\n",
    "    base_path = Path('/kaggle/input/czii-cryo-et-object-identification/train/overlay/ExperimentRuns')\n",
    "    particle_coords = {}\n",
    "    \n",
    "    for particle_type in PARTICLE_TYPES.keys():\n",
    "        json_path = base_path / experiment_name / 'Picks' / f'{particle_type}.json'\n",
    "        try:\n",
    "            with open(json_path, 'r') as f:\n",
    "                data = json.load(f)\n",
    "                coords = []\n",
    "                for point in data['points']:\n",
    "                    coords.append([\n",
    "                        point['location']['z'],\n",
    "                        point['location']['y'],\n",
    "                        point['location']['x']\n",
    "                    ])\n",
    "                particle_coords[particle_type] = np.array(coords)\n",
    "                print(f\"Loaded {len(coords)} {particle_type} coordinates\")\n",
    "        except Exception as e:\n",
    "            print(f\"Error reading {particle_type} coordinates: {e}\")\n",
    "            particle_coords[particle_type] = np.array([])\n",
    "    \n",
    "    return particle_coords"
   ]
  },
  {
   "cell_type": "code",
   "execution_count": null,
   "id": "2078baab",
   "metadata": {
    "execution": {
     "iopub.execute_input": "2024-11-07T01:54:44.313567Z",
     "iopub.status.busy": "2024-11-07T01:54:44.313138Z",
     "iopub.status.idle": "2024-11-07T01:54:44.404770Z",
     "shell.execute_reply": "2024-11-07T01:54:44.403354Z"
    },
    "papermill": {
     "duration": 0.121781,
     "end_time": "2024-11-07T01:54:44.407408",
     "exception": false,
     "start_time": "2024-11-07T01:54:44.285627",
     "status": "completed"
    },
    "tags": []
   },
   "outputs": [],
   "source": [
    "# Updated particle types with high-contrast colors\n",
    "PARTICLE_TYPES = {\n",
    "    'apo-ferritin': {'color': '#FF3333', 'marker': 'o', 'difficulty': 'easy'},          # Bright red\n",
    "    'beta-amylase': {'color': '#FFFFFF', 'marker': 's', 'difficulty': 'impossible'},     # White\n",
    "    'beta-galactosidase': {'color': '#33FFFF', 'marker': '^', 'difficulty': 'hard'},    # Cyan\n",
    "    'ribosome': {'color': '#33FF33', 'marker': 'D', 'difficulty': 'easy'},              # Bright green\n",
    "    'thyroglobulin': {'color': '#FF33FF', 'marker': 'p', 'difficulty': 'hard'},         # Magenta\n",
    "    'virus-like-particle': {'color': '#FFFF33', 'marker': '*', 'difficulty': 'easy'}     # Yellow\n",
    "}\n",
    "\n",
    "def visualize_all_particles(tomogram, particle_coords, n_slices=3, slice_thickness=20):  # Increased slice thickness\n",
    "    \"\"\"\n",
    "    Visualize all particle types in tomogram slices with an overlay legend.\n",
    "    \"\"\"\n",
    "    fig = plt.figure(figsize=(20, 10))\n",
    "    grid = ImageGrid(fig, 111,\n",
    "                    nrows_ncols=(1, n_slices),\n",
    "                    axes_pad=0.3,\n",
    "                    share_all=True,\n",
    "                    cbar_location=\"right\",\n",
    "                    cbar_mode=\"single\",\n",
    "                    cbar_size=\"5%\",\n",
    "                    cbar_pad=0.1)\n",
    "\n",
    "    # Normalize tomogram data\n",
    "    vmin, vmax = np.percentile(tomogram, (1, 99))\n",
    "    normalized_tomogram = np.clip((tomogram - vmin) / (vmax - vmin), 0, 1)\n",
    "\n",
    "    # Find z-positions with maximum particle density\n",
    "    all_z_coords = []\n",
    "    for coords in particle_coords.values():\n",
    "        if len(coords) > 0:\n",
    "            all_z_coords.extend(coords[:, 0])\n",
    "\n",
    "    if all_z_coords:\n",
    "        z_coords = np.array(all_z_coords)\n",
    "        z_density = np.histogram(z_coords, bins=50)[0]\n",
    "        highest_density_indices = np.argsort(z_density)[-n_slices:]\n",
    "        z_positions = np.linspace(z_coords.min(), z_coords.max(), 51)[highest_density_indices]\n",
    "    else:\n",
    "        z_positions = np.linspace(0, tomogram.shape[0]-1, n_slices, dtype=int)\n",
    "\n",
    "    # Plot each slice\n",
    "    for idx, ax in enumerate(grid):\n",
    "        z = int(z_positions[idx])\n",
    "\n",
    "        # Show tomogram slice\n",
    "        im = ax.imshow(normalized_tomogram[z, :, :], cmap='gray', vmin=0, vmax=1)\n",
    "\n",
    "        # Plot each particle type\n",
    "        particles_in_slice = 0\n",
    "        particle_counts = {}\n",
    "\n",
    "        for particle_type, coords in particle_coords.items():\n",
    "            if len(coords) > 0:\n",
    "                # Find particles near this slice\n",
    "                mask = np.abs(coords[:, 0] - z) < slice_thickness\n",
    "                if np.any(mask):\n",
    "                    style = PARTICLE_TYPES[particle_type]\n",
    "                    ax.scatter(\n",
    "                        coords[mask, 2], coords[mask, 1],\n",
    "                        color=style['color'], marker=style['marker'],\n",
    "                        s=100, facecolors='none', linewidth=2,\n",
    "                        label=f\"{particle_type}\\n({style['difficulty']})\"\n",
    "                    )\n",
    "                    count = np.sum(mask)\n",
    "                    particles_in_slice += count\n",
    "                    particle_counts[particle_type] = count\n",
    "\n",
    "        # Create detailed title showing counts for each particle type\n",
    "        title_parts = [f'Slice Z={z}']\n",
    "        if particle_counts:\n",
    "            for ptype, count in particle_counts.items():\n",
    "                if count > 0:\n",
    "                    title_parts.append(f'{ptype}: {count}')\n",
    "        title = '\\n'.join(title_parts)\n",
    "        ax.set_title(title, fontsize=8)\n",
    "\n",
    "        ax.grid(False)\n",
    "\n",
    "        # Set the axes limits to match the tomogram dimensions\n",
    "        ax.set_xlim(0, tomogram.shape[2])\n",
    "        ax.set_ylim(tomogram.shape[1], 0)  # Inverted y-axis to match image coordinates\n",
    "\n",
    "        # Add legend with semi-transparent background for better visibility\n",
    "        if idx == 0:  # Only add legend to first subplot\n",
    "            handles, labels = ax.get_legend_handles_labels()\n",
    "            legend = ax.legend(\n",
    "                handles, labels,\n",
    "                bbox_to_anchor=(0.02, 0.98),\n",
    "                loc='upper left',\n",
    "                borderaxespad=0.,\n",
    "                framealpha=0.8,\n",
    "                facecolor='black',\n",
    "                edgecolor='white',\n",
    "                labelcolor='white',\n",
    "                fontsize=8\n",
    "            )\n",
    "\n",
    "            for handle in handles:\n",
    "                handle.set_edgecolor('black')\n",
    "                handle.set_linewidth(1.5)\n",
    "\n",
    "    # Add colorbar and title\n",
    "    grid.cbar_axes[0].colorbar(im)\n",
    "\n",
    "    plt.suptitle('All Particle Types in Tomogram Slices\\n' +\n",
    "                f'Showing particles within ±{slice_thickness} units of each slice',\n",
    "                fontsize=16, y=1.05)\n",
    "\n",
    "    plt.show()\n",
    "\n",
    "    # Print overall particle statistics\n",
    "    print(\"\\nOverall Particle Statistics:\")\n",
    "    print(\"-\" * 50)\n",
    "    for particle_type, coords in particle_coords.items():\n",
    "        if len(coords) > 0:\n",
    "            print(f\"\\n{particle_type} ({PARTICLE_TYPES[particle_type]['difficulty']}):\")\n",
    "            print(f\"Total particles: {len(coords)}\")\n",
    "            print(f\"Z range: {coords[:, 0].min():.1f} to {coords[:, 0].max():.1f}\")\n",
    "\n",
    "    # return fig"
   ]
  },
  {
   "cell_type": "code",
   "execution_count": null,
   "id": "d2ac9b67",
   "metadata": {
    "execution": {
     "iopub.execute_input": "2024-11-07T01:54:44.461378Z",
     "iopub.status.busy": "2024-11-07T01:54:44.460895Z",
     "iopub.status.idle": "2024-11-07T01:54:47.381860Z",
     "shell.execute_reply": "2024-11-07T01:54:47.380688Z"
    },
    "papermill": {
     "duration": 2.969686,
     "end_time": "2024-11-07T01:54:47.402907",
     "exception": false,
     "start_time": "2024-11-07T01:54:44.433221",
     "status": "completed"
    },
    "tags": []
   },
   "outputs": [],
   "source": [
    "# Load all particle coordinates\n",
    "all_particle_coords = load_all_particle_coordinates()\n",
    "\n",
    "# Scale coordinates for each particle type\n",
    "scaled_particle_coords = {\n",
    "    particle_type: scale_coordinates(coords, tomogram.shape)\n",
    "    for particle_type, coords in all_particle_coords.items()\n",
    "}\n",
    "\n",
    "# Create visualization with all particle types\n",
    "visualize_all_particles(tomogram, scaled_particle_coords)\n",
    "\n",
    "# Print statistics for each particle type\n",
    "print(\"\\nParticle Statistics:\")\n",
    "print(\"-\" * 50)\n",
    "for particle_type, coords in scaled_particle_coords.items():\n",
    "    if len(coords) > 0:\n",
    "        print(f\"\\n{particle_type} ({PARTICLE_TYPES[particle_type]['difficulty']}):\")\n",
    "        print(f\"Number of particles: {len(coords)}\")\n",
    "        print(f\"Z range: {coords[:, 0].min():.1f} to {coords[:, 0].max():.1f}\")\n",
    "        print(f\"Y range: {coords[:, 1].min():.1f} to {coords[:, 1].max():.1f}\")\n",
    "        print(f\"X range: {coords[:, 2].min():.1f} to {coords[:, 2].max():.1f}\")"
   ]
  },
  {
   "cell_type": "code",
   "execution_count": null,
   "id": "b8504e31",
   "metadata": {
    "papermill": {
     "duration": 0.053252,
     "end_time": "2024-11-07T01:54:47.509429",
     "exception": false,
     "start_time": "2024-11-07T01:54:47.456177",
     "status": "completed"
    },
    "tags": []
   },
   "outputs": [],
   "source": []
  }
 ],
 "metadata": {
  "kaggle": {
   "accelerator": "none",
   "dataSources": [
    {
     "databundleVersionId": 10033515,
     "sourceId": 84969,
     "sourceType": "competition"
    }
   ],
   "dockerImageVersionId": 30786,
   "isGpuEnabled": false,
   "isInternetEnabled": true,
   "language": "python",
   "sourceType": "notebook"
  },
  "kernelspec": {
   "display_name": ".venv",
   "language": "python",
   "name": "python3"
  },
  "language_info": {
   "codemirror_mode": {
    "name": "ipython",
    "version": 3
   },
   "file_extension": ".py",
   "mimetype": "text/x-python",
   "name": "python",
   "nbconvert_exporter": "python",
   "pygments_lexer": "ipython3",
   "version": "3.12.7"
  },
  "papermill": {
   "default_parameters": {},
   "duration": 70.516607,
   "end_time": "2024-11-07T01:54:47.980488",
   "environment_variables": {},
   "exception": null,
   "input_path": "__notebook__.ipynb",
   "output_path": "__notebook__.ipynb",
   "parameters": {},
   "start_time": "2024-11-07T01:53:37.463881",
   "version": "2.6.0"
  }
 },
 "nbformat": 4,
 "nbformat_minor": 5
}
