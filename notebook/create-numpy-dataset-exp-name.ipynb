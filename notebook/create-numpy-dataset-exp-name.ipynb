{
 "cells": [
  {
   "cell_type": "markdown",
   "id": "3d7a8acb",
   "metadata": {
    "papermill": {
     "duration": 0.005661,
     "end_time": "2024-11-11T21:40:28.575555",
     "exception": false,
     "start_time": "2024-11-11T21:40:28.569894",
     "status": "completed"
    },
    "tags": []
   },
   "source": [
    "# Install pkgs"
   ]
  },
  {
   "cell_type": "markdown",
   "id": "db15dba3",
   "metadata": {
    "papermill": {
     "duration": 0.004147,
     "end_time": "2024-11-11T21:40:28.584886",
     "exception": false,
     "start_time": "2024-11-11T21:40:28.580739",
     "status": "completed"
    },
    "tags": []
   },
   "source": [
    "**Note:** This is training notebook only. Inference ain't included in . \n",
    "Anybody who wants to use this notebook for inference purposes is most welcome."
   ]
  },
  {
   "cell_type": "code",
   "execution_count": null,
   "id": "ab208591",
   "metadata": {
    "execution": {
     "iopub.execute_input": "2024-11-11T21:42:04.602525Z",
     "iopub.status.busy": "2024-11-11T21:42:04.601662Z",
     "iopub.status.idle": "2024-11-11T21:42:04.921518Z",
     "shell.execute_reply": "2024-11-11T21:42:04.920135Z"
    },
    "papermill": {
     "duration": 0.338697,
     "end_time": "2024-11-11T21:42:04.924452",
     "exception": false,
     "start_time": "2024-11-11T21:42:04.585755",
     "status": "completed"
    },
    "tags": []
   },
   "outputs": [],
   "source": [
    "# Make a copick project\n",
    "import os\n",
    "import shutil\n",
    "\n",
    "config_blob = \"\"\"{\n",
    "    \"name\": \"czii_cryoet_mlchallenge_2024\",\n",
    "    \"description\": \"2024 CZII CryoET ML Challenge training data.\",\n",
    "    \"version\": \"1.0.0\",\n",
    "\n",
    "    \"pickable_objects\": [\n",
    "        {\n",
    "            \"name\": \"apo-ferritin\",\n",
    "            \"is_particle\": true,\n",
    "            \"pdb_id\": \"4V1W\",\n",
    "            \"label\": 1,\n",
    "            \"color\": [  0, 117, 220, 128],\n",
    "            \"radius\": 60,\n",
    "            \"map_threshold\": 0.0418\n",
    "        },\n",
    "        {\n",
    "            \"name\": \"beta-amylase\",\n",
    "            \"is_particle\": true,\n",
    "            \"pdb_id\": \"1FA2\",\n",
    "            \"label\": 2,\n",
    "            \"color\": [153,  63,   0, 128],\n",
    "            \"radius\": 65,\n",
    "            \"map_threshold\": 0.035\n",
    "        },\n",
    "        {\n",
    "            \"name\": \"beta-galactosidase\",\n",
    "            \"is_particle\": true,\n",
    "            \"pdb_id\": \"6X1Q\",\n",
    "            \"label\": 3,\n",
    "            \"color\": [ 76,   0,  92, 128],\n",
    "            \"radius\": 90,\n",
    "            \"map_threshold\": 0.0578\n",
    "        },\n",
    "        {\n",
    "            \"name\": \"ribosome\",\n",
    "            \"is_particle\": true,\n",
    "            \"pdb_id\": \"6EK0\",\n",
    "            \"label\": 4,\n",
    "            \"color\": [  0,  92,  49, 128],\n",
    "            \"radius\": 150,\n",
    "            \"map_threshold\": 0.0374\n",
    "        },\n",
    "        {\n",
    "            \"name\": \"thyroglobulin\",\n",
    "            \"is_particle\": true,\n",
    "            \"pdb_id\": \"6SCJ\",\n",
    "            \"label\": 5,\n",
    "            \"color\": [ 43, 206,  72, 128],\n",
    "            \"radius\": 130,\n",
    "            \"map_threshold\": 0.0278\n",
    "        },\n",
    "        {\n",
    "            \"name\": \"virus-like-particle\",\n",
    "            \"is_particle\": true,\n",
    "            \"pdb_id\": \"6N4V\",            \n",
    "            \"label\": 6,\n",
    "            \"color\": [255, 204, 153, 128],\n",
    "            \"radius\": 135,\n",
    "            \"map_threshold\": 0.201\n",
    "        }\n",
    "    ],\n",
    "\n",
    "    \"overlay_root\": \"/kaggle/input/numpy-dataset-soft-label/overlay\",\n",
    "\n",
    "    \"overlay_fs_args\": {\n",
    "        \"auto_mkdir\": true\n",
    "    },\n",
    "\n",
    "    \"static_root\": \"/kaggle/input/czii-cryo-et-object-identification/train/static\"\n",
    "}\"\"\"\n",
    "\n",
    "copick_config_path = \"/kaggle/input/numpy-dataset-soft-label/copick.config\"\n",
    "output_overlay = \"/kaggle/input/numpy-dataset-soft-label/overlay\"\n",
    "\n",
    "with open(copick_config_path, \"w\") as f:\n",
    "    f.write(config_blob)\n",
    "    \n",
    "# Update the overlay\n",
    "# Define source and destination directories\n",
    "source_dir = '/kaggle/input/czii-cryo-et-object-identification/train/overlay'\n",
    "destination_dir = '/kaggle/input/numpy-dataset-soft-label/overlay'\n",
    "\n",
    "# Walk through the source directory\n",
    "for root, dirs, files in os.walk(source_dir):\n",
    "    # Create corresponding subdirectories in the destination\n",
    "    relative_path = os.path.relpath(root, source_dir)\n",
    "    target_dir = os.path.join(destination_dir, relative_path)\n",
    "    os.makedirs(target_dir, exist_ok=True)\n",
    "    \n",
    "    # Copy and rename each file\n",
    "    for file in files:\n",
    "        if file.startswith(\"curation_0_\"):\n",
    "            new_filename = file\n",
    "        else:\n",
    "            new_filename = f\"curation_0_{file}\"\n",
    "            \n",
    "        \n",
    "        # Define full paths for the source and destination files\n",
    "        source_file = os.path.join(root, file)\n",
    "        destination_file = os.path.join(target_dir, new_filename)\n",
    "        \n",
    "        # Copy the file with the new name\n",
    "        shutil.copy2(source_file, destination_file)\n",
    "        print(f\"Copied {source_file} to {destination_file}\")"
   ]
  },
  {
   "cell_type": "code",
   "execution_count": 2,
   "id": "3cdb68ef",
   "metadata": {
    "execution": {
     "iopub.execute_input": "2024-11-11T21:42:04.956650Z",
     "iopub.status.busy": "2024-11-11T21:42:04.955660Z",
     "iopub.status.idle": "2024-11-11T21:43:08.957688Z",
     "shell.execute_reply": "2024-11-11T21:43:08.956718Z"
    },
    "papermill": {
     "duration": 64.020379,
     "end_time": "2024-11-11T21:43:08.960403",
     "exception": false,
     "start_time": "2024-11-11T21:42:04.940024",
     "status": "completed"
    },
    "tags": []
   },
   "outputs": [],
   "source": [
    "import os\n",
    "import numpy as np\n",
    "from pathlib import Path\n",
    "import torch\n",
    "import torchinfo\n",
    "import zarr, copick\n",
    "from tqdm import tqdm\n",
    "from monai.data import DataLoader, Dataset, CacheDataset, decollate_batch\n",
    "from monai.transforms import (\n",
    "    Compose, \n",
    "    EnsureChannelFirstd, \n",
    "    Orientationd,  \n",
    "    AsDiscrete,  \n",
    "    RandFlipd, \n",
    "    RandRotate90d, \n",
    "    NormalizeIntensityd,\n",
    "    RandCropByLabelClassesd,\n",
    ")\n",
    "from monai.networks.nets import UNet\n",
    "from monai.losses import DiceLoss, FocalLoss, TverskyLoss\n",
    "from monai.metrics import DiceMetric, ConfusionMatrixMetric\n",
    "# import mlflow\n",
    "# import mlflow.pytorch"
   ]
  },
  {
   "cell_type": "markdown",
   "id": "a44933df",
   "metadata": {
    "papermill": {
     "duration": 0.015116,
     "end_time": "2024-11-11T21:43:08.990941",
     "exception": false,
     "start_time": "2024-11-11T21:43:08.975825",
     "status": "completed"
    },
    "tags": []
   },
   "source": [
    "# Prepare the dataset\n",
    "## 1. Get copick root"
   ]
  },
  {
   "cell_type": "code",
   "execution_count": 22,
   "id": "8a02cf9d",
   "metadata": {
    "execution": {
     "iopub.execute_input": "2024-11-11T21:43:09.025156Z",
     "iopub.status.busy": "2024-11-11T21:43:09.023966Z",
     "iopub.status.idle": "2024-11-11T21:43:09.032477Z",
     "shell.execute_reply": "2024-11-11T21:43:09.031250Z"
    },
    "papermill": {
     "duration": 0.028051,
     "end_time": "2024-11-11T21:43:09.034816",
     "exception": false,
     "start_time": "2024-11-11T21:43:09.006765",
     "status": "completed"
    },
    "tags": []
   },
   "outputs": [],
   "source": [
    "root = copick.from_file(copick_config_path)\n",
    "\n",
    "copick_user_name = \"copickUtils\"\n",
    "copick_segmentation_name = \"paintedPicks\"\n",
    "voxel_size = 10\n",
    "tomo_type = \"wbp\""
   ]
  },
  {
   "cell_type": "markdown",
   "id": "9433632c",
   "metadata": {
    "papermill": {
     "duration": 0.014088,
     "end_time": "2024-11-11T21:43:09.063628",
     "exception": false,
     "start_time": "2024-11-11T21:43:09.049540",
     "status": "completed"
    },
    "tags": []
   },
   "source": [
    "## 2. Generate multi-class segmentation masks from picks, and saved them to the copick overlay directory (one-time)"
   ]
  },
  {
   "cell_type": "code",
   "execution_count": null,
   "id": "ba7a1c74",
   "metadata": {
    "execution": {
     "iopub.execute_input": "2024-11-11T21:43:09.096363Z",
     "iopub.status.busy": "2024-11-11T21:43:09.095951Z",
     "iopub.status.idle": "2024-11-11T21:43:26.746572Z",
     "shell.execute_reply": "2024-11-11T21:43:26.745050Z"
    },
    "papermill": {
     "duration": 17.673006,
     "end_time": "2024-11-11T21:43:26.752160",
     "exception": false,
     "start_time": "2024-11-11T21:43:09.079154",
     "status": "completed"
    },
    "tags": []
   },
   "outputs": [],
   "source": [
    "from copick_utils.segmentation import segmentation_from_picks\n",
    "import copick_utils.writers.write as write\n",
    "from collections import defaultdict\n",
    "\n",
    "# Just do this once\n",
    "generate_masks = True\n",
    "\n",
    "SCALE = 0.5\n",
    "\n",
    "if generate_masks:\n",
    "    target_objects = defaultdict(dict)\n",
    "    for object in root.pickable_objects:\n",
    "        if object.is_particle:\n",
    "            target_objects[object.name]['label'] = object.label\n",
    "            target_objects[object.name]['radius'] = object.radius\n",
    "\n",
    "\n",
    "    for run in tqdm(root.runs):\n",
    "        tomo = run.get_voxel_spacing(10)\n",
    "        tomo = tomo.get_tomogram(tomo_type).numpy()\n",
    "        target = np.zeros(tomo.shape, dtype=np.uint8)\n",
    "        for pickable_object in root.pickable_objects:\n",
    "            pick = run.get_picks(object_name=pickable_object.name, user_id=\"curation\")\n",
    "            if len(pick):  \n",
    "                target = segmentation_from_picks.from_picks(pick[0], \n",
    "                                                            target, \n",
    "                                                            target_objects[pickable_object.name]['radius'] * SCALE,\n",
    "                                                            target_objects[pickable_object.name]['label']\n",
    "                                                            )\n",
    "        write.segmentation(run, target, copick_user_name, name=copick_segmentation_name)"
   ]
  },
  {
   "cell_type": "markdown",
   "id": "c1500ebb",
   "metadata": {
    "papermill": {
     "duration": 0.016392,
     "end_time": "2024-11-11T21:43:26.784795",
     "exception": false,
     "start_time": "2024-11-11T21:43:26.768403",
     "status": "completed"
    },
    "tags": []
   },
   "source": [
    "## 3. Get tomograms and their segmentaion masks (from picks) arrays"
   ]
  },
  {
   "cell_type": "code",
   "execution_count": null,
   "id": "a4929ec7",
   "metadata": {
    "execution": {
     "iopub.execute_input": "2024-11-11T21:43:26.818267Z",
     "iopub.status.busy": "2024-11-11T21:43:26.817693Z",
     "iopub.status.idle": "2024-11-11T21:43:34.505257Z",
     "shell.execute_reply": "2024-11-11T21:43:34.503980Z"
    },
    "papermill": {
     "duration": 7.706715,
     "end_time": "2024-11-11T21:43:34.507825",
     "exception": false,
     "start_time": "2024-11-11T21:43:26.801110",
     "status": "completed"
    },
    "tags": []
   },
   "outputs": [],
   "source": [
    "data_dicts = []\n",
    "for run in tqdm(root.runs):\n",
    "    tomogram = run.get_voxel_spacing(voxel_size).get_tomogram(tomo_type).numpy()\n",
    "    segmentation = run.get_segmentations(name=copick_segmentation_name, user_id=copick_user_name, voxel_size=voxel_size, is_multilabel=True)[0].numpy()\n",
    "    data_dicts.append({\"name\": run.name, \"image\": tomogram, \"label\": segmentation})\n",
    "    \n",
    "print(np.unique(data_dicts[0]['label']))"
   ]
  },
  {
   "cell_type": "code",
   "execution_count": null,
   "id": "9f0c57fe",
   "metadata": {
    "execution": {
     "iopub.execute_input": "2024-11-11T21:43:34.542676Z",
     "iopub.status.busy": "2024-11-11T21:43:34.542248Z",
     "iopub.status.idle": "2024-11-11T21:43:34.550134Z",
     "shell.execute_reply": "2024-11-11T21:43:34.549071Z"
    },
    "papermill": {
     "duration": 0.027113,
     "end_time": "2024-11-11T21:43:34.552264",
     "exception": false,
     "start_time": "2024-11-11T21:43:34.525151",
     "status": "completed"
    },
    "tags": []
   },
   "outputs": [],
   "source": [
    "data_dicts[0]['label'].shape"
   ]
  },
  {
   "cell_type": "code",
   "execution_count": null,
   "id": "c588a2ea",
   "metadata": {
    "execution": {
     "iopub.execute_input": "2024-11-11T21:43:34.586571Z",
     "iopub.status.busy": "2024-11-11T21:43:34.585738Z",
     "iopub.status.idle": "2024-11-11T21:43:34.592985Z",
     "shell.execute_reply": "2024-11-11T21:43:34.591816Z"
    },
    "papermill": {
     "duration": 0.026938,
     "end_time": "2024-11-11T21:43:34.595106",
     "exception": false,
     "start_time": "2024-11-11T21:43:34.568168",
     "status": "completed"
    },
    "tags": []
   },
   "outputs": [],
   "source": [
    "data_dicts[0]['image'].shape"
   ]
  },
  {
   "cell_type": "code",
   "execution_count": 27,
   "id": "3b1d83d3",
   "metadata": {
    "execution": {
     "iopub.execute_input": "2024-11-11T21:43:34.629405Z",
     "iopub.status.busy": "2024-11-11T21:43:34.628926Z",
     "iopub.status.idle": "2024-11-11T21:43:36.784179Z",
     "shell.execute_reply": "2024-11-11T21:43:36.783051Z"
    },
    "papermill": {
     "duration": 2.175614,
     "end_time": "2024-11-11T21:43:36.787014",
     "exception": false,
     "start_time": "2024-11-11T21:43:34.611400",
     "status": "completed"
    },
    "tags": []
   },
   "outputs": [],
   "source": [
    "output_dir = f\"/kaggle/input/numpy-dataset-{SCALE}/{tomo_type}\"\n",
    "os.makedirs(output_dir, exist_ok=True)\n",
    "\n",
    "for i in range(len(data_dicts)):\n",
    "    image_path = os.path.join(output_dir, f\"train_image_{data_dicts[i]['name']}.npy\")\n",
    "    label_path = os.path.join(output_dir, f\"train_label_{data_dicts[i]['name']}.npy\")\n",
    "    \n",
    "    with open(image_path, 'wb') as f:\n",
    "        np.save(f, data_dicts[i]['image'])\n",
    "        \n",
    "    with open(label_path, 'wb') as f:\n",
    "        np.save(f, data_dicts[i]['label'])"
   ]
  },
  {
   "cell_type": "code",
   "execution_count": null,
   "id": "81d52e10",
   "metadata": {},
   "outputs": [],
   "source": []
  },
  {
   "cell_type": "code",
   "execution_count": null,
   "id": "76db4ce0",
   "metadata": {},
   "outputs": [],
   "source": []
  }
 ],
 "metadata": {
  "kaggle": {
   "accelerator": "none",
   "dataSources": [
    {
     "databundleVersionId": 10033515,
     "sourceId": 84969,
     "sourceType": "competition"
    }
   ],
   "dockerImageVersionId": 30786,
   "isGpuEnabled": false,
   "isInternetEnabled": true,
   "language": "python",
   "sourceType": "notebook"
  },
  "kernelspec": {
   "display_name": "Python 3",
   "language": "python",
   "name": "python3"
  },
  "language_info": {
   "codemirror_mode": {
    "name": "ipython",
    "version": 3
   },
   "file_extension": ".py",
   "mimetype": "text/x-python",
   "name": "python",
   "nbconvert_exporter": "python",
   "pygments_lexer": "ipython3",
   "version": "3.10.12"
  },
  "papermill": {
   "default_parameters": {},
   "duration": 195.574005,
   "end_time": "2024-11-11T21:43:41.192319",
   "environment_variables": {},
   "exception": null,
   "input_path": "__notebook__.ipynb",
   "output_path": "__notebook__.ipynb",
   "parameters": {},
   "start_time": "2024-11-11T21:40:25.618314",
   "version": "2.6.0"
  }
 },
 "nbformat": 4,
 "nbformat_minor": 5
}
