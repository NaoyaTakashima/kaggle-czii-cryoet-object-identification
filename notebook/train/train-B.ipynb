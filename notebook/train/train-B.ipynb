{
 "cells": [
  {
   "cell_type": "code",
   "execution_count": 1,
   "metadata": {},
   "outputs": [],
   "source": [
    "import torch\n",
    "import gc\n",
    "import wandb\n",
    "\n",
    "import os\n",
    "os.environ[\"CUDA_VISIBLE_DEVICES\"]=\"0\""
   ]
  },
  {
   "cell_type": "code",
   "execution_count": 2,
   "metadata": {},
   "outputs": [],
   "source": [
    "PROJECT_ID = 'B'\n",
    "\n",
    "BASE_DIR = f\"/home/naoya/kaggle/czii/project/{PROJECT_ID}\""
   ]
  },
  {
   "cell_type": "code",
   "execution_count": 3,
   "metadata": {},
   "outputs": [
    {
     "name": "stdout",
     "output_type": "stream",
     "text": [
      "/home/naoya/kaggle/czii/project/B\n"
     ]
    },
    {
     "name": "stderr",
     "output_type": "stream",
     "text": [
      "/home/naoya/kaggle/czii/.venv/lib/python3.12/site-packages/IPython/core/magics/osm.py:417: UserWarning: This is now an optional IPython functionality, setting dhist requires you to install the `pickleshare` library.\n",
      "  self.shell.db['dhist'] = compress_dhist(dhist)[-100:]\n"
     ]
    }
   ],
   "source": [
    "%cd {BASE_DIR}"
   ]
  },
  {
   "cell_type": "code",
   "execution_count": 4,
   "metadata": {},
   "outputs": [],
   "source": [
    "exp_nos = ['002']\n",
    "select_folds = [1]\n",
    "\n",
    "model = 'Unet'\n",
    "batch_size_train = 1\n",
    "batch_size_valid = 16\n",
    "num_workers = 16\n",
    "epoch = 50 * 6\n",
    "lr = 0.001"
   ]
  },
  {
   "cell_type": "code",
   "execution_count": null,
   "metadata": {},
   "outputs": [
    {
     "name": "stdout",
     "output_type": "stream",
     "text": [
      "./run_with_retries.sh: line 15:  6886 Segmentation fault      (core dumped) python -m run.train project=CZII-B exp_no=002 exp_name=002-1 dir.output_dir=/home/naoya/kaggle/czii/project/B/output split=fold_1 model=Unet batch_size_train=1 batch_size_valid=16 num_workers=16 epoch=300 optimizer.lr=0.001\n",
      "Execution failed. Retrying... (1/10)\n",
      "./run_with_retries.sh: line 15:  6985 Segmentation fault      (core dumped) python -m run.train project=CZII-B exp_no=002 exp_name=002-1 dir.output_dir=/home/naoya/kaggle/czii/project/B/output split=fold_1 model=Unet batch_size_train=1 batch_size_valid=16 num_workers=16 epoch=300 optimizer.lr=0.001\n",
      "Execution failed. Retrying... (2/10)\n",
      "/home/naoya/kaggle/czii/.venv/lib/python3.12/site-packages/albumentations/__init__.py:13: UserWarning: A new version of Albumentations is available: 1.4.21 (you have 1.4.17). Upgrade using: pip install -U albumentations. To disable automatic update checks, set the environment variable NO_ALBUMENTATIONS_UPDATE to 1.\n",
      "  check_for_updates()\n",
      "[2024-12-01 03:18:34,980][train.py][INFO] - Set Up DataModule\n",
      "Loading dataset: 100%|████████████████████████████| 6/6 [00:00<00:00, 15.34it/s]\n",
      "Loading dataset: 100%|█████████████████████████| 98/98 [00:00<00:00, 305.91it/s]\n",
      "Error executing job with overrides: ['project=CZII-B', 'exp_no=002', 'exp_name=002-1', 'dir.output_dir=/home/naoya/kaggle/czii/project/B/output', 'split=fold_1', 'model=Unet', 'batch_size_train=1', 'batch_size_valid=16', 'num_workers=16', 'epoch=300', 'optimizer.lr=0.001']\n",
      "Traceback (most recent call last):\n",
      "  File \"/home/naoya/kaggle/czii/project/B/run/train.py\", line 55, in main\n",
      "    model = CZIIModel(cfg)\n",
      "            ^^^^^^^^^^^^^^\n",
      "  File \"/home/naoya/kaggle/czii/project/B/src/modelmodule/modelmodule.py\", line 19, in __init__\n",
      "    self.model = get_model(cfg)\n",
      "                 ^^^^^^^^^^^^^^\n",
      "  File \"/home/naoya/kaggle/czii/project/B/src/models/common.py\", line 15, in get_model\n",
      "    model = Unet(\n",
      "            ^^^^^\n",
      "  File \"/home/naoya/kaggle/czii/project/B/src/models/Unet.py\", line 31, in __init__\n",
      "    self.loss_fn = TverskyLoss(include_background=True, to_onehot_y=True, softmax=True, class_weight=self.class_weights)\n",
      "                   ^^^^^^^^^^^^^^^^^^^^^^^^^^^^^^^^^^^^^^^^^^^^^^^^^^^^^^^^^^^^^^^^^^^^^^^^^^^^^^^^^^^^^^^^^^^^^^^^^^^^^\n",
      "TypeError: TverskyLoss.__init__() got an unexpected keyword argument 'class_weight'\n",
      "\n",
      "Set the environment variable HYDRA_FULL_ERROR=1 for a complete stack trace.\n",
      "Execution failed. Retrying... (3/10)\n"
     ]
    }
   ],
   "source": [
    "for i, exp_no in enumerate(exp_nos):\n",
    "    project = f'CZII-{PROJECT_ID}'\n",
    "    output_dir = f'{BASE_DIR}/output'\n",
    "\n",
    "    for valid_fold in select_folds:\n",
    "        exp_name = f'{exp_no}-{valid_fold}'\n",
    "        split = f'fold_{valid_fold}'\n",
    "\n",
    "        !./run_with_retries.sh \"python -m run.train\\\n",
    "            project=$project\\\n",
    "            exp_no=$exp_no\\\n",
    "            exp_name=$exp_name\\\n",
    "            dir.output_dir=$output_dir\\\n",
    "            split=$split\\\n",
    "            model=$model\\\n",
    "            batch_size_train=$batch_size_train\\\n",
    "            batch_size_valid=$batch_size_valid\\\n",
    "            num_workers=$num_workers\\\n",
    "            epoch=$epoch\\\n",
    "            optimizer.lr=$lr\"\n",
    "\n",
    "        wandb.finish()\n",
    "\n",
    "        torch.cuda.empty_cache()\n",
    "        gc.collect()"
   ]
  }
 ],
 "metadata": {
  "kernelspec": {
   "display_name": ".venv",
   "language": "python",
   "name": "python3"
  },
  "language_info": {
   "codemirror_mode": {
    "name": "ipython",
    "version": 3
   },
   "file_extension": ".py",
   "mimetype": "text/x-python",
   "name": "python",
   "nbconvert_exporter": "python",
   "pygments_lexer": "ipython3",
   "version": "3.12.7"
  }
 },
 "nbformat": 4,
 "nbformat_minor": 2
}
