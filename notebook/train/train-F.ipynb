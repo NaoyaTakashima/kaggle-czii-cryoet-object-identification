{
 "cells": [
  {
   "cell_type": "code",
   "execution_count": null,
   "metadata": {},
   "outputs": [],
   "source": [
    "import torch\n",
    "import gc\n",
    "import wandb\n",
    "\n",
    "import os\n",
    "os.environ[\"CUDA_VISIBLE_DEVICES\"]=\"0\""
   ]
  },
  {
   "cell_type": "code",
   "execution_count": 2,
   "metadata": {},
   "outputs": [],
   "source": [
    "PROJECT_ID = 'F'\n",
    "\n",
    "BASE_DIR = f\"/kaggle/project/{PROJECT_ID}\""
   ]
  },
  {
   "cell_type": "code",
   "execution_count": null,
   "metadata": {},
   "outputs": [],
   "source": [
    "%cd {BASE_DIR}"
   ]
  },
  {
   "cell_type": "code",
   "execution_count": 4,
   "metadata": {},
   "outputs": [],
   "source": [
    "data_dir = '/kaggle/input/numpy-dataset-0.5'\n",
    "\n",
    "exp_nos = ['018']\n",
    "# select_folds = [1, 2, 3, 4]\n",
    "# select_folds = [2, 3, 4]\n",
    "# select_folds = [3, 4, 5, 6]\n",
    "select_folds = [1]\n",
    "# select_folds = [2]\n",
    "# select_folds = [1, 3, 4]\n",
    "\n",
    "model = 'Unet'\n",
    "\n",
    "batch_size_train = 2\n",
    "batch_size_valid = 16\n",
    "num_workers = 8\n",
    "epoch = 50 * 4\n",
    "lr = 0.001\n",
    "\n",
    "num_samples = int(16)\n",
    "spatial_size = int(96)\n",
    "patch_size = int(96)\n",
    "\n",
    "# alpha = 0.7\n",
    "# beta = 0.3"
   ]
  },
  {
   "cell_type": "code",
   "execution_count": null,
   "metadata": {},
   "outputs": [],
   "source": [
    "\n",
    "for i, exp_no in enumerate(exp_nos):\n",
    "    project = f'CZII-{PROJECT_ID}'\n",
    "    output_dir = f'{BASE_DIR}/output'\n",
    "\n",
    "    for valid_fold in select_folds:\n",
    "        exp_name = f'{exp_no}-{valid_fold}'\n",
    "        split = f'fold_{valid_fold}'\n",
    "\n",
    "        !./run_with_retries.sh \"python -m run.train\\\n",
    "            project=$project\\\n",
    "            exp_no=$exp_no\\\n",
    "            exp_name=$exp_name\\\n",
    "            dir.data_dir=$data_dir\\\n",
    "            dir.output_dir=$output_dir\\\n",
    "            split=$split\\\n",
    "            model=$model\\\n",
    "            batch_size_train=$batch_size_train\\\n",
    "            batch_size_valid=$batch_size_valid\\\n",
    "            num_samples=$num_samples\\\n",
    "            spatial_size=$spatial_size\\\n",
    "            patch_size=$patch_size\\\n",
    "            num_workers=$num_workers\\\n",
    "            epoch=$epoch\\\n",
    "            optimizer.lr=$lr\"\n",
    "\n",
    "        wandb.finish()\n",
    "\n",
    "        torch.cuda.empty_cache()\n",
    "        gc.collect()"
   ]
  },
  {
   "cell_type": "code",
   "execution_count": null,
   "metadata": {},
   "outputs": [],
   "source": []
  }
 ],
 "metadata": {
  "kernelspec": {
   "display_name": "Python 3",
   "language": "python",
   "name": "python3"
  },
  "language_info": {
   "codemirror_mode": {
    "name": "ipython",
    "version": 3
   },
   "file_extension": ".py",
   "mimetype": "text/x-python",
   "name": "python",
   "nbconvert_exporter": "python",
   "pygments_lexer": "ipython3",
   "version": "3.10.12"
  }
 },
 "nbformat": 4,
 "nbformat_minor": 2
}
