{
 "cells": [
  {
   "cell_type": "code",
   "execution_count": null,
   "metadata": {},
   "outputs": [],
   "source": [
    "import torch\n",
    "import gc\n",
    "import wandb\n",
    "\n",
    "import os\n",
    "os.environ[\"CUDA_VISIBLE_DEVICES\"]=\"0\""
   ]
  },
  {
   "cell_type": "code",
   "execution_count": null,
   "metadata": {},
   "outputs": [],
   "source": [
    "PROJECT_ID = 'C'\n",
    "\n",
    "BASE_DIR = f\"/home/naoya/kaggle/czii/project/{PROJECT_ID}\""
   ]
  },
  {
   "cell_type": "code",
   "execution_count": null,
   "metadata": {},
   "outputs": [],
   "source": [
    "%cd {BASE_DIR}"
   ]
  },
  {
   "cell_type": "code",
   "execution_count": null,
   "metadata": {},
   "outputs": [],
   "source": [
    "exp_nos = ['007']\n",
    "model_names = ['tf_efficientnet_b4.ns_jft_in1k']\n",
    "# select_folds = [0, 1, 2, 3, 4, 5, 6]\n",
    "select_folds = [1]\n",
    "\n",
    "model = 'Net'\n",
    "batch_size_train = 1\n",
    "batch_size_valid = 1\n",
    "num_workers = 12\n",
    "epoch = 50 * 2\n",
    "lr = 0.005"
   ]
  },
  {
   "cell_type": "code",
   "execution_count": null,
   "metadata": {},
   "outputs": [],
   "source": [
    "for i, exp_no in enumerate(exp_nos):\n",
    "    project = f'CZII-{PROJECT_ID}'\n",
    "    output_dir = f'{BASE_DIR}/output'\n",
    "\n",
    "    for valid_fold in select_folds:\n",
    "        exp_name = f'{exp_no}-{valid_fold}'\n",
    "        split = f'fold_{valid_fold}'\n",
    "        model_name = model_names[i]\n",
    "        !./run_with_retries.sh \"python -m run.train\\\n",
    "            project=$project\\\n",
    "            exp_no=$exp_no\\\n",
    "            exp_name=$exp_name\\\n",
    "            dir.output_dir=$output_dir\\\n",
    "            split=$split\\\n",
    "            model=$model\\\n",
    "            model.model_name=$model_name\\\n",
    "            batch_size_train=$batch_size_train\\\n",
    "            batch_size_valid=$batch_size_valid\\\n",
    "            num_workers=$num_workers\\\n",
    "            epoch=$epoch\\\n",
    "            optimizer.lr=$lr\"\n",
    "\n",
    "        wandb.finish()\n",
    "\n",
    "        torch.cuda.empty_cache()\n",
    "        gc.collect()"
   ]
  },
  {
   "cell_type": "code",
   "execution_count": null,
   "metadata": {},
   "outputs": [],
   "source": []
  }
 ],
 "metadata": {
  "kernelspec": {
   "display_name": ".venv",
   "language": "python",
   "name": "python3"
  },
  "language_info": {
   "codemirror_mode": {
    "name": "ipython",
    "version": 3
   },
   "file_extension": ".py",
   "mimetype": "text/x-python",
   "name": "python",
   "nbconvert_exporter": "python",
   "pygments_lexer": "ipython3",
   "version": "3.12.7"
  }
 },
 "nbformat": 4,
 "nbformat_minor": 2
}
