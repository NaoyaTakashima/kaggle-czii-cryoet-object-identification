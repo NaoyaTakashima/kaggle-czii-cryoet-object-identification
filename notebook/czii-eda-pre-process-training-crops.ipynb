{
 "cells": [
  {
   "cell_type": "markdown",
   "id": "9d9324ff",
   "metadata": {
    "papermill": {
     "duration": 0.01365,
     "end_time": "2024-12-09T04:05:36.454744",
     "exception": false,
     "start_time": "2024-12-09T04:05:36.441094",
     "status": "completed"
    },
    "tags": []
   },
   "source": [
    "## Introduction\n",
    "I started with [David List's Notebook](https://www.kaggle.com/code/davidlist/experiment-ts-6-4-visualization), and adapting it to make a dataset by slicing 16x16x16 arrays around the label centroids, also adding an 'empty' class, by randomly sampling from the remaining volume.  I have shared the dataset [here](https://www.kaggle.com/datasets/ollypowell/czii-16x16x16-training-npy)."
   ]
  },
  {
   "cell_type": "code",
   "execution_count": null,
   "id": "fc89f48e",
   "metadata": {
    "execution": {
     "iopub.execute_input": "2024-12-09T04:05:51.560942Z",
     "iopub.status.busy": "2024-12-09T04:05:51.560510Z",
     "iopub.status.idle": "2024-12-09T04:05:54.318349Z",
     "shell.execute_reply": "2024-12-09T04:05:54.317384Z"
    },
    "papermill": {
     "duration": 2.774794,
     "end_time": "2024-12-09T04:05:54.320770",
     "exception": false,
     "start_time": "2024-12-09T04:05:51.545976",
     "status": "completed"
    },
    "tags": []
   },
   "outputs": [],
   "source": [
    "from pathlib import Path\n",
    "import random\n",
    "import json\n",
    "import pandas as pd\n",
    "import numpy as np\n",
    "import matplotlib.pyplot as plt\n",
    "import seaborn as sns\n",
    "import zarr"
   ]
  },
  {
   "cell_type": "code",
   "execution_count": null,
   "id": "b293044f",
   "metadata": {
    "execution": {
     "iopub.execute_input": "2024-12-09T04:05:54.349580Z",
     "iopub.status.busy": "2024-12-09T04:05:54.348885Z",
     "iopub.status.idle": "2024-12-09T04:05:54.382522Z",
     "shell.execute_reply": "2024-12-09T04:05:54.380991Z"
    },
    "papermill": {
     "duration": 0.051158,
     "end_time": "2024-12-09T04:05:54.385233",
     "exception": false,
     "start_time": "2024-12-09T04:05:54.334075",
     "status": "completed"
    },
    "tags": []
   },
   "outputs": [],
   "source": [
    "class NotebookConfig:\n",
    "    CROP_SIZE = 16\n",
    "    NUM_EMPTY = 500\n",
    "    OBJECT_RADII_A = {'apo-ferritin': 60, \n",
    "                      'beta-amylase': 65, \n",
    "                      'beta-galactosidase': 90, \n",
    "                      'ribosome': 150,\n",
    "                      'thyroglobulin':130,\n",
    "                      'virus-like-particle':135}\n",
    "    ZARR_SCALE = 10.012444  #Maps the pixel scale to the physical scale in Angstroms.  Found in the .zarr attributes file.\n",
    "    def __init__(self):\n",
    "        self.OBJECT_RADII_VOX  = {name: int(round(rad / self.ZARR_SCALE))\n",
    "                                  for name, rad in self.OBJECT_RADII_A.items()}\n",
    "\n",
    "class Paths:\n",
    "    def __init__(self, data_fldr, results_fldr):\n",
    "        _czii =  'czii-cryo-et-object-identification'\n",
    "        self.RESULTS_FLDR = results_fldr\n",
    "        self.TRAIN_FLDR = data_fldr / f'{_czii}/train'\n",
    "        self.TRAIN_LABELS_FLDR = self.TRAIN_FLDR / 'overlay/ExperimentRuns'\n",
    "        self.TRAIN_ZARS_FLDR = self.TRAIN_FLDR / 'static/ExperimentRuns'\n",
    "        self.TEST_ZARS_FLDR = data_fldr / f'{_czii}/test/static/ExperimentRuns'\n",
    "        self.TEST_NMS = [fldr.name for fldr in self.TEST_ZARS_FLDR.iterdir()]\n",
    "        self.TRAIN_NMS = [fldr.name for fldr in self.TRAIN_ZARS_FLDR.iterdir()]\n",
    "\n",
    "        self.TYPES = ['apo-ferritin', \n",
    "                      'beta-amylase', \n",
    "                      'beta-galactosidase', \n",
    "                      'ribosome',\n",
    "                      'thyroglobulin',\n",
    "                      'virus-like-particle']\n",
    "\n",
    "        _all_classes = self.TYPES + ['empty']\n",
    "        _label_rel_pths = {name : f'Picks/{name}.json' for name in self.TYPES}\n",
    "        _label_fldrs = [p for p in self.TRAIN_LABELS_FLDR.iterdir()]\n",
    "        self.DESTN_FLDRS  = {particle_type: self.RESULTS_FLDR / particle_type for particle_type in _all_classes}\n",
    "        [dir_path.mkdir(parents=True, exist_ok=True) for dir_path in self.DESTN_FLDRS.values()]\n",
    "\n",
    "        self.LABELS = {sub_dir.name: {key: str(sub_dir / val) for key, val in _label_rel_pths.items()}\n",
    "                        for sub_dir in _label_fldrs if sub_dir.is_dir()}\n",
    "        \n",
    "        self.TRAIN_DN_ZARS =  {dir_path.name: self.TRAIN_ZARS_FLDR / \n",
    "                               f'{dir_path.name}/VoxelSpacing10.000/denoised.zarr'\n",
    "                                for dir_path in self.TRAIN_ZARS_FLDR.iterdir()}\n",
    "        self.TRAIN_DCON_ZARS =  {dir_path.name: self.TRAIN_ZARS_FLDR / \n",
    "                               f'{dir_path.name}/VoxelSpacing10.000/ctfdeconvolved.zarr'\n",
    "                                for dir_path in self.TRAIN_ZARS_FLDR.iterdir()}\n",
    "        self.TRAIN_ISO_ZARS =  {dir_path.name: self.TRAIN_ZARS_FLDR / \n",
    "                               f'{dir_path.name}/VoxelSpacing10.000/isonetcorrected.zarr'\n",
    "                                for dir_path in self.TRAIN_ZARS_FLDR.iterdir()}\n",
    "        self.TRAIN_WBP_ZARS =  {dir_path.name: self.TRAIN_ZARS_FLDR / \n",
    "                                f'{dir_path.name}/VoxelSpacing10.000/wbp.zarr'\n",
    "                                for dir_path in self.TRAIN_ZARS_FLDR.iterdir()}\n",
    "\n",
    "        print(f'Test Folders: {self.TEST_NMS}')\n",
    "        print(f'Train Folders: {self.TRAIN_NMS}\\n')\n",
    "        _denoised_files = [f'{f.parent.parent.name}/{f.parent.name}/{f.name}'\n",
    "                              for f in self.TRAIN_DN_ZARS.values()]\n",
    "        print(f'Denoised Train Zarr Files:\\n{_denoised_files}')\n",
    "        print(f\"\\nLabels for 'TS_6_4':\\n{self.LABELS['TS_6_4']}\")\n",
    "\n",
    "input_path = Path('/home/naoya/kaggle/czii/input')\n",
    "output_path = Path('/home/naoya/kaggle/czii/working')\n",
    "\n",
    "paths = Paths(input_path, output_path)\n",
    "cfg = NotebookConfig()"
   ]
  },
  {
   "cell_type": "markdown",
   "id": "41f2bfc5",
   "metadata": {
    "papermill": {
     "duration": 0.013366,
     "end_time": "2024-12-09T04:05:54.412008",
     "exception": false,
     "start_time": "2024-12-09T04:05:54.398642",
     "status": "completed"
    },
    "tags": []
   },
   "source": [
    "## Explore Data dimensions and quantities\n",
    "### Summary\n",
    "**Train**\n",
    "* 7 Scans in total: *TS_5_4*, *TS_6_4*, *TS_6_6*, *TS_69_2*, *TS_73_6*, *TS_86_3*, *TS_99_9*\n",
    "* TS_6_4 has timensions 630 x 630 x 184  (Highest resolution)\n",
    "* Labels -Picks in `.json` format with seperate files for each of 6 classes\n",
    "* The scans in `.zarr` format, with 4 variations: *CTF Deconvolved*, *Denoised*, *IsoNetCorrected*, & *WPB*\n",
    "\n",
    "**Test Sample**\n",
    "* 3 Scans only: *TS_5_4*, *TS_6_4*, *TS_69_2*  (All present in the Train collection_\n",
    "* *Denoised* Only\n",
    "* No labels\n",
    "\n",
    "**Labels**\n",
    "* 1269 total object instances, with class sizes varying from 87 (beta-amylase) to 375 (apo-ferritin)\n",
    "* Nominal radii ranging from 60 (apo-ferritin) to 150 (ribosome)\n",
    "* With a voxel size of 10 Angstroms, the above is 6-15 voxel widths.  So could potentially be represented by 16x16x16 blocks."
   ]
  },
  {
   "cell_type": "code",
   "execution_count": null,
   "id": "746211ad",
   "metadata": {
    "execution": {
     "iopub.execute_input": "2024-12-09T04:05:54.441178Z",
     "iopub.status.busy": "2024-12-09T04:05:54.440719Z",
     "iopub.status.idle": "2024-12-09T04:05:54.764335Z",
     "shell.execute_reply": "2024-12-09T04:05:54.763128Z"
    },
    "papermill": {
     "duration": 0.340535,
     "end_time": "2024-12-09T04:05:54.766626",
     "exception": false,
     "start_time": "2024-12-09T04:05:54.426091",
     "status": "completed"
    },
    "tags": []
   },
   "outputs": [],
   "source": [
    "all_samples = [key for key in paths.LABELS.keys()]\n",
    "all_types = paths.TYPES\n",
    "flattened = []\n",
    "for sample in all_samples:\n",
    "    for particle_type in all_types: \n",
    "        json_path = Path(paths.LABELS[sample][particle_type])\n",
    "        with json_path.open(\"r\", encoding=\"utf-8\") as file:\n",
    "            data = json.load(file)['points']\n",
    "        for point in data:\n",
    "            new_entry = {}\n",
    "            new_entry['sample_id'] = sample\n",
    "            new_entry['object_type'] = particle_type\n",
    "            new_entry['x'] = point['location']['x']\n",
    "            new_entry['y'] = point['location']['y']\n",
    "            new_entry['z'] = point['location']['z']\n",
    "            new_entry['Size (A)'] = cfg.OBJECT_RADII_A[particle_type]\n",
    "            new_entry['Size (V)'] = cfg.OBJECT_RADII_VOX[particle_type]\n",
    "            flattened.append(new_entry)\n",
    "df = pd.DataFrame(flattened)\n",
    "df['Vol (V3)'] = round(4  * np.pi * (df['Size (V)']/2)** 3  / 3 ).astype(int)\n",
    "df.head()"
   ]
  },
  {
   "cell_type": "code",
   "execution_count": null,
   "id": "f90443f8",
   "metadata": {
    "execution": {
     "iopub.execute_input": "2024-12-09T04:05:54.795346Z",
     "iopub.status.busy": "2024-12-09T04:05:54.794946Z",
     "iopub.status.idle": "2024-12-09T04:05:54.801632Z",
     "shell.execute_reply": "2024-12-09T04:05:54.800615Z"
    },
    "papermill": {
     "duration": 0.023755,
     "end_time": "2024-12-09T04:05:54.803836",
     "exception": false,
     "start_time": "2024-12-09T04:05:54.780081",
     "status": "completed"
    },
    "tags": []
   },
   "outputs": [],
   "source": [
    "f'There are {len(df)} labelled particles'"
   ]
  },
  {
   "cell_type": "markdown",
   "id": "e6803491",
   "metadata": {
    "papermill": {
     "duration": 0.013488,
     "end_time": "2024-12-09T04:05:54.830598",
     "exception": false,
     "start_time": "2024-12-09T04:05:54.817110",
     "status": "completed"
    },
    "tags": []
   },
   "source": [
    "Let's consider what would happen if we cropped out cubes of small volume by using these labels, and worked with those instead of uniform patches of the whole volume.  \n",
    "\n",
    "If all these particles were non-contiguous, and I was to crop out just the cube around their centres, what proportion of the total volume would this represent?"
   ]
  },
  {
   "cell_type": "code",
   "execution_count": null,
   "id": "b072ef07",
   "metadata": {
    "execution": {
     "iopub.execute_input": "2024-12-09T04:05:54.858510Z",
     "iopub.status.busy": "2024-12-09T04:05:54.858119Z",
     "iopub.status.idle": "2024-12-09T04:05:54.866457Z",
     "shell.execute_reply": "2024-12-09T04:05:54.865340Z"
    },
    "papermill": {
     "duration": 0.02496,
     "end_time": "2024-12-09T04:05:54.868661",
     "exception": false,
     "start_time": "2024-12-09T04:05:54.843701",
     "status": "completed"
    },
    "tags": []
   },
   "outputs": [],
   "source": [
    "total_vol = 630 * 630 * 184\n",
    "cropped_vol = len(df) * (cfg.CROP_SIZE)**3 \n",
    "fraction_cropped = cropped_vol / total_vol\n",
    "fraction_labelled = df['Vol (V3)'].sum() / total_vol\n",
    "fraction_cropped"
   ]
  },
  {
   "cell_type": "code",
   "execution_count": null,
   "id": "2dd395a6",
   "metadata": {
    "execution": {
     "iopub.execute_input": "2024-12-09T04:05:54.898090Z",
     "iopub.status.busy": "2024-12-09T04:05:54.897008Z",
     "iopub.status.idle": "2024-12-09T04:05:54.903618Z",
     "shell.execute_reply": "2024-12-09T04:05:54.902645Z"
    },
    "papermill": {
     "duration": 0.023555,
     "end_time": "2024-12-09T04:05:54.905714",
     "exception": false,
     "start_time": "2024-12-09T04:05:54.882159",
     "status": "completed"
    },
    "tags": []
   },
   "outputs": [],
   "source": [
    "fraction_labelled"
   ]
  },
  {
   "cell_type": "markdown",
   "id": "e9e4c3c6",
   "metadata": {
    "papermill": {
     "duration": 0.013314,
     "end_time": "2024-12-09T04:05:54.932661",
     "exception": false,
     "start_time": "2024-12-09T04:05:54.919347",
     "status": "completed"
    },
    "tags": []
   },
   "source": [
    "So with a cube size of 16, we are using 7% the provided volume for cubes in our training dataset.  But only 1.5% of the original volume is nominally occupied by the particles of interest by simplistically modelling the particles as spheres.\n",
    "\n",
    "If it actually was this simple then we have no trouble finding some extra volume to make an 'empty' class.  However we were told by the competition hosts that the volume is under-labelled.  So there are some potential false negatives to be wary of in this extra space.\n",
    "\n",
    "One other consideration here, is how much of a gain we can get by masking out the empty space with a first-stage 3d process, like U-net, or Classical convolutional methods, and classifying on a second step.  With 32x32x32, we *only* halve the volume of space to process, and that assumes that points of interest are perfectly recognised by a previous step.  On the other hand, if this second step was a 2d classifier, on for example a slice through the middle of the cube, then the speed gain would be enormous, so there is no need to consider smaller cubes.\n",
    "\n",
    "With 16x16x16, we reduce the volume we need to process by a factor of 14.  This ought to be super fast.  We can then be generous with detection thresholds to have excessive proposed particle locations (low precision, high recall),  just so long as we have an empty class in the subsequent classifier.\n",
    "\n",
    "Now let's take a look at potential class imbalance"
   ]
  },
  {
   "cell_type": "code",
   "execution_count": null,
   "id": "dc97030c",
   "metadata": {
    "execution": {
     "iopub.execute_input": "2024-12-09T04:05:54.961311Z",
     "iopub.status.busy": "2024-12-09T04:05:54.960865Z",
     "iopub.status.idle": "2024-12-09T04:05:54.975599Z",
     "shell.execute_reply": "2024-12-09T04:05:54.974485Z"
    },
    "papermill": {
     "duration": 0.031625,
     "end_time": "2024-12-09T04:05:54.977734",
     "exception": false,
     "start_time": "2024-12-09T04:05:54.946109",
     "status": "completed"
    },
    "tags": []
   },
   "outputs": [],
   "source": [
    "df['object_type'].value_counts()"
   ]
  },
  {
   "cell_type": "code",
   "execution_count": null,
   "id": "ccaec7de",
   "metadata": {
    "execution": {
     "iopub.execute_input": "2024-12-09T04:05:55.006579Z",
     "iopub.status.busy": "2024-12-09T04:05:55.006190Z",
     "iopub.status.idle": "2024-12-09T04:05:55.014954Z",
     "shell.execute_reply": "2024-12-09T04:05:55.013947Z"
    },
    "papermill": {
     "duration": 0.025697,
     "end_time": "2024-12-09T04:05:55.017032",
     "exception": false,
     "start_time": "2024-12-09T04:05:54.991335",
     "status": "completed"
    },
    "tags": []
   },
   "outputs": [],
   "source": [
    "df['sample_id'].value_counts()"
   ]
  },
  {
   "cell_type": "markdown",
   "id": "82fdc8e8",
   "metadata": {
    "papermill": {
     "duration": 0.013291,
     "end_time": "2024-12-09T04:05:55.044009",
     "exception": false,
     "start_time": "2024-12-09T04:05:55.030718",
     "status": "completed"
    },
    "tags": []
   },
   "source": [
    "## Examine the Tomographs"
   ]
  },
  {
   "cell_type": "code",
   "execution_count": null,
   "id": "aa97c8a5",
   "metadata": {
    "execution": {
     "iopub.execute_input": "2024-12-09T04:05:55.072815Z",
     "iopub.status.busy": "2024-12-09T04:05:55.072430Z",
     "iopub.status.idle": "2024-12-09T04:05:55.162681Z",
     "shell.execute_reply": "2024-12-09T04:05:55.161471Z"
    },
    "papermill": {
     "duration": 0.107603,
     "end_time": "2024-12-09T04:05:55.165106",
     "exception": false,
     "start_time": "2024-12-09T04:05:55.057503",
     "status": "completed"
    },
    "tags": []
   },
   "outputs": [],
   "source": [
    "# Load the first zarr.\n",
    "z_ts_6_4 = zarr.open(str(paths.TRAIN_DN_ZARS['TS_6_4']), mode='r')\n",
    "z_ts_6_4_iso = zarr.open(str(paths.TRAIN_ISO_ZARS['TS_6_4']), mode='r')\n",
    "z_ts_6_4_dcon = zarr.open(str(paths.TRAIN_DCON_ZARS['TS_6_4']), mode='r')\n",
    "z_ts_6_4_wbp = zarr.open(str(paths.TRAIN_WBP_ZARS['TS_6_4']), mode='r')"
   ]
  },
  {
   "cell_type": "markdown",
   "id": "877fdbf6",
   "metadata": {
    "papermill": {
     "duration": 0.013333,
     "end_time": "2024-12-09T04:05:55.192609",
     "exception": false,
     "start_time": "2024-12-09T04:05:55.179276",
     "status": "completed"
    },
    "tags": []
   },
   "source": [
    "/kaggle/input/czii-cryo-et-object-identification/train/static/ExperimentRuns/TS_6_4/VoxelSpacing10.000/denoised.zarr"
   ]
  },
  {
   "cell_type": "code",
   "execution_count": null,
   "id": "7dd9171f",
   "metadata": {
    "execution": {
     "iopub.execute_input": "2024-12-09T04:05:55.221706Z",
     "iopub.status.busy": "2024-12-09T04:05:55.221301Z",
     "iopub.status.idle": "2024-12-09T04:05:55.259570Z",
     "shell.execute_reply": "2024-12-09T04:05:55.258391Z"
    },
    "papermill": {
     "duration": 0.05547,
     "end_time": "2024-12-09T04:05:55.261877",
     "exception": false,
     "start_time": "2024-12-09T04:05:55.206407",
     "status": "completed"
    },
    "tags": []
   },
   "outputs": [],
   "source": [
    "print(z_ts_6_4)\n",
    "print(z_ts_6_4[0].shape)\n",
    "print(z_ts_6_4[1].shape)\n",
    "print(z_ts_6_4[2].shape)"
   ]
  },
  {
   "cell_type": "markdown",
   "id": "d5f31372",
   "metadata": {
    "papermill": {
     "duration": 0.013401,
     "end_time": "2024-12-09T04:05:55.289776",
     "exception": false,
     "start_time": "2024-12-09T04:05:55.276375",
     "status": "completed"
    },
    "tags": []
   },
   "source": [
    "Looking only at the high resolution, let's check all the Zarr files are the same size"
   ]
  },
  {
   "cell_type": "code",
   "execution_count": null,
   "id": "7e467be7",
   "metadata": {
    "execution": {
     "iopub.execute_input": "2024-12-09T04:05:55.318628Z",
     "iopub.status.busy": "2024-12-09T04:05:55.318211Z",
     "iopub.status.idle": "2024-12-09T04:05:55.442806Z",
     "shell.execute_reply": "2024-12-09T04:05:55.441589Z"
    },
    "papermill": {
     "duration": 0.141649,
     "end_time": "2024-12-09T04:05:55.445032",
     "exception": false,
     "start_time": "2024-12-09T04:05:55.303383",
     "status": "completed"
    },
    "tags": []
   },
   "outputs": [],
   "source": [
    "for path in paths.TRAIN_DN_ZARS.values():\n",
    "    array = zarr.open(str(path), mode='r')[0]\n",
    "    print(array.shape)"
   ]
  },
  {
   "cell_type": "markdown",
   "id": "26ac97a1",
   "metadata": {
    "papermill": {
     "duration": 0.013659,
     "end_time": "2024-12-09T04:05:55.472985",
     "exception": false,
     "start_time": "2024-12-09T04:05:55.459326",
     "status": "completed"
    },
    "tags": []
   },
   "source": [
    "### High Resolution\n",
    "Plot the first image at 100 dpi.  Plot all 184 images in a grid after that."
   ]
  },
  {
   "cell_type": "code",
   "execution_count": null,
   "id": "9f07940c",
   "metadata": {
    "execution": {
     "iopub.execute_input": "2024-12-09T04:05:55.502977Z",
     "iopub.status.busy": "2024-12-09T04:05:55.502549Z",
     "iopub.status.idle": "2024-12-09T04:05:59.078600Z",
     "shell.execute_reply": "2024-12-09T04:05:59.077498Z"
    },
    "papermill": {
     "duration": 3.600174,
     "end_time": "2024-12-09T04:05:59.086984",
     "exception": false,
     "start_time": "2024-12-09T04:05:55.486810",
     "status": "completed"
    },
    "tags": []
   },
   "outputs": [],
   "source": [
    "fig = plt.figure(figsize=(6.3,6.3))\n",
    "_ = plt.imshow(z_ts_6_4[0][0])"
   ]
  },
  {
   "cell_type": "markdown",
   "id": "2c368abe",
   "metadata": {
    "papermill": {
     "duration": 0.024728,
     "end_time": "2024-12-09T04:05:59.137497",
     "exception": false,
     "start_time": "2024-12-09T04:05:59.112769",
     "status": "completed"
    },
    "tags": []
   },
   "source": [
    "Plot the first 25 of...not sure what we're looking at yet.  :)"
   ]
  },
  {
   "cell_type": "code",
   "execution_count": null,
   "id": "973be714",
   "metadata": {
    "execution": {
     "iopub.execute_input": "2024-12-09T04:05:59.188230Z",
     "iopub.status.busy": "2024-12-09T04:05:59.187801Z",
     "iopub.status.idle": "2024-12-09T04:07:49.720696Z",
     "shell.execute_reply": "2024-12-09T04:07:49.719494Z"
    },
    "papermill": {
     "duration": 110.755704,
     "end_time": "2024-12-09T04:07:49.917586",
     "exception": false,
     "start_time": "2024-12-09T04:05:59.161882",
     "status": "completed"
    },
    "tags": []
   },
   "outputs": [],
   "source": [
    "\n",
    "fig = plt.figure(figsize=(10,74))\n",
    "for i in range(184):\n",
    "    ax = plt.subplot(37, 5, i + 1)\n",
    "    plt.xticks([])\n",
    "    plt.yticks([])\n",
    "    plt.imshow(z_ts_6_4[0][i])"
   ]
  },
  {
   "cell_type": "markdown",
   "id": "0f17d08a",
   "metadata": {
    "papermill": {
     "duration": 0.108502,
     "end_time": "2024-12-09T04:07:50.136912",
     "exception": false,
     "start_time": "2024-12-09T04:07:50.028410",
     "status": "completed"
    },
    "tags": []
   },
   "source": [
    "### Medium Resolution\n",
    "Plot the first image at 100 dpi.  Plot all 92 images in a grid after that."
   ]
  },
  {
   "cell_type": "code",
   "execution_count": null,
   "id": "1fceff44",
   "metadata": {
    "execution": {
     "iopub.execute_input": "2024-12-09T04:07:50.357686Z",
     "iopub.status.busy": "2024-12-09T04:07:50.357258Z",
     "iopub.status.idle": "2024-12-09T04:07:51.395628Z",
     "shell.execute_reply": "2024-12-09T04:07:51.394525Z"
    },
    "papermill": {
     "duration": 1.1515,
     "end_time": "2024-12-09T04:07:51.398275",
     "exception": false,
     "start_time": "2024-12-09T04:07:50.246775",
     "status": "completed"
    },
    "tags": []
   },
   "outputs": [],
   "source": [
    "fig = plt.figure(figsize=(3.15,3.15))\n",
    "_ = plt.imshow(z_ts_6_4[1][0])"
   ]
  },
  {
   "cell_type": "code",
   "execution_count": null,
   "id": "d11f8bac",
   "metadata": {
    "execution": {
     "iopub.execute_input": "2024-12-09T04:07:51.624684Z",
     "iopub.status.busy": "2024-12-09T04:07:51.624220Z",
     "iopub.status.idle": "2024-12-09T04:08:10.551914Z",
     "shell.execute_reply": "2024-12-09T04:08:10.550651Z"
    },
    "papermill": {
     "duration": 19.071866,
     "end_time": "2024-12-09T04:08:10.587317",
     "exception": false,
     "start_time": "2024-12-09T04:07:51.515451",
     "status": "completed"
    },
    "tags": []
   },
   "outputs": [],
   "source": [
    "fig = plt.figure(figsize=(10,38))\n",
    "for i in range(92):\n",
    "    ax = plt.subplot(19, 5, i + 1)\n",
    "    plt.xticks([])\n",
    "    plt.yticks([])\n",
    "    plt.imshow(z_ts_6_4[1][i])"
   ]
  },
  {
   "cell_type": "markdown",
   "id": "30f02030",
   "metadata": {
    "papermill": {
     "duration": 0.161403,
     "end_time": "2024-12-09T04:08:10.919465",
     "exception": false,
     "start_time": "2024-12-09T04:08:10.758062",
     "status": "completed"
    },
    "tags": []
   },
   "source": [
    "### Low Resolution\n",
    "Plot the first image at 100 dpi.  Plot all 46 images in a grid after that."
   ]
  },
  {
   "cell_type": "code",
   "execution_count": null,
   "id": "4622a879",
   "metadata": {
    "execution": {
     "iopub.execute_input": "2024-12-09T04:08:11.229870Z",
     "iopub.status.busy": "2024-12-09T04:08:11.229270Z",
     "iopub.status.idle": "2024-12-09T04:08:11.446202Z",
     "shell.execute_reply": "2024-12-09T04:08:11.445145Z"
    },
    "papermill": {
     "duration": 0.375961,
     "end_time": "2024-12-09T04:08:11.449246",
     "exception": false,
     "start_time": "2024-12-09T04:08:11.073285",
     "status": "completed"
    },
    "tags": []
   },
   "outputs": [],
   "source": [
    "fig = plt.figure(figsize=(1.58,1.58))\n",
    "_ = plt.imshow(z_ts_6_4[2][0])"
   ]
  },
  {
   "cell_type": "code",
   "execution_count": null,
   "id": "266346c4",
   "metadata": {
    "execution": {
     "iopub.execute_input": "2024-12-09T04:08:11.757499Z",
     "iopub.status.busy": "2024-12-09T04:08:11.757063Z",
     "iopub.status.idle": "2024-12-09T04:08:15.992461Z",
     "shell.execute_reply": "2024-12-09T04:08:15.991161Z"
    },
    "papermill": {
     "duration": 4.410757,
     "end_time": "2024-12-09T04:08:16.013367",
     "exception": false,
     "start_time": "2024-12-09T04:08:11.602610",
     "status": "completed"
    },
    "tags": []
   },
   "outputs": [],
   "source": [
    "fig = plt.figure(figsize=(10,20))\n",
    "for i in range(46):\n",
    "    ax = plt.subplot(10, 5, i + 1)\n",
    "    plt.xticks([])\n",
    "    plt.yticks([])\n",
    "    plt.imshow(z_ts_6_4[2][i])"
   ]
  },
  {
   "cell_type": "markdown",
   "id": "888c5ec5",
   "metadata": {
    "papermill": {
     "duration": 0.184506,
     "end_time": "2024-12-09T04:08:16.400438",
     "exception": false,
     "start_time": "2024-12-09T04:08:16.215932",
     "status": "completed"
    },
    "tags": []
   },
   "source": [
    "### Denoised, IsoNet Corrected, CTF Deconvolved, and Weighted Back Projection\n",
    "\n",
    "Next plot each of the different image types present in the training directories.  This time just one high resolution image each of the same layer."
   ]
  },
  {
   "cell_type": "code",
   "execution_count": null,
   "id": "377d841c",
   "metadata": {
    "execution": {
     "iopub.execute_input": "2024-12-09T04:08:16.756393Z",
     "iopub.status.busy": "2024-12-09T04:08:16.755986Z",
     "iopub.status.idle": "2024-12-09T04:08:24.265621Z",
     "shell.execute_reply": "2024-12-09T04:08:24.264401Z"
    },
    "papermill": {
     "duration": 7.695228,
     "end_time": "2024-12-09T04:08:24.273048",
     "exception": false,
     "start_time": "2024-12-09T04:08:16.577820",
     "status": "completed"
    },
    "tags": []
   },
   "outputs": [],
   "source": [
    "fig = plt.figure(figsize=(10,10))\n",
    "ax = plt.subplot(2, 2, 1)\n",
    "plt.xticks([])\n",
    "plt.yticks([])\n",
    "plt.title('Denoised')\n",
    "plt.imshow(z_ts_6_4[0][62], cmap='gray')\n",
    "ax = plt.subplot(2, 2, 2)\n",
    "plt.xticks([])\n",
    "plt.yticks([])\n",
    "plt.title('IsoNet Corrected')\n",
    "plt.imshow(z_ts_6_4_iso[0][62], cmap='gray')\n",
    "ax = plt.subplot(2, 2, 3)\n",
    "plt.xticks([])\n",
    "plt.yticks([])\n",
    "plt.title('CTF Deconvolved')\n",
    "plt.imshow(z_ts_6_4_dcon[0][62], cmap='gray')\n",
    "ax = plt.subplot(2, 2, 4)\n",
    "plt.xticks([])\n",
    "plt.yticks([])\n",
    "plt.title('Weighted Back Projection')\n",
    "_ = plt.imshow(z_ts_6_4_wbp[0][62], cmap='gray')\n"
   ]
  },
  {
   "cell_type": "markdown",
   "id": "7fa84c3a",
   "metadata": {
    "papermill": {
     "duration": 0.186853,
     "end_time": "2024-12-09T04:08:24.680447",
     "exception": false,
     "start_time": "2024-12-09T04:08:24.493594",
     "status": "completed"
    },
    "tags": []
   },
   "source": [
    "### Ribosome Identification\n",
    "\n",
    "Now that we can plot the images the next step is to try to identify structures of interest.  Lists of those structures for TS_6_4 are in the train/overlay directory.  We'll start with ribosomes.\n",
    "\n",
    "Find all of the ribosomes between 600 and 650 in the z-axis, and plot them on slide 62 to see if we get something reasonable.  If we do that suggests the origin is in the upper left in the x and y directions, and in the first image in the z direction."
   ]
  },
  {
   "cell_type": "code",
   "execution_count": null,
   "id": "d8b8b783",
   "metadata": {
    "execution": {
     "iopub.execute_input": "2024-12-09T04:08:25.063914Z",
     "iopub.status.busy": "2024-12-09T04:08:25.063392Z",
     "iopub.status.idle": "2024-12-09T04:08:25.076648Z",
     "shell.execute_reply": "2024-12-09T04:08:25.075194Z"
    },
    "papermill": {
     "duration": 0.209585,
     "end_time": "2024-12-09T04:08:25.079094",
     "exception": false,
     "start_time": "2024-12-09T04:08:24.869509",
     "status": "completed"
    },
    "tags": []
   },
   "outputs": [],
   "source": [
    "ribosomes_x = []\n",
    "ribosomes_y = []\n",
    "f = open(paths.LABELS['TS_6_4']['ribosome'])\n",
    "for p in json.loads(f.read())['points']:\n",
    "    z = float(p['location']['z'])\n",
    "    if z >= 600 and z < 650:\n",
    "        ribosomes_x.append(float(p['location']['x'])/10)\n",
    "        ribosomes_y.append(float(p['location']['y'])/10)\n",
    "        print(p['location'])"
   ]
  },
  {
   "cell_type": "markdown",
   "id": "0db71522",
   "metadata": {
    "papermill": {
     "duration": 0.187928,
     "end_time": "2024-12-09T04:08:25.453935",
     "exception": false,
     "start_time": "2024-12-09T04:08:25.266007",
     "status": "completed"
    },
    "tags": []
   },
   "source": [
    "Looking at the plotted images, we seem to have compelling matches."
   ]
  },
  {
   "cell_type": "code",
   "execution_count": null,
   "id": "9edf0464",
   "metadata": {
    "execution": {
     "iopub.execute_input": "2024-12-09T04:08:25.835157Z",
     "iopub.status.busy": "2024-12-09T04:08:25.834734Z",
     "iopub.status.idle": "2024-12-09T04:08:27.024839Z",
     "shell.execute_reply": "2024-12-09T04:08:27.023760Z"
    },
    "papermill": {
     "duration": 1.384724,
     "end_time": "2024-12-09T04:08:27.029344",
     "exception": false,
     "start_time": "2024-12-09T04:08:25.644620",
     "status": "completed"
    },
    "tags": []
   },
   "outputs": [],
   "source": [
    "fig = plt.figure(figsize=(10,5))\n",
    "ax = plt.subplot(1, 2, 1)\n",
    "plt.xticks([])\n",
    "plt.yticks([])\n",
    "plt.imshow(z_ts_6_4[0][62], cmap='gray', vmin=-0.00005, vmax=0.00005)\n",
    "ax = plt.subplot(1, 2, 2)\n",
    "plt.xticks([])\n",
    "plt.yticks([])\n",
    "plt.imshow(z_ts_6_4[0][62], cmap='gray', vmin=-0.00005, vmax=0.00005)\n",
    "_ = plt.scatter(ribosomes_x, ribosomes_y, edgecolor='red', facecolor='none')"
   ]
  },
  {
   "cell_type": "markdown",
   "id": "8221a182",
   "metadata": {
    "papermill": {
     "duration": 0.188171,
     "end_time": "2024-12-09T04:08:27.431223",
     "exception": false,
     "start_time": "2024-12-09T04:08:27.243052",
     "status": "completed"
    },
    "tags": []
   },
   "source": [
    "### Virus Identification\n",
    "\n",
    "Repeat the same process for viruses except with a different z-value."
   ]
  },
  {
   "cell_type": "code",
   "execution_count": null,
   "id": "970778cf",
   "metadata": {
    "execution": {
     "iopub.execute_input": "2024-12-09T04:08:27.813236Z",
     "iopub.status.busy": "2024-12-09T04:08:27.812065Z",
     "iopub.status.idle": "2024-12-09T04:08:27.820647Z",
     "shell.execute_reply": "2024-12-09T04:08:27.819596Z"
    },
    "papermill": {
     "duration": 0.202095,
     "end_time": "2024-12-09T04:08:27.822665",
     "exception": false,
     "start_time": "2024-12-09T04:08:27.620570",
     "status": "completed"
    },
    "tags": []
   },
   "outputs": [],
   "source": [
    "virus_x = []\n",
    "virus_y = []\n",
    "f = open(paths.LABELS['TS_6_4']['virus-like-particle'])\n",
    "for p in json.loads(f.read())['points']:\n",
    "    z = float(p['location']['z'])\n",
    "    if z >= 670 and z < 700:\n",
    "        virus_x.append(float(p['location']['x'])/10)\n",
    "        virus_y.append(float(p['location']['y'])/10)\n",
    "        print(p['location'])"
   ]
  },
  {
   "cell_type": "markdown",
   "id": "07bdfa9d",
   "metadata": {
    "papermill": {
     "duration": 0.194898,
     "end_time": "2024-12-09T04:08:28.206733",
     "exception": false,
     "start_time": "2024-12-09T04:08:28.011835",
     "status": "completed"
    },
    "tags": []
   },
   "source": [
    "Good matches again."
   ]
  },
  {
   "cell_type": "code",
   "execution_count": null,
   "id": "ff7a4753",
   "metadata": {
    "execution": {
     "iopub.execute_input": "2024-12-09T04:08:28.586556Z",
     "iopub.status.busy": "2024-12-09T04:08:28.586125Z",
     "iopub.status.idle": "2024-12-09T04:08:29.783218Z",
     "shell.execute_reply": "2024-12-09T04:08:29.782051Z"
    },
    "papermill": {
     "duration": 1.391836,
     "end_time": "2024-12-09T04:08:29.787902",
     "exception": false,
     "start_time": "2024-12-09T04:08:28.396066",
     "status": "completed"
    },
    "tags": []
   },
   "outputs": [],
   "source": [
    "fig = plt.figure(figsize=(10,5))\n",
    "ax = plt.subplot(1, 2, 1)\n",
    "plt.xticks([])\n",
    "plt.yticks([])\n",
    "plt.imshow(z_ts_6_4[0][68], cmap='gray', vmin=-0.00005, vmax=0.00005)\n",
    "ax = plt.subplot(1, 2, 2)\n",
    "plt.xticks([])\n",
    "plt.yticks([])\n",
    "plt.imshow(z_ts_6_4[0][68], cmap='gray', vmin=-0.00005, vmax=0.00005)\n",
    "_ = plt.scatter(virus_x, virus_y, edgecolor='red', facecolor='none')"
   ]
  },
  {
   "cell_type": "markdown",
   "id": "6d1016ac",
   "metadata": {
    "papermill": {
     "duration": 0.192059,
     "end_time": "2024-12-09T04:08:30.201477",
     "exception": false,
     "start_time": "2024-12-09T04:08:30.009418",
     "status": "completed"
    },
    "tags": []
   },
   "source": [
    "### Apo-Ferritin Identification"
   ]
  },
  {
   "cell_type": "code",
   "execution_count": null,
   "id": "67b70f54",
   "metadata": {
    "execution": {
     "iopub.execute_input": "2024-12-09T04:08:30.591118Z",
     "iopub.status.busy": "2024-12-09T04:08:30.590731Z",
     "iopub.status.idle": "2024-12-09T04:08:30.601970Z",
     "shell.execute_reply": "2024-12-09T04:08:30.600497Z"
    },
    "papermill": {
     "duration": 0.206409,
     "end_time": "2024-12-09T04:08:30.604249",
     "exception": false,
     "start_time": "2024-12-09T04:08:30.397840",
     "status": "completed"
    },
    "tags": []
   },
   "outputs": [],
   "source": [
    "apo_ferritin_x = []\n",
    "apo_ferritin_y = []\n",
    "f = open(paths.LABELS['TS_6_4']['apo-ferritin'])\n",
    "for p in json.loads(f.read())['points']:\n",
    "    z = float(p['location']['z'])\n",
    "    if z >= 400 and z < 450:\n",
    "        apo_ferritin_x.append(float(p['location']['x'])/10)\n",
    "        apo_ferritin_y.append(float(p['location']['y'])/10)\n",
    "        print(p['location'])"
   ]
  },
  {
   "cell_type": "code",
   "execution_count": null,
   "id": "bb52f15b",
   "metadata": {
    "execution": {
     "iopub.execute_input": "2024-12-09T04:08:31.007634Z",
     "iopub.status.busy": "2024-12-09T04:08:31.007225Z",
     "iopub.status.idle": "2024-12-09T04:08:32.189183Z",
     "shell.execute_reply": "2024-12-09T04:08:32.188083Z"
    },
    "papermill": {
     "duration": 1.3852,
     "end_time": "2024-12-09T04:08:32.192919",
     "exception": false,
     "start_time": "2024-12-09T04:08:30.807719",
     "status": "completed"
    },
    "tags": []
   },
   "outputs": [],
   "source": [
    "fig = plt.figure(figsize=(10,5))\n",
    "ax = plt.subplot(1, 2, 1)\n",
    "plt.xticks([])\n",
    "plt.yticks([])\n",
    "plt.imshow(z_ts_6_4[0][42], cmap='gray', vmin=-0.00005, vmax=0.00005)\n",
    "ax = plt.subplot(1, 2, 2)\n",
    "plt.xticks([])\n",
    "plt.yticks([])\n",
    "plt.imshow(z_ts_6_4[0][42], cmap='gray', vmin=-0.00005, vmax=0.00005)\n",
    "_ = plt.scatter(apo_ferritin_x, apo_ferritin_y, edgecolor='red', facecolor='none')"
   ]
  },
  {
   "cell_type": "markdown",
   "id": "7d22f6ad",
   "metadata": {
    "papermill": {
     "duration": 0.21422,
     "end_time": "2024-12-09T04:08:32.634770",
     "exception": false,
     "start_time": "2024-12-09T04:08:32.420550",
     "status": "completed"
    },
    "tags": []
   },
   "source": [
    "### Beta-Galactosidase Identification"
   ]
  },
  {
   "cell_type": "code",
   "execution_count": null,
   "id": "49637680",
   "metadata": {
    "execution": {
     "iopub.execute_input": "2024-12-09T04:08:33.028040Z",
     "iopub.status.busy": "2024-12-09T04:08:33.027441Z",
     "iopub.status.idle": "2024-12-09T04:08:33.037840Z",
     "shell.execute_reply": "2024-12-09T04:08:33.036609Z"
    },
    "papermill": {
     "duration": 0.210136,
     "end_time": "2024-12-09T04:08:33.039988",
     "exception": false,
     "start_time": "2024-12-09T04:08:32.829852",
     "status": "completed"
    },
    "tags": []
   },
   "outputs": [],
   "source": [
    "beta_galactosidase_x = []\n",
    "beta_galactosidase_y = []\n",
    "f = open(paths.LABELS['TS_6_4']['beta-galactosidase'])\n",
    "for p in json.loads(f.read())['points']:\n",
    "    z = float(p['location']['z'])\n",
    "    if z >= 450 and z < 500:\n",
    "        beta_galactosidase_x.append(float(p['location']['x'])/10)\n",
    "        beta_galactosidase_y.append(float(p['location']['y'])/10)\n",
    "        print(p['location'])"
   ]
  },
  {
   "cell_type": "code",
   "execution_count": null,
   "id": "e418f1bc",
   "metadata": {
    "execution": {
     "iopub.execute_input": "2024-12-09T04:08:33.433420Z",
     "iopub.status.busy": "2024-12-09T04:08:33.432828Z",
     "iopub.status.idle": "2024-12-09T04:08:34.622298Z",
     "shell.execute_reply": "2024-12-09T04:08:34.620891Z"
    },
    "papermill": {
     "duration": 1.390157,
     "end_time": "2024-12-09T04:08:34.625258",
     "exception": false,
     "start_time": "2024-12-09T04:08:33.235101",
     "status": "completed"
    },
    "tags": []
   },
   "outputs": [],
   "source": [
    "fig = plt.figure(figsize=(10,5))\n",
    "ax = plt.subplot(1, 2, 1)\n",
    "plt.xticks([])\n",
    "plt.yticks([])\n",
    "plt.imshow(z_ts_6_4[0][47], cmap='gray', vmin=-0.00005, vmax=0.00005)\n",
    "ax = plt.subplot(1, 2, 2)\n",
    "plt.xticks([])\n",
    "plt.yticks([])\n",
    "plt.imshow(z_ts_6_4[0][47], cmap='gray', vmin=-0.00005, vmax=0.00005)\n",
    "_ = plt.scatter(beta_galactosidase_x, beta_galactosidase_y, edgecolor='red', facecolor='none')"
   ]
  },
  {
   "cell_type": "markdown",
   "id": "3985326f",
   "metadata": {
    "papermill": {
     "duration": 0.203462,
     "end_time": "2024-12-09T04:08:35.045931",
     "exception": false,
     "start_time": "2024-12-09T04:08:34.842469",
     "status": "completed"
    },
    "tags": []
   },
   "source": [
    "### Thyroglobulin Identification"
   ]
  },
  {
   "cell_type": "code",
   "execution_count": null,
   "id": "528242cd",
   "metadata": {
    "execution": {
     "iopub.execute_input": "2024-12-09T04:08:35.444609Z",
     "iopub.status.busy": "2024-12-09T04:08:35.444216Z",
     "iopub.status.idle": "2024-12-09T04:08:35.452611Z",
     "shell.execute_reply": "2024-12-09T04:08:35.451384Z"
    },
    "papermill": {
     "duration": 0.210305,
     "end_time": "2024-12-09T04:08:35.454724",
     "exception": false,
     "start_time": "2024-12-09T04:08:35.244419",
     "status": "completed"
    },
    "tags": []
   },
   "outputs": [],
   "source": [
    "thyroglobulin_x = []\n",
    "thyroglobulin_y = []\n",
    "f = open(paths.LABELS['TS_6_4']['thyroglobulin'])\n",
    "for p in json.loads(f.read())['points']:\n",
    "    z = float(p['location']['z'])\n",
    "    if z >= 550 and z < 600:\n",
    "        thyroglobulin_x.append(float(p['location']['x'])/10)\n",
    "        thyroglobulin_y.append(float(p['location']['y'])/10)\n",
    "        print(p['location'])"
   ]
  },
  {
   "cell_type": "code",
   "execution_count": null,
   "id": "e74f7958",
   "metadata": {
    "execution": {
     "iopub.execute_input": "2024-12-09T04:08:35.852516Z",
     "iopub.status.busy": "2024-12-09T04:08:35.852093Z",
     "iopub.status.idle": "2024-12-09T04:08:37.037286Z",
     "shell.execute_reply": "2024-12-09T04:08:37.036106Z"
    },
    "papermill": {
     "duration": 1.388099,
     "end_time": "2024-12-09T04:08:37.041274",
     "exception": false,
     "start_time": "2024-12-09T04:08:35.653175",
     "status": "completed"
    },
    "tags": []
   },
   "outputs": [],
   "source": [
    "fig = plt.figure(figsize=(10,5))\n",
    "ax = plt.subplot(1, 2, 1)\n",
    "plt.xticks([])\n",
    "plt.yticks([])\n",
    "plt.imshow(z_ts_6_4[0][57], cmap='gray', vmin=-0.00005, vmax=0.00005)\n",
    "ax = plt.subplot(1, 2, 2)\n",
    "plt.xticks([])\n",
    "plt.yticks([])\n",
    "plt.imshow(z_ts_6_4[0][57], cmap='gray', vmin=-0.00005, vmax=0.00005)\n",
    "_ = plt.scatter(thyroglobulin_x, thyroglobulin_y, edgecolor='red', facecolor='none')"
   ]
  },
  {
   "cell_type": "markdown",
   "id": "fbee28ce",
   "metadata": {
    "papermill": {
     "duration": 0.202531,
     "end_time": "2024-12-09T04:08:37.465730",
     "exception": false,
     "start_time": "2024-12-09T04:08:37.263199",
     "status": "completed"
    },
    "tags": []
   },
   "source": [
    "### Ribosome Close-Up\n",
    "\n",
    "The following are zoomed in images of a ribosome from three perspectives, straight on, from the right side (front is to the left) and from the top (front is to the bottom.)  Somewhat unexpected is the difference in image quality from the sides and top."
   ]
  },
  {
   "cell_type": "code",
   "execution_count": null,
   "id": "945d88c3",
   "metadata": {
    "execution": {
     "iopub.execute_input": "2024-12-09T04:08:37.871500Z",
     "iopub.status.busy": "2024-12-09T04:08:37.870494Z",
     "iopub.status.idle": "2024-12-09T04:08:40.074706Z",
     "shell.execute_reply": "2024-12-09T04:08:40.073410Z"
    },
    "papermill": {
     "duration": 2.411645,
     "end_time": "2024-12-09T04:08:40.079690",
     "exception": false,
     "start_time": "2024-12-09T04:08:37.668045",
     "status": "completed"
    },
    "tags": []
   },
   "outputs": [],
   "source": [
    "# {'x': 5106.838, 'y': 4835.263, 'z': 619.225}\n",
    "fig = plt.figure(figsize=(10,2.5))\n",
    "ax = plt.subplot(1, 4, 1)\n",
    "plt.xticks([])\n",
    "plt.yticks([])\n",
    "plt.title('Original')\n",
    "plt.imshow(z_ts_6_4[0][61], cmap='gray', vmin=-0.00005, vmax=0.00005)\n",
    "_ = plt.scatter([5106.838/10], [4835.263/10], edgecolor='red', facecolor='none')\n",
    "ax = plt.subplot(1, 4, 2)\n",
    "plt.xticks([])\n",
    "plt.yticks([])\n",
    "plt.title('Straight On')\n",
    "plt.imshow(z_ts_6_4[0][61, 461:505, 488:532], cmap='gray')\n",
    "ax = plt.subplot(1, 4, 3)\n",
    "plt.xticks([])\n",
    "plt.yticks([])\n",
    "plt.title('Side View')\n",
    "plt.imshow(np.transpose(z_ts_6_4[0], axes=(2,1,0))[510, 461:505, 39:83], cmap='gray')\n",
    "ax = plt.subplot(1, 4, 4)\n",
    "plt.xticks([])\n",
    "plt.yticks([])\n",
    "plt.title('Top View')\n",
    "_ = plt.imshow(np.transpose(z_ts_6_4[0], axes=(1,0,2))[483, 39:83, 488:532], cmap='gray')"
   ]
  },
  {
   "cell_type": "markdown",
   "id": "90ec48cb",
   "metadata": {
    "papermill": {
     "duration": 0.212734,
     "end_time": "2024-12-09T04:08:40.533079",
     "exception": false,
     "start_time": "2024-12-09T04:08:40.320345",
     "status": "completed"
    },
    "tags": []
   },
   "source": [
    "### Virus Close-Up\n",
    "\n",
    "Same for virus, although I don't believe this captures the full virus.  In the images above, there is an elongated structure protruding down an to the left."
   ]
  },
  {
   "cell_type": "code",
   "execution_count": null,
   "id": "6aae29c8",
   "metadata": {
    "execution": {
     "iopub.execute_input": "2024-12-09T04:08:40.956244Z",
     "iopub.status.busy": "2024-12-09T04:08:40.955628Z",
     "iopub.status.idle": "2024-12-09T04:08:43.123438Z",
     "shell.execute_reply": "2024-12-09T04:08:43.121856Z"
    },
    "papermill": {
     "duration": 2.38179,
     "end_time": "2024-12-09T04:08:43.126089",
     "exception": false,
     "start_time": "2024-12-09T04:08:40.744299",
     "status": "completed"
    },
    "tags": []
   },
   "outputs": [],
   "source": [
    "# {'x': 5580.108, 'y': 1240.86, 'z': 692.222}\n",
    "fig = plt.figure(figsize=(10,2.5))\n",
    "ax = plt.subplot(1, 4, 1)\n",
    "plt.xticks([])\n",
    "plt.yticks([])\n",
    "plt.title('Original')\n",
    "plt.imshow(z_ts_6_4[0][69], cmap='gray', vmin=-0.00005, vmax=0.00005)\n",
    "_ = plt.scatter([5580.108/10], [1240.86/10], edgecolor='red', facecolor='none')\n",
    "ax = plt.subplot(1, 4, 2)\n",
    "plt.xticks([])\n",
    "plt.yticks([])\n",
    "plt.title('Straight On')\n",
    "plt.imshow(z_ts_6_4[0][69, 102:146, 536:580], cmap='gray')\n",
    "ax = plt.subplot(1, 4, 3)\n",
    "plt.xticks([])\n",
    "plt.yticks([])\n",
    "plt.title('Side View')\n",
    "plt.imshow(np.transpose(z_ts_6_4[0], axes=(2,1,0))[558, 102:146, 47:91], cmap='gray')\n",
    "ax = plt.subplot(1, 4, 4)\n",
    "plt.xticks([])\n",
    "plt.yticks([])\n",
    "plt.title('Top View')\n",
    "_ = plt.imshow(np.transpose(z_ts_6_4[0], axes=(1,0,2))[124, 47:91, 536:580], cmap='gray')"
   ]
  },
  {
   "cell_type": "markdown",
   "id": "62ac526f",
   "metadata": {
    "papermill": {
     "duration": 0.207879,
     "end_time": "2024-12-09T04:08:43.572536",
     "exception": false,
     "start_time": "2024-12-09T04:08:43.364657",
     "status": "completed"
    },
    "tags": []
   },
   "source": [
    "### Apo-Ferritin Close-Up\n",
    "\n",
    "Here the particle is difficult to discerne from the side and top."
   ]
  },
  {
   "cell_type": "code",
   "execution_count": null,
   "id": "9bc1b2bc",
   "metadata": {
    "execution": {
     "iopub.execute_input": "2024-12-09T04:08:43.985181Z",
     "iopub.status.busy": "2024-12-09T04:08:43.984763Z",
     "iopub.status.idle": "2024-12-09T04:08:46.053052Z",
     "shell.execute_reply": "2024-12-09T04:08:46.052102Z"
    },
    "papermill": {
     "duration": 2.277885,
     "end_time": "2024-12-09T04:08:46.056262",
     "exception": false,
     "start_time": "2024-12-09T04:08:43.778377",
     "status": "completed"
    },
    "tags": []
   },
   "outputs": [],
   "source": [
    "# {'x': 1019.831, 'y': 1859.831, 'z': 400.424}\n",
    "fig = plt.figure(figsize=(10,2.5))\n",
    "ax = plt.subplot(1, 4, 1)\n",
    "plt.xticks([])\n",
    "plt.yticks([])\n",
    "plt.title('Original')\n",
    "plt.imshow(z_ts_6_4[0][40], cmap='gray', vmin=-0.00005, vmax=0.00005)\n",
    "_ = plt.scatter([1019.831/10], [1859.831/10], edgecolor='red', facecolor='none')\n",
    "ax = plt.subplot(1, 4, 2)\n",
    "plt.xticks([])\n",
    "plt.yticks([])\n",
    "plt.title('Straight On')\n",
    "plt.imshow(z_ts_6_4[0][40, 163:207, 79:123], cmap='gray')\n",
    "ax = plt.subplot(1, 4, 3)\n",
    "plt.xticks([])\n",
    "plt.yticks([])\n",
    "plt.title('Side View')\n",
    "plt.imshow(np.transpose(z_ts_6_4[0], axes=(2,1,0))[101, 163:207, 18:62], cmap='gray')\n",
    "ax = plt.subplot(1, 4, 4)\n",
    "plt.xticks([])\n",
    "plt.yticks([])\n",
    "plt.title('Top View')\n",
    "_ = plt.imshow(np.transpose(z_ts_6_4[0], axes=(1,0,2))[185, 18:62, 79:123], cmap='gray')"
   ]
  },
  {
   "cell_type": "markdown",
   "id": "56dd86a3",
   "metadata": {
    "papermill": {
     "duration": 0.206452,
     "end_time": "2024-12-09T04:08:46.493340",
     "exception": false,
     "start_time": "2024-12-09T04:08:46.286888",
     "status": "completed"
    },
    "tags": []
   },
   "source": [
    "### Beta-Galactosidase Close-Up\n",
    "\n",
    "Same for beta-galactosidase."
   ]
  },
  {
   "cell_type": "code",
   "execution_count": null,
   "id": "28b66a54",
   "metadata": {
    "execution": {
     "iopub.execute_input": "2024-12-09T04:08:46.906777Z",
     "iopub.status.busy": "2024-12-09T04:08:46.905748Z",
     "iopub.status.idle": "2024-12-09T04:08:49.204437Z",
     "shell.execute_reply": "2024-12-09T04:08:49.203086Z"
    },
    "papermill": {
     "duration": 2.50987,
     "end_time": "2024-12-09T04:08:49.207631",
     "exception": false,
     "start_time": "2024-12-09T04:08:46.697761",
     "status": "completed"
    },
    "tags": []
   },
   "outputs": [],
   "source": [
    "# {'x': 804.615, 'y': 1977.846, 'z': 489.385}\n",
    "fig = plt.figure(figsize=(10,2.5))\n",
    "ax = plt.subplot(1, 4, 1)\n",
    "plt.xticks([])\n",
    "plt.yticks([])\n",
    "plt.title('Original')\n",
    "plt.imshow(z_ts_6_4[0][48], cmap='gray', vmin=-0.00005, vmax=0.00005)\n",
    "_ = plt.scatter([804.615/10], [1977.846/10], edgecolor='red', facecolor='none')\n",
    "ax = plt.subplot(1, 4, 2)\n",
    "plt.xticks([])\n",
    "plt.yticks([])\n",
    "plt.title('Straight On')\n",
    "plt.imshow(z_ts_6_4[0][48, 175:219, 58:102], cmap='gray')\n",
    "ax = plt.subplot(1, 4, 3)\n",
    "plt.xticks([])\n",
    "plt.yticks([])\n",
    "plt.title('Side View')\n",
    "plt.imshow(np.transpose(z_ts_6_4[0], axes=(2,1,0))[80, 175:219, 26:70], cmap='gray')\n",
    "ax = plt.subplot(1, 4, 4)\n",
    "plt.xticks([])\n",
    "plt.yticks([])\n",
    "plt.title('Top View')\n",
    "_ = plt.imshow(np.transpose(z_ts_6_4[0], axes=(1,0,2))[197, 26:70, 58:102], cmap='gray')"
   ]
  },
  {
   "cell_type": "markdown",
   "id": "a528d119",
   "metadata": {
    "papermill": {
     "duration": 0.206855,
     "end_time": "2024-12-09T04:08:49.649855",
     "exception": false,
     "start_time": "2024-12-09T04:08:49.443000",
     "status": "completed"
    },
    "tags": []
   },
   "source": [
    "### Thyroglobulin Close-Up\n",
    "\n",
    "Same for thyroglobulin."
   ]
  },
  {
   "cell_type": "code",
   "execution_count": null,
   "id": "8f3d9489",
   "metadata": {
    "execution": {
     "iopub.execute_input": "2024-12-09T04:08:50.065298Z",
     "iopub.status.busy": "2024-12-09T04:08:50.064677Z",
     "iopub.status.idle": "2024-12-09T04:08:52.116822Z",
     "shell.execute_reply": "2024-12-09T04:08:52.115640Z"
    },
    "papermill": {
     "duration": 2.265605,
     "end_time": "2024-12-09T04:08:52.121194",
     "exception": false,
     "start_time": "2024-12-09T04:08:49.855589",
     "status": "completed"
    },
    "tags": []
   },
   "outputs": [],
   "source": [
    "# {'x': 1242.919, 'y': 1464.644, 'z': 581.353}\n",
    "fig = plt.figure(figsize=(10,2.5))\n",
    "ax = plt.subplot(1, 4, 1)\n",
    "plt.xticks([])\n",
    "plt.yticks([])\n",
    "plt.title('Original')\n",
    "plt.imshow(z_ts_6_4[0][58], cmap='gray', vmin=-0.00005, vmax=0.00005)\n",
    "_ = plt.scatter([1242.919/10], [1464.644/10], edgecolor='red', facecolor='none')\n",
    "ax = plt.subplot(1, 4, 2)\n",
    "plt.xticks([])\n",
    "plt.yticks([])\n",
    "plt.title('Straight On')\n",
    "_ = plt.scatter([1242.919/10], [1464.644/10], edgecolor='red', facecolor='none')\n",
    "plt.imshow(z_ts_6_4[0][58, 124:168, 102:146], cmap='gray')\n",
    "ax = plt.subplot(1, 4, 3)\n",
    "plt.xticks([])\n",
    "plt.yticks([])\n",
    "plt.title('Side View')\n",
    "plt.imshow(np.transpose(z_ts_6_4[0], axes=(2,1,0))[124, 175:219, 36:80], cmap='gray')\n",
    "ax = plt.subplot(1, 4, 4)\n",
    "plt.xticks([])\n",
    "plt.yticks([])\n",
    "plt.title('Top View')\n",
    "_ = plt.imshow(np.transpose(z_ts_6_4[0], axes=(1,0,2))[146, 36:80, 102:146], cmap='gray')"
   ]
  },
  {
   "cell_type": "markdown",
   "id": "a10c9156",
   "metadata": {
    "papermill": {
     "duration": 0.22348,
     "end_time": "2024-12-09T04:08:52.583162",
     "exception": false,
     "start_time": "2024-12-09T04:08:52.359682",
     "status": "completed"
    },
    "tags": []
   },
   "source": [
    "### Low Res from the Side\n",
    "\n",
    "Here is the low resolution version plotted from the rigth side moving from the far side to the near side.  The point of doing this is to get a look at the overall image quality from the side."
   ]
  },
  {
   "cell_type": "code",
   "execution_count": null,
   "id": "560d515a",
   "metadata": {
    "execution": {
     "iopub.execute_input": "2024-12-09T04:08:52.999745Z",
     "iopub.status.busy": "2024-12-09T04:08:52.999354Z",
     "iopub.status.idle": "2024-12-09T04:09:07.302343Z",
     "shell.execute_reply": "2024-12-09T04:09:07.300846Z"
    },
    "papermill": {
     "duration": 14.570476,
     "end_time": "2024-12-09T04:09:07.359770",
     "exception": false,
     "start_time": "2024-12-09T04:08:52.789294",
     "status": "completed"
    },
    "tags": []
   },
   "outputs": [],
   "source": [
    "fig = plt.figure(figsize=(10,64))\n",
    "for i in range(158):\n",
    "    ax = plt.subplot(18, 9, i + 1)\n",
    "    plt.xticks([])\n",
    "    plt.yticks([])\n",
    "    plt.imshow(np.transpose(z_ts_6_4[2], axes=(2,1,0))[i])"
   ]
  },
  {
   "cell_type": "markdown",
   "id": "f4a1ef15",
   "metadata": {
    "papermill": {
     "duration": 0.307544,
     "end_time": "2024-12-09T04:09:07.986105",
     "exception": false,
     "start_time": "2024-12-09T04:09:07.678561",
     "status": "completed"
    },
    "tags": []
   },
   "source": [
    "### Low Res from the Top\n",
    "Same idea from the top.  Images proceed from top to bottom of the volume."
   ]
  },
  {
   "cell_type": "code",
   "execution_count": null,
   "id": "efcae629",
   "metadata": {
    "execution": {
     "iopub.execute_input": "2024-12-09T04:09:08.609066Z",
     "iopub.status.busy": "2024-12-09T04:09:08.608008Z",
     "iopub.status.idle": "2024-12-09T04:09:22.752932Z",
     "shell.execute_reply": "2024-12-09T04:09:22.751243Z"
    },
    "papermill": {
     "duration": 14.510143,
     "end_time": "2024-12-09T04:09:22.808166",
     "exception": false,
     "start_time": "2024-12-09T04:09:08.298023",
     "status": "completed"
    },
    "tags": []
   },
   "outputs": [],
   "source": [
    "fig = plt.figure(figsize=(10,64))\n",
    "for i in range(158):\n",
    "    ax = plt.subplot(53, 3, i + 1)\n",
    "    plt.xticks([])\n",
    "    plt.yticks([])\n",
    "    plt.imshow(np.transpose(z_ts_6_4[2], axes=(1,0,2))[i])"
   ]
  },
  {
   "cell_type": "markdown",
   "id": "ab0a6231",
   "metadata": {
    "papermill": {
     "duration": 0.40228,
     "end_time": "2024-12-09T04:09:23.612055",
     "exception": false,
     "start_time": "2024-12-09T04:09:23.209775",
     "status": "completed"
    },
    "tags": []
   },
   "source": [
    "### Deformation along the Z-axis\n",
    "\n",
    "Returning to the ribosome, the same views are displayed with the side and top views elongated along the z-axis.  A red circle is displayed to indicate the 150 unit radius around the central point.  The images pretty clearly show that the ribosome does not stay within the radius.\n",
    "\n",
    "### Straight On"
   ]
  },
  {
   "cell_type": "code",
   "execution_count": null,
   "id": "7bc3db74",
   "metadata": {
    "execution": {
     "iopub.execute_input": "2024-12-09T04:09:24.404281Z",
     "iopub.status.busy": "2024-12-09T04:09:24.403849Z",
     "iopub.status.idle": "2024-12-09T04:09:24.606841Z",
     "shell.execute_reply": "2024-12-09T04:09:24.605299Z"
    },
    "papermill": {
     "duration": 0.604472,
     "end_time": "2024-12-09T04:09:24.609884",
     "exception": false,
     "start_time": "2024-12-09T04:09:24.005412",
     "status": "completed"
    },
    "tags": []
   },
   "outputs": [],
   "source": [
    "# {'x': 5106.838, 'y': 4835.263, 'z': 619.225}\n",
    "plt.xticks([])\n",
    "plt.yticks([])\n",
    "circle = plt.Circle((22,22), radius=15, facecolor='none', edgecolor='r')\n",
    "plt.gca().add_patch(circle)\n",
    "_ = plt.imshow(z_ts_6_4[0][61, 461:505, 488:532], cmap='gray')"
   ]
  },
  {
   "cell_type": "markdown",
   "id": "31154dd6",
   "metadata": {
    "papermill": {
     "duration": 0.396716,
     "end_time": "2024-12-09T04:09:25.433952",
     "exception": false,
     "start_time": "2024-12-09T04:09:25.037236",
     "status": "completed"
    },
    "tags": []
   },
   "source": [
    "### Side View"
   ]
  },
  {
   "cell_type": "code",
   "execution_count": null,
   "id": "970e3be2",
   "metadata": {
    "execution": {
     "iopub.execute_input": "2024-12-09T04:09:26.230690Z",
     "iopub.status.busy": "2024-12-09T04:09:26.230106Z",
     "iopub.status.idle": "2024-12-09T04:09:27.010735Z",
     "shell.execute_reply": "2024-12-09T04:09:27.009606Z"
    },
    "papermill": {
     "duration": 1.181687,
     "end_time": "2024-12-09T04:09:27.013955",
     "exception": false,
     "start_time": "2024-12-09T04:09:25.832268",
     "status": "completed"
    },
    "tags": []
   },
   "outputs": [],
   "source": [
    "from matplotlib.patches import Circle\n",
    "plt.xticks([])\n",
    "plt.yticks([])\n",
    "circle = plt.Circle((37,22), radius=15, facecolor='none', edgecolor='r')\n",
    "plt.gca().add_patch(circle)\n",
    "_ = plt.imshow(np.transpose(z_ts_6_4[0], axes=(2,1,0))[510, 461:505, 24:98], cmap='gray')"
   ]
  },
  {
   "cell_type": "markdown",
   "id": "24ee6633",
   "metadata": {
    "papermill": {
     "duration": 0.44845,
     "end_time": "2024-12-09T04:09:27.905758",
     "exception": false,
     "start_time": "2024-12-09T04:09:27.457308",
     "status": "completed"
    },
    "tags": []
   },
   "source": [
    "### Top View"
   ]
  },
  {
   "cell_type": "code",
   "execution_count": null,
   "id": "8f14afaf",
   "metadata": {
    "execution": {
     "iopub.execute_input": "2024-12-09T04:09:28.801619Z",
     "iopub.status.busy": "2024-12-09T04:09:28.801107Z",
     "iopub.status.idle": "2024-12-09T04:09:29.568550Z",
     "shell.execute_reply": "2024-12-09T04:09:29.567394Z"
    },
    "papermill": {
     "duration": 1.243659,
     "end_time": "2024-12-09T04:09:29.571781",
     "exception": false,
     "start_time": "2024-12-09T04:09:28.328122",
     "status": "completed"
    },
    "tags": []
   },
   "outputs": [],
   "source": [
    "fig = plt.figure(figsize=(5,6))\n",
    "plt.xticks([])\n",
    "plt.yticks([])\n",
    "circle = plt.Circle((22,37), radius=15, facecolor='none', edgecolor='r')\n",
    "plt.gca().add_patch(circle)\n",
    "_ = plt.imshow(np.transpose(z_ts_6_4[0], axes=(1,0,2))[483, 24:98, 488:532], cmap='gray')"
   ]
  },
  {
   "cell_type": "markdown",
   "id": "52d7a39c",
   "metadata": {
    "papermill": {
     "duration": 0.394811,
     "end_time": "2024-12-09T04:09:30.402109",
     "exception": false,
     "start_time": "2024-12-09T04:09:30.007298",
     "status": "completed"
    },
    "tags": []
   },
   "source": [
    "## Make Training Crops\n",
    "\n",
    "For the training crops, we can use the centroids, except where they are too close to the edge.  For that situation we might as well shift them across a bit first.\n",
    "\n",
    "And while we're at it, let's set aside a sensible number of crops of empty space from around our regions of interest, and call those 'empty'."
   ]
  },
  {
   "cell_type": "code",
   "execution_count": null,
   "id": "60b0ac68",
   "metadata": {
    "execution": {
     "iopub.execute_input": "2024-12-09T04:09:31.194422Z",
     "iopub.status.busy": "2024-12-09T04:09:31.193905Z",
     "iopub.status.idle": "2024-12-09T04:09:31.227038Z",
     "shell.execute_reply": "2024-12-09T04:09:31.225925Z"
    },
    "papermill": {
     "duration": 0.430918,
     "end_time": "2024-12-09T04:09:31.229341",
     "exception": false,
     "start_time": "2024-12-09T04:09:30.798423",
     "status": "completed"
    },
    "tags": []
   },
   "outputs": [],
   "source": [
    "HALF = cfg.CROP_SIZE//2\n",
    "df['x_v'] = round(df['x'] / cfg.ZARR_SCALE).astype(int).clip(lower=HALF, upper=630-HALF) # 8 - 622\n",
    "df['y_v'] = round(df['y'] / cfg.ZARR_SCALE).astype(int).clip(lower=HALF, upper=630-HALF) # 8 - 622\n",
    "df['z_v'] = round(df['z'] / cfg.ZARR_SCALE).astype(int).clip(lower=HALF, upper=184-HALF) # 8 - 176\n",
    "df['x_start'], df['x_end'] = df['x_v'] - HALF, df['x_v'] + HALF\n",
    "df['y_start'], df['y_end'] = df['y_v'] - HALF, df['y_v'] + HALF\n",
    "df['z_start'], df['z_end'] = df['z_v'] - HALF, df['z_v'] + HALF\n",
    "df.head()"
   ]
  },
  {
   "cell_type": "code",
   "execution_count": null,
   "id": "26cd960d",
   "metadata": {
    "execution": {
     "iopub.execute_input": "2024-12-09T04:09:32.021262Z",
     "iopub.status.busy": "2024-12-09T04:09:32.020807Z",
     "iopub.status.idle": "2024-12-09T04:09:32.392285Z",
     "shell.execute_reply": "2024-12-09T04:09:32.391197Z"
    },
    "papermill": {
     "duration": 0.770868,
     "end_time": "2024-12-09T04:09:32.394606",
     "exception": false,
     "start_time": "2024-12-09T04:09:31.623738",
     "status": "completed"
    },
    "tags": []
   },
   "outputs": [],
   "source": [
    "def check_for_overlap(df, \n",
    "                      sample_id,\n",
    "                      size,\n",
    "                      proposal, \n",
    "                      overlap, \n",
    "                      scale):\n",
    "    poi = df[['x_v', 'y_v', 'z_v']].to_numpy()   #existing points of interest\n",
    "    difference = np.abs(poi -proposal)    #  - proposal   where proposal is a 3x1 array\n",
    "    if np.any(np.all(difference < overlap, axis=1)):\n",
    "        return None\n",
    "    else:\n",
    "        empty = {'sample_id': sample_id,\n",
    "                 'object_type': 'empty',\n",
    "                 'x': proposal[0] * scale,\n",
    "                 'y': proposal[1] * scale,\n",
    "                 'z': proposal[2] * scale,\n",
    "                 'Size (A)': 100,\n",
    "                 'Size (V)': 10,\n",
    "                 'Vol (V3)': 100,\n",
    "                 'x_v': proposal[0],\n",
    "                 'y_v': proposal[1],\n",
    "                 'z_v': proposal[2],\n",
    "                 'x_start': proposal[0] - size // 2,  #eg 8 -> 0, with a block size of 16\n",
    "                 'x_end': proposal[0] + size // 2,    #eg 8 -> 16,  with a block size of 16\n",
    "                 'y_start': proposal[1] - size // 2,  \n",
    "                 'y_end': proposal[1] + size // 2,\n",
    "                 'z_start': proposal[2]  - size // 2,\n",
    "                 'z_end': proposal[2]  + size // 2}\n",
    "        return empty\n",
    "\n",
    "def generate_proposal(x_lim, y_lim, z_lim, buffer, samples):\n",
    "    x_p = np.random.randint(buffer, x_lim - buffer)\n",
    "    y_p = np.random.randint(buffer, y_lim - buffer)\n",
    "    z_p = np.random.randint(buffer, z_lim - buffer)\n",
    "    sample = random.choice(samples)\n",
    "    return np.array([x_p, y_p, z_p]), sample\n",
    "\n",
    "empties=[]\n",
    "while len(empties) < cfg.NUM_EMPTY:\n",
    "    proposal, sample = generate_proposal(630, 630, 184, cfg.CROP_SIZE // 2, paths.TRAIN_NMS)\n",
    "    empty = check_for_overlap(df, sample, 16, proposal, 10, cfg.ZARR_SCALE)\n",
    "    if empty is not None:\n",
    "        empties.append(empty)\n",
    "\n",
    "empty_df = pd.DataFrame(empties)\n",
    "empty_df.head(3)"
   ]
  },
  {
   "cell_type": "code",
   "execution_count": null,
   "id": "591bd0ad",
   "metadata": {
    "execution": {
     "iopub.execute_input": "2024-12-09T04:09:33.203513Z",
     "iopub.status.busy": "2024-12-09T04:09:33.203079Z",
     "iopub.status.idle": "2024-12-09T04:09:33.226282Z",
     "shell.execute_reply": "2024-12-09T04:09:33.225034Z"
    },
    "papermill": {
     "duration": 0.422952,
     "end_time": "2024-12-09T04:09:33.228914",
     "exception": false,
     "start_time": "2024-12-09T04:09:32.805962",
     "status": "completed"
    },
    "tags": []
   },
   "outputs": [],
   "source": [
    "df = pd.concat([df, empty_df], ignore_index=True)\n",
    "\n",
    "df['x_dif'] = df['x_end'] - df['x_start']\n",
    "df['y_dif'] = df['y_end'] - df['y_start']\n",
    "df['z_dif'] = df['z_end'] - df['z_start']\n",
    "\n",
    "df.head(3)"
   ]
  },
  {
   "cell_type": "code",
   "execution_count": null,
   "id": "82fb76ca",
   "metadata": {
    "execution": {
     "iopub.execute_input": "2024-12-09T04:09:34.056122Z",
     "iopub.status.busy": "2024-12-09T04:09:34.054414Z",
     "iopub.status.idle": "2024-12-09T04:09:34.064729Z",
     "shell.execute_reply": "2024-12-09T04:09:34.063624Z"
    },
    "papermill": {
     "duration": 0.433352,
     "end_time": "2024-12-09T04:09:34.067400",
     "exception": false,
     "start_time": "2024-12-09T04:09:33.634048",
     "status": "completed"
    },
    "tags": []
   },
   "outputs": [],
   "source": [
    "df['x_dif'].unique()"
   ]
  },
  {
   "cell_type": "code",
   "execution_count": null,
   "id": "4b54af0e",
   "metadata": {
    "execution": {
     "iopub.execute_input": "2024-12-09T04:09:34.886759Z",
     "iopub.status.busy": "2024-12-09T04:09:34.886369Z",
     "iopub.status.idle": "2024-12-09T04:11:13.033476Z",
     "shell.execute_reply": "2024-12-09T04:11:13.032169Z"
    },
    "papermill": {
     "duration": 98.551733,
     "end_time": "2024-12-09T04:11:13.035653",
     "exception": false,
     "start_time": "2024-12-09T04:09:34.483920",
     "status": "completed"
    },
    "tags": []
   },
   "outputs": [],
   "source": [
    "def process_tomo(sample, group, paths):\n",
    "    tomo = zarr.open(str(paths.TRAIN_DN_ZARS[sample]), mode='r')\n",
    "    slicing_cols = ['object_type','x_start', 'x_end', 'y_start', 'y_end', 'z_start', 'z_end']\n",
    "    records = group[slicing_cols].to_dict(orient='records')\n",
    "    print(f'{len(group)} record were found in sample {sample}')\n",
    "    \n",
    "    for idx, row in enumerate(records):\n",
    "        crop = tomo[0][row['z_start']:row['z_end'],\n",
    "                       row['y_start']:row['y_end'],\n",
    "                       row['x_start']:row['x_end']]\n",
    "        type=row['object_type']\n",
    "        np.save(paths.DESTN_FLDRS[type] / f'{sample}_{idx}.npy', crop)\n",
    "    \n",
    "for sample_id, group in df.groupby('sample_id'):\n",
    "    process_tomo(sample_id, group, paths)\n",
    "\n",
    "npy_files = list(paths.RESULTS_FLDR.rglob('*.npy'))\n",
    "print(f'{len(npy_files)} files were saved as numpy arrays')"
   ]
  },
  {
   "cell_type": "markdown",
   "id": "15eba5be",
   "metadata": {
    "papermill": {
     "duration": 0.404287,
     "end_time": "2024-12-09T04:11:13.845972",
     "exception": false,
     "start_time": "2024-12-09T04:11:13.441685",
     "status": "completed"
    },
    "tags": []
   },
   "source": [
    "TODO:  Re-load and varify the crops"
   ]
  },
  {
   "cell_type": "markdown",
   "id": "6d1fba7d",
   "metadata": {
    "papermill": {
     "duration": 0.396014,
     "end_time": "2024-12-09T04:11:14.638950",
     "exception": false,
     "start_time": "2024-12-09T04:11:14.242936",
     "status": "completed"
    },
    "tags": []
   },
   "source": [
    "## Conclusion\n",
    "\n",
    "The mapping between the x, y, and z coordinates so far appears quite straightforward.  For the highest resolution images 10 units per pixel in all 3 directions with the origin in the first image in the upper left had corner seems to work.  The wikipedia article on cryoET suggests the sample is twisted when generating the images, but so far that hasn't seemed to create any complications here.  That said it might be worth identifying structures in \"worst-case\" locations to confirm that we didn't just get lucky. **Note:** The mapping has been confirmed in the notebook comments.\n",
    "\n",
    "**Update:** The elongation along the z-axis was missed the first time around.  This could have implications for contest ML algorithms.  See discussion here: [https://www.kaggle.com/competitions/czii-cryo-et-object-identification/discussion/545742](https://www.kaggle.com/competitions/czii-cryo-et-object-identification/discussion/545742)"
   ]
  }
 ],
 "metadata": {
  "kaggle": {
   "accelerator": "none",
   "dataSources": [
    {
     "databundleVersionId": 10033515,
     "sourceId": 84969,
     "sourceType": "competition"
    }
   ],
   "dockerImageVersionId": 30804,
   "isGpuEnabled": false,
   "isInternetEnabled": true,
   "language": "python",
   "sourceType": "notebook"
  },
  "kernelspec": {
   "display_name": ".venv",
   "language": "python",
   "name": "python3"
  },
  "language_info": {
   "codemirror_mode": {
    "name": "ipython",
    "version": 3
   },
   "file_extension": ".py",
   "mimetype": "text/x-python",
   "name": "python",
   "nbconvert_exporter": "python",
   "pygments_lexer": "ipython3",
   "version": "3.12.7"
  },
  "papermill": {
   "default_parameters": {},
   "duration": 342.609167,
   "end_time": "2024-12-09T04:11:16.364173",
   "environment_variables": {},
   "exception": null,
   "input_path": "__notebook__.ipynb",
   "output_path": "__notebook__.ipynb",
   "parameters": {},
   "start_time": "2024-12-09T04:05:33.755006",
   "version": "2.6.0"
  }
 },
 "nbformat": 4,
 "nbformat_minor": 5
}
