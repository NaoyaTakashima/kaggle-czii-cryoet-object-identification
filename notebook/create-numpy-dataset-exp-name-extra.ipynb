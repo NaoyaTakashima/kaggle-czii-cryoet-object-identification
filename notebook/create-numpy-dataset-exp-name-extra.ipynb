{
 "cells": [
  {
   "cell_type": "markdown",
   "id": "3d7a8acb",
   "metadata": {
    "papermill": {
     "duration": 0.005661,
     "end_time": "2024-11-11T21:40:28.575555",
     "exception": false,
     "start_time": "2024-11-11T21:40:28.569894",
     "status": "completed"
    },
    "tags": []
   },
   "source": [
    "# Install pkgs"
   ]
  },
  {
   "cell_type": "markdown",
   "id": "db15dba3",
   "metadata": {
    "papermill": {
     "duration": 0.004147,
     "end_time": "2024-11-11T21:40:28.584886",
     "exception": false,
     "start_time": "2024-11-11T21:40:28.580739",
     "status": "completed"
    },
    "tags": []
   },
   "source": [
    "**Note:** This is training notebook only. Inference ain't included in . \n",
    "Anybody who wants to use this notebook for inference purposes is most welcome."
   ]
  },
  {
   "cell_type": "code",
   "execution_count": 1,
   "id": "ab208591",
   "metadata": {
    "execution": {
     "iopub.execute_input": "2024-11-11T21:42:04.602525Z",
     "iopub.status.busy": "2024-11-11T21:42:04.601662Z",
     "iopub.status.idle": "2024-11-11T21:42:04.921518Z",
     "shell.execute_reply": "2024-11-11T21:42:04.920135Z"
    },
    "papermill": {
     "duration": 0.338697,
     "end_time": "2024-11-11T21:42:04.924452",
     "exception": false,
     "start_time": "2024-11-11T21:42:04.585755",
     "status": "completed"
    },
    "tags": []
   },
   "outputs": [
    {
     "name": "stdout",
     "output_type": "stream",
     "text": [
      "Copied /home/naoya/kaggle/czii/input/extra_data/czii_static/ExperimentRuns/TS_1/Picks/apo-ferritin.json to /home/naoya/kaggle/czii/input/extra_data/overlay/ExperimentRuns/TS_1/Picks/curation_0_apo-ferritin.json\n",
      "Copied /home/naoya/kaggle/czii/input/extra_data/czii_static/ExperimentRuns/TS_1/Picks/beta-amylase.json to /home/naoya/kaggle/czii/input/extra_data/overlay/ExperimentRuns/TS_1/Picks/curation_0_beta-amylase.json\n",
      "Copied /home/naoya/kaggle/czii/input/extra_data/czii_static/ExperimentRuns/TS_1/Picks/thyroglobulin.json to /home/naoya/kaggle/czii/input/extra_data/overlay/ExperimentRuns/TS_1/Picks/curation_0_thyroglobulin.json\n",
      "Copied /home/naoya/kaggle/czii/input/extra_data/czii_static/ExperimentRuns/TS_1/Picks/virus-like-particle.json to /home/naoya/kaggle/czii/input/extra_data/overlay/ExperimentRuns/TS_1/Picks/curation_0_virus-like-particle.json\n",
      "Copied /home/naoya/kaggle/czii/input/extra_data/czii_static/ExperimentRuns/TS_1/Picks/beta-galactosidase.json to /home/naoya/kaggle/czii/input/extra_data/overlay/ExperimentRuns/TS_1/Picks/curation_0_beta-galactosidase.json\n",
      "Copied /home/naoya/kaggle/czii/input/extra_data/czii_static/ExperimentRuns/TS_1/Picks/ribosome.json to /home/naoya/kaggle/czii/input/extra_data/overlay/ExperimentRuns/TS_1/Picks/curation_0_ribosome.json\n",
      "Copied /home/naoya/kaggle/czii/input/extra_data/czii_static/ExperimentRuns/TS_9/Picks/apo-ferritin.json to /home/naoya/kaggle/czii/input/extra_data/overlay/ExperimentRuns/TS_9/Picks/curation_0_apo-ferritin.json\n",
      "Copied /home/naoya/kaggle/czii/input/extra_data/czii_static/ExperimentRuns/TS_9/Picks/beta-amylase.json to /home/naoya/kaggle/czii/input/extra_data/overlay/ExperimentRuns/TS_9/Picks/curation_0_beta-amylase.json\n",
      "Copied /home/naoya/kaggle/czii/input/extra_data/czii_static/ExperimentRuns/TS_9/Picks/thyroglobulin.json to /home/naoya/kaggle/czii/input/extra_data/overlay/ExperimentRuns/TS_9/Picks/curation_0_thyroglobulin.json\n",
      "Copied /home/naoya/kaggle/czii/input/extra_data/czii_static/ExperimentRuns/TS_9/Picks/virus-like-particle.json to /home/naoya/kaggle/czii/input/extra_data/overlay/ExperimentRuns/TS_9/Picks/curation_0_virus-like-particle.json\n",
      "Copied /home/naoya/kaggle/czii/input/extra_data/czii_static/ExperimentRuns/TS_9/Picks/beta-galactosidase.json to /home/naoya/kaggle/czii/input/extra_data/overlay/ExperimentRuns/TS_9/Picks/curation_0_beta-galactosidase.json\n",
      "Copied /home/naoya/kaggle/czii/input/extra_data/czii_static/ExperimentRuns/TS_9/Picks/ribosome.json to /home/naoya/kaggle/czii/input/extra_data/overlay/ExperimentRuns/TS_9/Picks/curation_0_ribosome.json\n",
      "Copied /home/naoya/kaggle/czii/input/extra_data/czii_static/ExperimentRuns/TS_6/Picks/apo-ferritin.json to /home/naoya/kaggle/czii/input/extra_data/overlay/ExperimentRuns/TS_6/Picks/curation_0_apo-ferritin.json\n",
      "Copied /home/naoya/kaggle/czii/input/extra_data/czii_static/ExperimentRuns/TS_6/Picks/beta-amylase.json to /home/naoya/kaggle/czii/input/extra_data/overlay/ExperimentRuns/TS_6/Picks/curation_0_beta-amylase.json\n",
      "Copied /home/naoya/kaggle/czii/input/extra_data/czii_static/ExperimentRuns/TS_6/Picks/thyroglobulin.json to /home/naoya/kaggle/czii/input/extra_data/overlay/ExperimentRuns/TS_6/Picks/curation_0_thyroglobulin.json\n",
      "Copied /home/naoya/kaggle/czii/input/extra_data/czii_static/ExperimentRuns/TS_6/Picks/virus-like-particle.json to /home/naoya/kaggle/czii/input/extra_data/overlay/ExperimentRuns/TS_6/Picks/curation_0_virus-like-particle.json\n",
      "Copied /home/naoya/kaggle/czii/input/extra_data/czii_static/ExperimentRuns/TS_6/Picks/beta-galactosidase.json to /home/naoya/kaggle/czii/input/extra_data/overlay/ExperimentRuns/TS_6/Picks/curation_0_beta-galactosidase.json\n",
      "Copied /home/naoya/kaggle/czii/input/extra_data/czii_static/ExperimentRuns/TS_6/Picks/ribosome.json to /home/naoya/kaggle/czii/input/extra_data/overlay/ExperimentRuns/TS_6/Picks/curation_0_ribosome.json\n",
      "Copied /home/naoya/kaggle/czii/input/extra_data/czii_static/ExperimentRuns/TS_2/Picks/apo-ferritin.json to /home/naoya/kaggle/czii/input/extra_data/overlay/ExperimentRuns/TS_2/Picks/curation_0_apo-ferritin.json\n",
      "Copied /home/naoya/kaggle/czii/input/extra_data/czii_static/ExperimentRuns/TS_2/Picks/beta-amylase.json to /home/naoya/kaggle/czii/input/extra_data/overlay/ExperimentRuns/TS_2/Picks/curation_0_beta-amylase.json\n",
      "Copied /home/naoya/kaggle/czii/input/extra_data/czii_static/ExperimentRuns/TS_2/Picks/thyroglobulin.json to /home/naoya/kaggle/czii/input/extra_data/overlay/ExperimentRuns/TS_2/Picks/curation_0_thyroglobulin.json\n",
      "Copied /home/naoya/kaggle/czii/input/extra_data/czii_static/ExperimentRuns/TS_2/Picks/virus-like-particle.json to /home/naoya/kaggle/czii/input/extra_data/overlay/ExperimentRuns/TS_2/Picks/curation_0_virus-like-particle.json\n",
      "Copied /home/naoya/kaggle/czii/input/extra_data/czii_static/ExperimentRuns/TS_2/Picks/beta-galactosidase.json to /home/naoya/kaggle/czii/input/extra_data/overlay/ExperimentRuns/TS_2/Picks/curation_0_beta-galactosidase.json\n",
      "Copied /home/naoya/kaggle/czii/input/extra_data/czii_static/ExperimentRuns/TS_2/Picks/ribosome.json to /home/naoya/kaggle/czii/input/extra_data/overlay/ExperimentRuns/TS_2/Picks/curation_0_ribosome.json\n",
      "Copied /home/naoya/kaggle/czii/input/extra_data/czii_static/ExperimentRuns/TS_22/Picks/apo-ferritin.json to /home/naoya/kaggle/czii/input/extra_data/overlay/ExperimentRuns/TS_22/Picks/curation_0_apo-ferritin.json\n",
      "Copied /home/naoya/kaggle/czii/input/extra_data/czii_static/ExperimentRuns/TS_22/Picks/beta-amylase.json to /home/naoya/kaggle/czii/input/extra_data/overlay/ExperimentRuns/TS_22/Picks/curation_0_beta-amylase.json\n",
      "Copied /home/naoya/kaggle/czii/input/extra_data/czii_static/ExperimentRuns/TS_22/Picks/thyroglobulin.json to /home/naoya/kaggle/czii/input/extra_data/overlay/ExperimentRuns/TS_22/Picks/curation_0_thyroglobulin.json\n",
      "Copied /home/naoya/kaggle/czii/input/extra_data/czii_static/ExperimentRuns/TS_22/Picks/virus-like-particle.json to /home/naoya/kaggle/czii/input/extra_data/overlay/ExperimentRuns/TS_22/Picks/curation_0_virus-like-particle.json\n",
      "Copied /home/naoya/kaggle/czii/input/extra_data/czii_static/ExperimentRuns/TS_22/Picks/beta-galactosidase.json to /home/naoya/kaggle/czii/input/extra_data/overlay/ExperimentRuns/TS_22/Picks/curation_0_beta-galactosidase.json\n",
      "Copied /home/naoya/kaggle/czii/input/extra_data/czii_static/ExperimentRuns/TS_22/Picks/ribosome.json to /home/naoya/kaggle/czii/input/extra_data/overlay/ExperimentRuns/TS_22/Picks/curation_0_ribosome.json\n",
      "Copied /home/naoya/kaggle/czii/input/extra_data/czii_static/ExperimentRuns/TS_15/Picks/apo-ferritin.json to /home/naoya/kaggle/czii/input/extra_data/overlay/ExperimentRuns/TS_15/Picks/curation_0_apo-ferritin.json\n",
      "Copied /home/naoya/kaggle/czii/input/extra_data/czii_static/ExperimentRuns/TS_15/Picks/beta-amylase.json to /home/naoya/kaggle/czii/input/extra_data/overlay/ExperimentRuns/TS_15/Picks/curation_0_beta-amylase.json\n",
      "Copied /home/naoya/kaggle/czii/input/extra_data/czii_static/ExperimentRuns/TS_15/Picks/thyroglobulin.json to /home/naoya/kaggle/czii/input/extra_data/overlay/ExperimentRuns/TS_15/Picks/curation_0_thyroglobulin.json\n",
      "Copied /home/naoya/kaggle/czii/input/extra_data/czii_static/ExperimentRuns/TS_15/Picks/virus-like-particle.json to /home/naoya/kaggle/czii/input/extra_data/overlay/ExperimentRuns/TS_15/Picks/curation_0_virus-like-particle.json\n",
      "Copied /home/naoya/kaggle/czii/input/extra_data/czii_static/ExperimentRuns/TS_15/Picks/beta-galactosidase.json to /home/naoya/kaggle/czii/input/extra_data/overlay/ExperimentRuns/TS_15/Picks/curation_0_beta-galactosidase.json\n",
      "Copied /home/naoya/kaggle/czii/input/extra_data/czii_static/ExperimentRuns/TS_15/Picks/ribosome.json to /home/naoya/kaggle/czii/input/extra_data/overlay/ExperimentRuns/TS_15/Picks/curation_0_ribosome.json\n",
      "Copied /home/naoya/kaggle/czii/input/extra_data/czii_static/ExperimentRuns/TS_8/Picks/apo-ferritin.json to /home/naoya/kaggle/czii/input/extra_data/overlay/ExperimentRuns/TS_8/Picks/curation_0_apo-ferritin.json\n",
      "Copied /home/naoya/kaggle/czii/input/extra_data/czii_static/ExperimentRuns/TS_8/Picks/beta-amylase.json to /home/naoya/kaggle/czii/input/extra_data/overlay/ExperimentRuns/TS_8/Picks/curation_0_beta-amylase.json\n",
      "Copied /home/naoya/kaggle/czii/input/extra_data/czii_static/ExperimentRuns/TS_8/Picks/thyroglobulin.json to /home/naoya/kaggle/czii/input/extra_data/overlay/ExperimentRuns/TS_8/Picks/curation_0_thyroglobulin.json\n",
      "Copied /home/naoya/kaggle/czii/input/extra_data/czii_static/ExperimentRuns/TS_8/Picks/virus-like-particle.json to /home/naoya/kaggle/czii/input/extra_data/overlay/ExperimentRuns/TS_8/Picks/curation_0_virus-like-particle.json\n",
      "Copied /home/naoya/kaggle/czii/input/extra_data/czii_static/ExperimentRuns/TS_8/Picks/beta-galactosidase.json to /home/naoya/kaggle/czii/input/extra_data/overlay/ExperimentRuns/TS_8/Picks/curation_0_beta-galactosidase.json\n",
      "Copied /home/naoya/kaggle/czii/input/extra_data/czii_static/ExperimentRuns/TS_8/Picks/ribosome.json to /home/naoya/kaggle/czii/input/extra_data/overlay/ExperimentRuns/TS_8/Picks/curation_0_ribosome.json\n",
      "Copied /home/naoya/kaggle/czii/input/extra_data/czii_static/ExperimentRuns/TS_26/Picks/apo-ferritin.json to /home/naoya/kaggle/czii/input/extra_data/overlay/ExperimentRuns/TS_26/Picks/curation_0_apo-ferritin.json\n",
      "Copied /home/naoya/kaggle/czii/input/extra_data/czii_static/ExperimentRuns/TS_26/Picks/beta-amylase.json to /home/naoya/kaggle/czii/input/extra_data/overlay/ExperimentRuns/TS_26/Picks/curation_0_beta-amylase.json\n",
      "Copied /home/naoya/kaggle/czii/input/extra_data/czii_static/ExperimentRuns/TS_26/Picks/thyroglobulin.json to /home/naoya/kaggle/czii/input/extra_data/overlay/ExperimentRuns/TS_26/Picks/curation_0_thyroglobulin.json\n",
      "Copied /home/naoya/kaggle/czii/input/extra_data/czii_static/ExperimentRuns/TS_26/Picks/virus-like-particle.json to /home/naoya/kaggle/czii/input/extra_data/overlay/ExperimentRuns/TS_26/Picks/curation_0_virus-like-particle.json\n",
      "Copied /home/naoya/kaggle/czii/input/extra_data/czii_static/ExperimentRuns/TS_26/Picks/beta-galactosidase.json to /home/naoya/kaggle/czii/input/extra_data/overlay/ExperimentRuns/TS_26/Picks/curation_0_beta-galactosidase.json\n",
      "Copied /home/naoya/kaggle/czii/input/extra_data/czii_static/ExperimentRuns/TS_26/Picks/ribosome.json to /home/naoya/kaggle/czii/input/extra_data/overlay/ExperimentRuns/TS_26/Picks/curation_0_ribosome.json\n",
      "Copied /home/naoya/kaggle/czii/input/extra_data/czii_static/ExperimentRuns/TS_10/Picks/apo-ferritin.json to /home/naoya/kaggle/czii/input/extra_data/overlay/ExperimentRuns/TS_10/Picks/curation_0_apo-ferritin.json\n",
      "Copied /home/naoya/kaggle/czii/input/extra_data/czii_static/ExperimentRuns/TS_10/Picks/beta-amylase.json to /home/naoya/kaggle/czii/input/extra_data/overlay/ExperimentRuns/TS_10/Picks/curation_0_beta-amylase.json\n",
      "Copied /home/naoya/kaggle/czii/input/extra_data/czii_static/ExperimentRuns/TS_10/Picks/thyroglobulin.json to /home/naoya/kaggle/czii/input/extra_data/overlay/ExperimentRuns/TS_10/Picks/curation_0_thyroglobulin.json\n",
      "Copied /home/naoya/kaggle/czii/input/extra_data/czii_static/ExperimentRuns/TS_10/Picks/virus-like-particle.json to /home/naoya/kaggle/czii/input/extra_data/overlay/ExperimentRuns/TS_10/Picks/curation_0_virus-like-particle.json\n",
      "Copied /home/naoya/kaggle/czii/input/extra_data/czii_static/ExperimentRuns/TS_10/Picks/beta-galactosidase.json to /home/naoya/kaggle/czii/input/extra_data/overlay/ExperimentRuns/TS_10/Picks/curation_0_beta-galactosidase.json\n",
      "Copied /home/naoya/kaggle/czii/input/extra_data/czii_static/ExperimentRuns/TS_10/Picks/ribosome.json to /home/naoya/kaggle/czii/input/extra_data/overlay/ExperimentRuns/TS_10/Picks/curation_0_ribosome.json\n",
      "Copied /home/naoya/kaggle/czii/input/extra_data/czii_static/ExperimentRuns/TS_17/Picks/apo-ferritin.json to /home/naoya/kaggle/czii/input/extra_data/overlay/ExperimentRuns/TS_17/Picks/curation_0_apo-ferritin.json\n",
      "Copied /home/naoya/kaggle/czii/input/extra_data/czii_static/ExperimentRuns/TS_17/Picks/beta-amylase.json to /home/naoya/kaggle/czii/input/extra_data/overlay/ExperimentRuns/TS_17/Picks/curation_0_beta-amylase.json\n",
      "Copied /home/naoya/kaggle/czii/input/extra_data/czii_static/ExperimentRuns/TS_17/Picks/thyroglobulin.json to /home/naoya/kaggle/czii/input/extra_data/overlay/ExperimentRuns/TS_17/Picks/curation_0_thyroglobulin.json\n",
      "Copied /home/naoya/kaggle/czii/input/extra_data/czii_static/ExperimentRuns/TS_17/Picks/virus-like-particle.json to /home/naoya/kaggle/czii/input/extra_data/overlay/ExperimentRuns/TS_17/Picks/curation_0_virus-like-particle.json\n",
      "Copied /home/naoya/kaggle/czii/input/extra_data/czii_static/ExperimentRuns/TS_17/Picks/beta-galactosidase.json to /home/naoya/kaggle/czii/input/extra_data/overlay/ExperimentRuns/TS_17/Picks/curation_0_beta-galactosidase.json\n",
      "Copied /home/naoya/kaggle/czii/input/extra_data/czii_static/ExperimentRuns/TS_17/Picks/ribosome.json to /home/naoya/kaggle/czii/input/extra_data/overlay/ExperimentRuns/TS_17/Picks/curation_0_ribosome.json\n",
      "Copied /home/naoya/kaggle/czii/input/extra_data/czii_static/ExperimentRuns/TS_25/Picks/apo-ferritin.json to /home/naoya/kaggle/czii/input/extra_data/overlay/ExperimentRuns/TS_25/Picks/curation_0_apo-ferritin.json\n",
      "Copied /home/naoya/kaggle/czii/input/extra_data/czii_static/ExperimentRuns/TS_25/Picks/beta-amylase.json to /home/naoya/kaggle/czii/input/extra_data/overlay/ExperimentRuns/TS_25/Picks/curation_0_beta-amylase.json\n",
      "Copied /home/naoya/kaggle/czii/input/extra_data/czii_static/ExperimentRuns/TS_25/Picks/thyroglobulin.json to /home/naoya/kaggle/czii/input/extra_data/overlay/ExperimentRuns/TS_25/Picks/curation_0_thyroglobulin.json\n",
      "Copied /home/naoya/kaggle/czii/input/extra_data/czii_static/ExperimentRuns/TS_25/Picks/virus-like-particle.json to /home/naoya/kaggle/czii/input/extra_data/overlay/ExperimentRuns/TS_25/Picks/curation_0_virus-like-particle.json\n",
      "Copied /home/naoya/kaggle/czii/input/extra_data/czii_static/ExperimentRuns/TS_25/Picks/beta-galactosidase.json to /home/naoya/kaggle/czii/input/extra_data/overlay/ExperimentRuns/TS_25/Picks/curation_0_beta-galactosidase.json\n",
      "Copied /home/naoya/kaggle/czii/input/extra_data/czii_static/ExperimentRuns/TS_25/Picks/ribosome.json to /home/naoya/kaggle/czii/input/extra_data/overlay/ExperimentRuns/TS_25/Picks/curation_0_ribosome.json\n",
      "Copied /home/naoya/kaggle/czii/input/extra_data/czii_static/ExperimentRuns/TS_12/Picks/apo-ferritin.json to /home/naoya/kaggle/czii/input/extra_data/overlay/ExperimentRuns/TS_12/Picks/curation_0_apo-ferritin.json\n",
      "Copied /home/naoya/kaggle/czii/input/extra_data/czii_static/ExperimentRuns/TS_12/Picks/beta-amylase.json to /home/naoya/kaggle/czii/input/extra_data/overlay/ExperimentRuns/TS_12/Picks/curation_0_beta-amylase.json\n",
      "Copied /home/naoya/kaggle/czii/input/extra_data/czii_static/ExperimentRuns/TS_12/Picks/thyroglobulin.json to /home/naoya/kaggle/czii/input/extra_data/overlay/ExperimentRuns/TS_12/Picks/curation_0_thyroglobulin.json\n",
      "Copied /home/naoya/kaggle/czii/input/extra_data/czii_static/ExperimentRuns/TS_12/Picks/virus-like-particle.json to /home/naoya/kaggle/czii/input/extra_data/overlay/ExperimentRuns/TS_12/Picks/curation_0_virus-like-particle.json\n",
      "Copied /home/naoya/kaggle/czii/input/extra_data/czii_static/ExperimentRuns/TS_12/Picks/beta-galactosidase.json to /home/naoya/kaggle/czii/input/extra_data/overlay/ExperimentRuns/TS_12/Picks/curation_0_beta-galactosidase.json\n",
      "Copied /home/naoya/kaggle/czii/input/extra_data/czii_static/ExperimentRuns/TS_12/Picks/ribosome.json to /home/naoya/kaggle/czii/input/extra_data/overlay/ExperimentRuns/TS_12/Picks/curation_0_ribosome.json\n",
      "Copied /home/naoya/kaggle/czii/input/extra_data/czii_static/ExperimentRuns/TS_16/Picks/apo-ferritin.json to /home/naoya/kaggle/czii/input/extra_data/overlay/ExperimentRuns/TS_16/Picks/curation_0_apo-ferritin.json\n",
      "Copied /home/naoya/kaggle/czii/input/extra_data/czii_static/ExperimentRuns/TS_16/Picks/beta-amylase.json to /home/naoya/kaggle/czii/input/extra_data/overlay/ExperimentRuns/TS_16/Picks/curation_0_beta-amylase.json\n",
      "Copied /home/naoya/kaggle/czii/input/extra_data/czii_static/ExperimentRuns/TS_16/Picks/thyroglobulin.json to /home/naoya/kaggle/czii/input/extra_data/overlay/ExperimentRuns/TS_16/Picks/curation_0_thyroglobulin.json\n",
      "Copied /home/naoya/kaggle/czii/input/extra_data/czii_static/ExperimentRuns/TS_16/Picks/virus-like-particle.json to /home/naoya/kaggle/czii/input/extra_data/overlay/ExperimentRuns/TS_16/Picks/curation_0_virus-like-particle.json\n",
      "Copied /home/naoya/kaggle/czii/input/extra_data/czii_static/ExperimentRuns/TS_16/Picks/beta-galactosidase.json to /home/naoya/kaggle/czii/input/extra_data/overlay/ExperimentRuns/TS_16/Picks/curation_0_beta-galactosidase.json\n",
      "Copied /home/naoya/kaggle/czii/input/extra_data/czii_static/ExperimentRuns/TS_16/Picks/ribosome.json to /home/naoya/kaggle/czii/input/extra_data/overlay/ExperimentRuns/TS_16/Picks/curation_0_ribosome.json\n",
      "Copied /home/naoya/kaggle/czii/input/extra_data/czii_static/ExperimentRuns/TS_23/Picks/apo-ferritin.json to /home/naoya/kaggle/czii/input/extra_data/overlay/ExperimentRuns/TS_23/Picks/curation_0_apo-ferritin.json\n",
      "Copied /home/naoya/kaggle/czii/input/extra_data/czii_static/ExperimentRuns/TS_23/Picks/beta-amylase.json to /home/naoya/kaggle/czii/input/extra_data/overlay/ExperimentRuns/TS_23/Picks/curation_0_beta-amylase.json\n",
      "Copied /home/naoya/kaggle/czii/input/extra_data/czii_static/ExperimentRuns/TS_23/Picks/thyroglobulin.json to /home/naoya/kaggle/czii/input/extra_data/overlay/ExperimentRuns/TS_23/Picks/curation_0_thyroglobulin.json\n",
      "Copied /home/naoya/kaggle/czii/input/extra_data/czii_static/ExperimentRuns/TS_23/Picks/virus-like-particle.json to /home/naoya/kaggle/czii/input/extra_data/overlay/ExperimentRuns/TS_23/Picks/curation_0_virus-like-particle.json\n",
      "Copied /home/naoya/kaggle/czii/input/extra_data/czii_static/ExperimentRuns/TS_23/Picks/beta-galactosidase.json to /home/naoya/kaggle/czii/input/extra_data/overlay/ExperimentRuns/TS_23/Picks/curation_0_beta-galactosidase.json\n",
      "Copied /home/naoya/kaggle/czii/input/extra_data/czii_static/ExperimentRuns/TS_23/Picks/ribosome.json to /home/naoya/kaggle/czii/input/extra_data/overlay/ExperimentRuns/TS_23/Picks/curation_0_ribosome.json\n",
      "Copied /home/naoya/kaggle/czii/input/extra_data/czii_static/ExperimentRuns/TS_13/Picks/apo-ferritin.json to /home/naoya/kaggle/czii/input/extra_data/overlay/ExperimentRuns/TS_13/Picks/curation_0_apo-ferritin.json\n",
      "Copied /home/naoya/kaggle/czii/input/extra_data/czii_static/ExperimentRuns/TS_13/Picks/beta-amylase.json to /home/naoya/kaggle/czii/input/extra_data/overlay/ExperimentRuns/TS_13/Picks/curation_0_beta-amylase.json\n",
      "Copied /home/naoya/kaggle/czii/input/extra_data/czii_static/ExperimentRuns/TS_13/Picks/thyroglobulin.json to /home/naoya/kaggle/czii/input/extra_data/overlay/ExperimentRuns/TS_13/Picks/curation_0_thyroglobulin.json\n",
      "Copied /home/naoya/kaggle/czii/input/extra_data/czii_static/ExperimentRuns/TS_13/Picks/virus-like-particle.json to /home/naoya/kaggle/czii/input/extra_data/overlay/ExperimentRuns/TS_13/Picks/curation_0_virus-like-particle.json\n",
      "Copied /home/naoya/kaggle/czii/input/extra_data/czii_static/ExperimentRuns/TS_13/Picks/beta-galactosidase.json to /home/naoya/kaggle/czii/input/extra_data/overlay/ExperimentRuns/TS_13/Picks/curation_0_beta-galactosidase.json\n",
      "Copied /home/naoya/kaggle/czii/input/extra_data/czii_static/ExperimentRuns/TS_13/Picks/ribosome.json to /home/naoya/kaggle/czii/input/extra_data/overlay/ExperimentRuns/TS_13/Picks/curation_0_ribosome.json\n",
      "Copied /home/naoya/kaggle/czii/input/extra_data/czii_static/ExperimentRuns/TS_5/Picks/apo-ferritin.json to /home/naoya/kaggle/czii/input/extra_data/overlay/ExperimentRuns/TS_5/Picks/curation_0_apo-ferritin.json\n",
      "Copied /home/naoya/kaggle/czii/input/extra_data/czii_static/ExperimentRuns/TS_5/Picks/beta-amylase.json to /home/naoya/kaggle/czii/input/extra_data/overlay/ExperimentRuns/TS_5/Picks/curation_0_beta-amylase.json\n",
      "Copied /home/naoya/kaggle/czii/input/extra_data/czii_static/ExperimentRuns/TS_5/Picks/thyroglobulin.json to /home/naoya/kaggle/czii/input/extra_data/overlay/ExperimentRuns/TS_5/Picks/curation_0_thyroglobulin.json\n",
      "Copied /home/naoya/kaggle/czii/input/extra_data/czii_static/ExperimentRuns/TS_5/Picks/virus-like-particle.json to /home/naoya/kaggle/czii/input/extra_data/overlay/ExperimentRuns/TS_5/Picks/curation_0_virus-like-particle.json\n",
      "Copied /home/naoya/kaggle/czii/input/extra_data/czii_static/ExperimentRuns/TS_5/Picks/beta-galactosidase.json to /home/naoya/kaggle/czii/input/extra_data/overlay/ExperimentRuns/TS_5/Picks/curation_0_beta-galactosidase.json\n",
      "Copied /home/naoya/kaggle/czii/input/extra_data/czii_static/ExperimentRuns/TS_5/Picks/ribosome.json to /home/naoya/kaggle/czii/input/extra_data/overlay/ExperimentRuns/TS_5/Picks/curation_0_ribosome.json\n",
      "Copied /home/naoya/kaggle/czii/input/extra_data/czii_static/ExperimentRuns/TS_19/Picks/apo-ferritin.json to /home/naoya/kaggle/czii/input/extra_data/overlay/ExperimentRuns/TS_19/Picks/curation_0_apo-ferritin.json\n",
      "Copied /home/naoya/kaggle/czii/input/extra_data/czii_static/ExperimentRuns/TS_19/Picks/beta-amylase.json to /home/naoya/kaggle/czii/input/extra_data/overlay/ExperimentRuns/TS_19/Picks/curation_0_beta-amylase.json\n",
      "Copied /home/naoya/kaggle/czii/input/extra_data/czii_static/ExperimentRuns/TS_19/Picks/thyroglobulin.json to /home/naoya/kaggle/czii/input/extra_data/overlay/ExperimentRuns/TS_19/Picks/curation_0_thyroglobulin.json\n",
      "Copied /home/naoya/kaggle/czii/input/extra_data/czii_static/ExperimentRuns/TS_19/Picks/virus-like-particle.json to /home/naoya/kaggle/czii/input/extra_data/overlay/ExperimentRuns/TS_19/Picks/curation_0_virus-like-particle.json\n",
      "Copied /home/naoya/kaggle/czii/input/extra_data/czii_static/ExperimentRuns/TS_19/Picks/beta-galactosidase.json to /home/naoya/kaggle/czii/input/extra_data/overlay/ExperimentRuns/TS_19/Picks/curation_0_beta-galactosidase.json\n",
      "Copied /home/naoya/kaggle/czii/input/extra_data/czii_static/ExperimentRuns/TS_19/Picks/ribosome.json to /home/naoya/kaggle/czii/input/extra_data/overlay/ExperimentRuns/TS_19/Picks/curation_0_ribosome.json\n",
      "Copied /home/naoya/kaggle/czii/input/extra_data/czii_static/ExperimentRuns/TS_3/Picks/apo-ferritin.json to /home/naoya/kaggle/czii/input/extra_data/overlay/ExperimentRuns/TS_3/Picks/curation_0_apo-ferritin.json\n",
      "Copied /home/naoya/kaggle/czii/input/extra_data/czii_static/ExperimentRuns/TS_3/Picks/beta-amylase.json to /home/naoya/kaggle/czii/input/extra_data/overlay/ExperimentRuns/TS_3/Picks/curation_0_beta-amylase.json\n",
      "Copied /home/naoya/kaggle/czii/input/extra_data/czii_static/ExperimentRuns/TS_3/Picks/thyroglobulin.json to /home/naoya/kaggle/czii/input/extra_data/overlay/ExperimentRuns/TS_3/Picks/curation_0_thyroglobulin.json\n",
      "Copied /home/naoya/kaggle/czii/input/extra_data/czii_static/ExperimentRuns/TS_3/Picks/virus-like-particle.json to /home/naoya/kaggle/czii/input/extra_data/overlay/ExperimentRuns/TS_3/Picks/curation_0_virus-like-particle.json\n",
      "Copied /home/naoya/kaggle/czii/input/extra_data/czii_static/ExperimentRuns/TS_3/Picks/beta-galactosidase.json to /home/naoya/kaggle/czii/input/extra_data/overlay/ExperimentRuns/TS_3/Picks/curation_0_beta-galactosidase.json\n",
      "Copied /home/naoya/kaggle/czii/input/extra_data/czii_static/ExperimentRuns/TS_3/Picks/ribosome.json to /home/naoya/kaggle/czii/input/extra_data/overlay/ExperimentRuns/TS_3/Picks/curation_0_ribosome.json\n",
      "Copied /home/naoya/kaggle/czii/input/extra_data/czii_static/ExperimentRuns/TS_7/Picks/apo-ferritin.json to /home/naoya/kaggle/czii/input/extra_data/overlay/ExperimentRuns/TS_7/Picks/curation_0_apo-ferritin.json\n",
      "Copied /home/naoya/kaggle/czii/input/extra_data/czii_static/ExperimentRuns/TS_7/Picks/beta-amylase.json to /home/naoya/kaggle/czii/input/extra_data/overlay/ExperimentRuns/TS_7/Picks/curation_0_beta-amylase.json\n",
      "Copied /home/naoya/kaggle/czii/input/extra_data/czii_static/ExperimentRuns/TS_7/Picks/thyroglobulin.json to /home/naoya/kaggle/czii/input/extra_data/overlay/ExperimentRuns/TS_7/Picks/curation_0_thyroglobulin.json\n",
      "Copied /home/naoya/kaggle/czii/input/extra_data/czii_static/ExperimentRuns/TS_7/Picks/virus-like-particle.json to /home/naoya/kaggle/czii/input/extra_data/overlay/ExperimentRuns/TS_7/Picks/curation_0_virus-like-particle.json\n",
      "Copied /home/naoya/kaggle/czii/input/extra_data/czii_static/ExperimentRuns/TS_7/Picks/beta-galactosidase.json to /home/naoya/kaggle/czii/input/extra_data/overlay/ExperimentRuns/TS_7/Picks/curation_0_beta-galactosidase.json\n",
      "Copied /home/naoya/kaggle/czii/input/extra_data/czii_static/ExperimentRuns/TS_7/Picks/ribosome.json to /home/naoya/kaggle/czii/input/extra_data/overlay/ExperimentRuns/TS_7/Picks/curation_0_ribosome.json\n",
      "Copied /home/naoya/kaggle/czii/input/extra_data/czii_static/ExperimentRuns/TS_24/Picks/apo-ferritin.json to /home/naoya/kaggle/czii/input/extra_data/overlay/ExperimentRuns/TS_24/Picks/curation_0_apo-ferritin.json\n",
      "Copied /home/naoya/kaggle/czii/input/extra_data/czii_static/ExperimentRuns/TS_24/Picks/beta-amylase.json to /home/naoya/kaggle/czii/input/extra_data/overlay/ExperimentRuns/TS_24/Picks/curation_0_beta-amylase.json\n",
      "Copied /home/naoya/kaggle/czii/input/extra_data/czii_static/ExperimentRuns/TS_24/Picks/thyroglobulin.json to /home/naoya/kaggle/czii/input/extra_data/overlay/ExperimentRuns/TS_24/Picks/curation_0_thyroglobulin.json\n",
      "Copied /home/naoya/kaggle/czii/input/extra_data/czii_static/ExperimentRuns/TS_24/Picks/virus-like-particle.json to /home/naoya/kaggle/czii/input/extra_data/overlay/ExperimentRuns/TS_24/Picks/curation_0_virus-like-particle.json\n",
      "Copied /home/naoya/kaggle/czii/input/extra_data/czii_static/ExperimentRuns/TS_24/Picks/beta-galactosidase.json to /home/naoya/kaggle/czii/input/extra_data/overlay/ExperimentRuns/TS_24/Picks/curation_0_beta-galactosidase.json\n",
      "Copied /home/naoya/kaggle/czii/input/extra_data/czii_static/ExperimentRuns/TS_24/Picks/ribosome.json to /home/naoya/kaggle/czii/input/extra_data/overlay/ExperimentRuns/TS_24/Picks/curation_0_ribosome.json\n",
      "Copied /home/naoya/kaggle/czii/input/extra_data/czii_static/ExperimentRuns/TS_11/Picks/apo-ferritin.json to /home/naoya/kaggle/czii/input/extra_data/overlay/ExperimentRuns/TS_11/Picks/curation_0_apo-ferritin.json\n",
      "Copied /home/naoya/kaggle/czii/input/extra_data/czii_static/ExperimentRuns/TS_11/Picks/beta-amylase.json to /home/naoya/kaggle/czii/input/extra_data/overlay/ExperimentRuns/TS_11/Picks/curation_0_beta-amylase.json\n",
      "Copied /home/naoya/kaggle/czii/input/extra_data/czii_static/ExperimentRuns/TS_11/Picks/thyroglobulin.json to /home/naoya/kaggle/czii/input/extra_data/overlay/ExperimentRuns/TS_11/Picks/curation_0_thyroglobulin.json\n",
      "Copied /home/naoya/kaggle/czii/input/extra_data/czii_static/ExperimentRuns/TS_11/Picks/virus-like-particle.json to /home/naoya/kaggle/czii/input/extra_data/overlay/ExperimentRuns/TS_11/Picks/curation_0_virus-like-particle.json\n",
      "Copied /home/naoya/kaggle/czii/input/extra_data/czii_static/ExperimentRuns/TS_11/Picks/beta-galactosidase.json to /home/naoya/kaggle/czii/input/extra_data/overlay/ExperimentRuns/TS_11/Picks/curation_0_beta-galactosidase.json\n",
      "Copied /home/naoya/kaggle/czii/input/extra_data/czii_static/ExperimentRuns/TS_11/Picks/ribosome.json to /home/naoya/kaggle/czii/input/extra_data/overlay/ExperimentRuns/TS_11/Picks/curation_0_ribosome.json\n",
      "Copied /home/naoya/kaggle/czii/input/extra_data/czii_static/ExperimentRuns/TS_20/Picks/apo-ferritin.json to /home/naoya/kaggle/czii/input/extra_data/overlay/ExperimentRuns/TS_20/Picks/curation_0_apo-ferritin.json\n",
      "Copied /home/naoya/kaggle/czii/input/extra_data/czii_static/ExperimentRuns/TS_20/Picks/beta-amylase.json to /home/naoya/kaggle/czii/input/extra_data/overlay/ExperimentRuns/TS_20/Picks/curation_0_beta-amylase.json\n",
      "Copied /home/naoya/kaggle/czii/input/extra_data/czii_static/ExperimentRuns/TS_20/Picks/thyroglobulin.json to /home/naoya/kaggle/czii/input/extra_data/overlay/ExperimentRuns/TS_20/Picks/curation_0_thyroglobulin.json\n",
      "Copied /home/naoya/kaggle/czii/input/extra_data/czii_static/ExperimentRuns/TS_20/Picks/virus-like-particle.json to /home/naoya/kaggle/czii/input/extra_data/overlay/ExperimentRuns/TS_20/Picks/curation_0_virus-like-particle.json\n",
      "Copied /home/naoya/kaggle/czii/input/extra_data/czii_static/ExperimentRuns/TS_20/Picks/beta-galactosidase.json to /home/naoya/kaggle/czii/input/extra_data/overlay/ExperimentRuns/TS_20/Picks/curation_0_beta-galactosidase.json\n",
      "Copied /home/naoya/kaggle/czii/input/extra_data/czii_static/ExperimentRuns/TS_20/Picks/ribosome.json to /home/naoya/kaggle/czii/input/extra_data/overlay/ExperimentRuns/TS_20/Picks/curation_0_ribosome.json\n",
      "Copied /home/naoya/kaggle/czii/input/extra_data/czii_static/ExperimentRuns/TS_14/Picks/apo-ferritin.json to /home/naoya/kaggle/czii/input/extra_data/overlay/ExperimentRuns/TS_14/Picks/curation_0_apo-ferritin.json\n",
      "Copied /home/naoya/kaggle/czii/input/extra_data/czii_static/ExperimentRuns/TS_14/Picks/beta-amylase.json to /home/naoya/kaggle/czii/input/extra_data/overlay/ExperimentRuns/TS_14/Picks/curation_0_beta-amylase.json\n",
      "Copied /home/naoya/kaggle/czii/input/extra_data/czii_static/ExperimentRuns/TS_14/Picks/thyroglobulin.json to /home/naoya/kaggle/czii/input/extra_data/overlay/ExperimentRuns/TS_14/Picks/curation_0_thyroglobulin.json\n",
      "Copied /home/naoya/kaggle/czii/input/extra_data/czii_static/ExperimentRuns/TS_14/Picks/virus-like-particle.json to /home/naoya/kaggle/czii/input/extra_data/overlay/ExperimentRuns/TS_14/Picks/curation_0_virus-like-particle.json\n",
      "Copied /home/naoya/kaggle/czii/input/extra_data/czii_static/ExperimentRuns/TS_14/Picks/beta-galactosidase.json to /home/naoya/kaggle/czii/input/extra_data/overlay/ExperimentRuns/TS_14/Picks/curation_0_beta-galactosidase.json\n",
      "Copied /home/naoya/kaggle/czii/input/extra_data/czii_static/ExperimentRuns/TS_14/Picks/ribosome.json to /home/naoya/kaggle/czii/input/extra_data/overlay/ExperimentRuns/TS_14/Picks/curation_0_ribosome.json\n",
      "Copied /home/naoya/kaggle/czii/input/extra_data/czii_static/ExperimentRuns/TS_21/Picks/apo-ferritin.json to /home/naoya/kaggle/czii/input/extra_data/overlay/ExperimentRuns/TS_21/Picks/curation_0_apo-ferritin.json\n",
      "Copied /home/naoya/kaggle/czii/input/extra_data/czii_static/ExperimentRuns/TS_21/Picks/beta-amylase.json to /home/naoya/kaggle/czii/input/extra_data/overlay/ExperimentRuns/TS_21/Picks/curation_0_beta-amylase.json\n",
      "Copied /home/naoya/kaggle/czii/input/extra_data/czii_static/ExperimentRuns/TS_21/Picks/thyroglobulin.json to /home/naoya/kaggle/czii/input/extra_data/overlay/ExperimentRuns/TS_21/Picks/curation_0_thyroglobulin.json\n",
      "Copied /home/naoya/kaggle/czii/input/extra_data/czii_static/ExperimentRuns/TS_21/Picks/virus-like-particle.json to /home/naoya/kaggle/czii/input/extra_data/overlay/ExperimentRuns/TS_21/Picks/curation_0_virus-like-particle.json\n",
      "Copied /home/naoya/kaggle/czii/input/extra_data/czii_static/ExperimentRuns/TS_21/Picks/beta-galactosidase.json to /home/naoya/kaggle/czii/input/extra_data/overlay/ExperimentRuns/TS_21/Picks/curation_0_beta-galactosidase.json\n",
      "Copied /home/naoya/kaggle/czii/input/extra_data/czii_static/ExperimentRuns/TS_21/Picks/ribosome.json to /home/naoya/kaggle/czii/input/extra_data/overlay/ExperimentRuns/TS_21/Picks/curation_0_ribosome.json\n",
      "Copied /home/naoya/kaggle/czii/input/extra_data/czii_static/ExperimentRuns/TS_0/Picks/apo-ferritin.json to /home/naoya/kaggle/czii/input/extra_data/overlay/ExperimentRuns/TS_0/Picks/curation_0_apo-ferritin.json\n",
      "Copied /home/naoya/kaggle/czii/input/extra_data/czii_static/ExperimentRuns/TS_0/Picks/beta-amylase.json to /home/naoya/kaggle/czii/input/extra_data/overlay/ExperimentRuns/TS_0/Picks/curation_0_beta-amylase.json\n",
      "Copied /home/naoya/kaggle/czii/input/extra_data/czii_static/ExperimentRuns/TS_0/Picks/thyroglobulin.json to /home/naoya/kaggle/czii/input/extra_data/overlay/ExperimentRuns/TS_0/Picks/curation_0_thyroglobulin.json\n",
      "Copied /home/naoya/kaggle/czii/input/extra_data/czii_static/ExperimentRuns/TS_0/Picks/virus-like-particle.json to /home/naoya/kaggle/czii/input/extra_data/overlay/ExperimentRuns/TS_0/Picks/curation_0_virus-like-particle.json\n",
      "Copied /home/naoya/kaggle/czii/input/extra_data/czii_static/ExperimentRuns/TS_0/Picks/beta-galactosidase.json to /home/naoya/kaggle/czii/input/extra_data/overlay/ExperimentRuns/TS_0/Picks/curation_0_beta-galactosidase.json\n",
      "Copied /home/naoya/kaggle/czii/input/extra_data/czii_static/ExperimentRuns/TS_0/Picks/ribosome.json to /home/naoya/kaggle/czii/input/extra_data/overlay/ExperimentRuns/TS_0/Picks/curation_0_ribosome.json\n",
      "Copied /home/naoya/kaggle/czii/input/extra_data/czii_static/ExperimentRuns/TS_18/Picks/apo-ferritin.json to /home/naoya/kaggle/czii/input/extra_data/overlay/ExperimentRuns/TS_18/Picks/curation_0_apo-ferritin.json\n",
      "Copied /home/naoya/kaggle/czii/input/extra_data/czii_static/ExperimentRuns/TS_18/Picks/beta-amylase.json to /home/naoya/kaggle/czii/input/extra_data/overlay/ExperimentRuns/TS_18/Picks/curation_0_beta-amylase.json\n",
      "Copied /home/naoya/kaggle/czii/input/extra_data/czii_static/ExperimentRuns/TS_18/Picks/thyroglobulin.json to /home/naoya/kaggle/czii/input/extra_data/overlay/ExperimentRuns/TS_18/Picks/curation_0_thyroglobulin.json\n",
      "Copied /home/naoya/kaggle/czii/input/extra_data/czii_static/ExperimentRuns/TS_18/Picks/virus-like-particle.json to /home/naoya/kaggle/czii/input/extra_data/overlay/ExperimentRuns/TS_18/Picks/curation_0_virus-like-particle.json\n",
      "Copied /home/naoya/kaggle/czii/input/extra_data/czii_static/ExperimentRuns/TS_18/Picks/beta-galactosidase.json to /home/naoya/kaggle/czii/input/extra_data/overlay/ExperimentRuns/TS_18/Picks/curation_0_beta-galactosidase.json\n",
      "Copied /home/naoya/kaggle/czii/input/extra_data/czii_static/ExperimentRuns/TS_18/Picks/ribosome.json to /home/naoya/kaggle/czii/input/extra_data/overlay/ExperimentRuns/TS_18/Picks/curation_0_ribosome.json\n",
      "Copied /home/naoya/kaggle/czii/input/extra_data/czii_static/ExperimentRuns/TS_4/Picks/apo-ferritin.json to /home/naoya/kaggle/czii/input/extra_data/overlay/ExperimentRuns/TS_4/Picks/curation_0_apo-ferritin.json\n",
      "Copied /home/naoya/kaggle/czii/input/extra_data/czii_static/ExperimentRuns/TS_4/Picks/beta-amylase.json to /home/naoya/kaggle/czii/input/extra_data/overlay/ExperimentRuns/TS_4/Picks/curation_0_beta-amylase.json\n",
      "Copied /home/naoya/kaggle/czii/input/extra_data/czii_static/ExperimentRuns/TS_4/Picks/thyroglobulin.json to /home/naoya/kaggle/czii/input/extra_data/overlay/ExperimentRuns/TS_4/Picks/curation_0_thyroglobulin.json\n",
      "Copied /home/naoya/kaggle/czii/input/extra_data/czii_static/ExperimentRuns/TS_4/Picks/virus-like-particle.json to /home/naoya/kaggle/czii/input/extra_data/overlay/ExperimentRuns/TS_4/Picks/curation_0_virus-like-particle.json\n",
      "Copied /home/naoya/kaggle/czii/input/extra_data/czii_static/ExperimentRuns/TS_4/Picks/beta-galactosidase.json to /home/naoya/kaggle/czii/input/extra_data/overlay/ExperimentRuns/TS_4/Picks/curation_0_beta-galactosidase.json\n",
      "Copied /home/naoya/kaggle/czii/input/extra_data/czii_static/ExperimentRuns/TS_4/Picks/ribosome.json to /home/naoya/kaggle/czii/input/extra_data/overlay/ExperimentRuns/TS_4/Picks/curation_0_ribosome.json\n"
     ]
    }
   ],
   "source": [
    "# Make a copick project\n",
    "import os\n",
    "import shutil\n",
    "\n",
    "config_blob = \"\"\"{\n",
    "    \"name\": \"czii_cryoet_mlchallenge_2024\",\n",
    "    \"description\": \"2024 CZII CryoET ML Challenge training data.\",\n",
    "    \"version\": \"1.0.0\",\n",
    "\n",
    "    \"pickable_objects\": [\n",
    "        {\n",
    "            \"name\": \"apo-ferritin\",\n",
    "            \"is_particle\": true,\n",
    "            \"pdb_id\": \"4V1W\",\n",
    "            \"label\": 1,\n",
    "            \"color\": [  0, 117, 220, 128],\n",
    "            \"radius\": 60,\n",
    "            \"map_threshold\": 0.0418\n",
    "        },\n",
    "        {\n",
    "            \"name\": \"beta-amylase\",\n",
    "            \"is_particle\": true,\n",
    "            \"pdb_id\": \"1FA2\",\n",
    "            \"label\": 2,\n",
    "            \"color\": [153,  63,   0, 128],\n",
    "            \"radius\": 65,\n",
    "            \"map_threshold\": 0.035\n",
    "        },\n",
    "        {\n",
    "            \"name\": \"beta-galactosidase\",\n",
    "            \"is_particle\": true,\n",
    "            \"pdb_id\": \"6X1Q\",\n",
    "            \"label\": 3,\n",
    "            \"color\": [ 76,   0,  92, 128],\n",
    "            \"radius\": 90,\n",
    "            \"map_threshold\": 0.0578\n",
    "        },\n",
    "        {\n",
    "            \"name\": \"ribosome\",\n",
    "            \"is_particle\": true,\n",
    "            \"pdb_id\": \"6EK0\",\n",
    "            \"label\": 4,\n",
    "            \"color\": [  0,  92,  49, 128],\n",
    "            \"radius\": 150,\n",
    "            \"map_threshold\": 0.0374\n",
    "        },\n",
    "        {\n",
    "            \"name\": \"thyroglobulin\",\n",
    "            \"is_particle\": true,\n",
    "            \"pdb_id\": \"6SCJ\",\n",
    "            \"label\": 5,\n",
    "            \"color\": [ 43, 206,  72, 128],\n",
    "            \"radius\": 130,\n",
    "            \"map_threshold\": 0.0278\n",
    "        },\n",
    "        {\n",
    "            \"name\": \"virus-like-particle\",\n",
    "            \"is_particle\": true,\n",
    "            \"pdb_id\": \"6N4V\",            \n",
    "            \"label\": 6,\n",
    "            \"color\": [255, 204, 153, 128],\n",
    "            \"radius\": 135,\n",
    "            \"map_threshold\": 0.201\n",
    "        }\n",
    "    ],\n",
    "\n",
    "    \"overlay_root\": \"/home/naoya/kaggle/czii/input/extra_data/overlay\",\n",
    "\n",
    "    \"overlay_fs_args\": {\n",
    "        \"auto_mkdir\": true\n",
    "    },\n",
    "\n",
    "    \"static_root\": \"/home/naoya/kaggle/czii/input/extra_data/czii\"\n",
    "}\"\"\"\n",
    "\n",
    "copick_config_path = \"/home/naoya/kaggle/czii/input/czii-cryo-et-object-identification/copick.config\"\n",
    "output_overlay = \"/home/naoya/kaggle/czii/input/extra_data/overlay\"\n",
    "\n",
    "with open(copick_config_path, \"w\") as f:\n",
    "    f.write(config_blob)\n",
    "    \n",
    "# Update the overlay\n",
    "# Define source and destination directories\n",
    "source_dir = '/home/naoya/kaggle/czii/input/extra_data/czii_static'\n",
    "destination_dir = '/home/naoya/kaggle/czii/input/extra_data/overlay'\n",
    "\n",
    "# Walk through the source directory\n",
    "for root, dirs, files in os.walk(source_dir):\n",
    "    # Create corresponding subdirectories in the destination\n",
    "    relative_path = os.path.relpath(root, source_dir)\n",
    "    target_dir = os.path.join(destination_dir, relative_path)\n",
    "    os.makedirs(target_dir, exist_ok=True)\n",
    "    \n",
    "    # Copy and rename each file\n",
    "    for file in files:\n",
    "        if file.startswith(\"curation_0_\"):\n",
    "            new_filename = file\n",
    "        else:\n",
    "            new_filename = f\"curation_0_{file}\"\n",
    "            \n",
    "        \n",
    "        # Define full paths for the source and destination files\n",
    "        source_file = os.path.join(root, file)\n",
    "        destination_file = os.path.join(target_dir, new_filename)\n",
    "        \n",
    "        # Copy the file with the new name\n",
    "        shutil.copy2(source_file, destination_file)\n",
    "        print(f\"Copied {source_file} to {destination_file}\")"
   ]
  },
  {
   "cell_type": "code",
   "execution_count": 2,
   "id": "3cdb68ef",
   "metadata": {
    "execution": {
     "iopub.execute_input": "2024-11-11T21:42:04.956650Z",
     "iopub.status.busy": "2024-11-11T21:42:04.955660Z",
     "iopub.status.idle": "2024-11-11T21:43:08.957688Z",
     "shell.execute_reply": "2024-11-11T21:43:08.956718Z"
    },
    "papermill": {
     "duration": 64.020379,
     "end_time": "2024-11-11T21:43:08.960403",
     "exception": false,
     "start_time": "2024-11-11T21:42:04.940024",
     "status": "completed"
    },
    "tags": []
   },
   "outputs": [],
   "source": [
    "import numpy as np\n",
    "\n",
    "import copick\n",
    "from tqdm import tqdm"
   ]
  },
  {
   "cell_type": "markdown",
   "id": "a44933df",
   "metadata": {
    "papermill": {
     "duration": 0.015116,
     "end_time": "2024-11-11T21:43:08.990941",
     "exception": false,
     "start_time": "2024-11-11T21:43:08.975825",
     "status": "completed"
    },
    "tags": []
   },
   "source": [
    "# Prepare the dataset\n",
    "## 1. Get copick root"
   ]
  },
  {
   "cell_type": "code",
   "execution_count": 3,
   "id": "8a02cf9d",
   "metadata": {
    "execution": {
     "iopub.execute_input": "2024-11-11T21:43:09.025156Z",
     "iopub.status.busy": "2024-11-11T21:43:09.023966Z",
     "iopub.status.idle": "2024-11-11T21:43:09.032477Z",
     "shell.execute_reply": "2024-11-11T21:43:09.031250Z"
    },
    "papermill": {
     "duration": 0.028051,
     "end_time": "2024-11-11T21:43:09.034816",
     "exception": false,
     "start_time": "2024-11-11T21:43:09.006765",
     "status": "completed"
    },
    "tags": []
   },
   "outputs": [],
   "source": [
    "root = copick.from_file(copick_config_path)\n",
    "\n",
    "copick_user_name = \"copickUtils\"\n",
    "copick_segmentation_name = \"paintedPicks\"\n",
    "voxel_size = 10\n",
    "tomo_type = \"denoised\""
   ]
  },
  {
   "cell_type": "markdown",
   "id": "9433632c",
   "metadata": {
    "papermill": {
     "duration": 0.014088,
     "end_time": "2024-11-11T21:43:09.063628",
     "exception": false,
     "start_time": "2024-11-11T21:43:09.049540",
     "status": "completed"
    },
    "tags": []
   },
   "source": [
    "## 2. Generate multi-class segmentation masks from picks, and saved them to the copick overlay directory (one-time)"
   ]
  },
  {
   "cell_type": "code",
   "execution_count": 4,
   "id": "ba7a1c74",
   "metadata": {
    "execution": {
     "iopub.execute_input": "2024-11-11T21:43:09.096363Z",
     "iopub.status.busy": "2024-11-11T21:43:09.095951Z",
     "iopub.status.idle": "2024-11-11T21:43:26.746572Z",
     "shell.execute_reply": "2024-11-11T21:43:26.745050Z"
    },
    "papermill": {
     "duration": 17.673006,
     "end_time": "2024-11-11T21:43:26.752160",
     "exception": false,
     "start_time": "2024-11-11T21:43:09.079154",
     "status": "completed"
    },
    "tags": []
   },
   "outputs": [
    {
     "name": "stderr",
     "output_type": "stream",
     "text": [
      "  0%|          | 0/27 [00:00<?, ?it/s]/tmp/ipykernel_413405/167002730.py:18: DeprecationWarning: get_tomogram is deprecated, use get_tomograms instead. Results may be incomplete\n",
      "  tomo = tomo.get_tomogram(tomo_type).numpy()\n",
      "100%|██████████| 27/27 [00:09<00:00,  2.97it/s]\n"
     ]
    }
   ],
   "source": [
    "from copick_utils.segmentation import segmentation_from_picks\n",
    "import copick_utils.writers.write as write\n",
    "from collections import defaultdict\n",
    "\n",
    "# Just do this once\n",
    "generate_masks = True\n",
    "\n",
    "if generate_masks:\n",
    "    target_objects = defaultdict(dict)\n",
    "    for object in root.pickable_objects:\n",
    "        if object.is_particle:\n",
    "            target_objects[object.name]['label'] = object.label\n",
    "            target_objects[object.name]['radius'] = object.radius\n",
    "\n",
    "\n",
    "    for run in tqdm(root.runs):\n",
    "        tomo = run.get_voxel_spacing(10)\n",
    "        tomo = tomo.get_tomogram(tomo_type).numpy()\n",
    "        target = np.zeros(tomo.shape, dtype=np.uint8)\n",
    "        for pickable_object in root.pickable_objects:\n",
    "            pick = run.get_picks(object_name=pickable_object.name, user_id=\"curation\")\n",
    "            if len(pick):  \n",
    "                target = segmentation_from_picks.from_picks(pick[0], \n",
    "                                                            target, \n",
    "                                                            target_objects[pickable_object.name]['radius'] * 0.8,\n",
    "                                                            target_objects[pickable_object.name]['label']\n",
    "                                                            )\n",
    "        write.segmentation(run, target, copick_user_name, name=copick_segmentation_name)"
   ]
  },
  {
   "cell_type": "markdown",
   "id": "c1500ebb",
   "metadata": {
    "papermill": {
     "duration": 0.016392,
     "end_time": "2024-11-11T21:43:26.784795",
     "exception": false,
     "start_time": "2024-11-11T21:43:26.768403",
     "status": "completed"
    },
    "tags": []
   },
   "source": [
    "## 3. Get tomograms and their segmentaion masks (from picks) arrays"
   ]
  },
  {
   "cell_type": "code",
   "execution_count": 5,
   "id": "a4929ec7",
   "metadata": {
    "execution": {
     "iopub.execute_input": "2024-11-11T21:43:26.818267Z",
     "iopub.status.busy": "2024-11-11T21:43:26.817693Z",
     "iopub.status.idle": "2024-11-11T21:43:34.505257Z",
     "shell.execute_reply": "2024-11-11T21:43:34.503980Z"
    },
    "papermill": {
     "duration": 7.706715,
     "end_time": "2024-11-11T21:43:34.507825",
     "exception": false,
     "start_time": "2024-11-11T21:43:26.801110",
     "status": "completed"
    },
    "tags": []
   },
   "outputs": [
    {
     "name": "stderr",
     "output_type": "stream",
     "text": [
      "  0%|          | 0/27 [00:00<?, ?it/s]/tmp/ipykernel_413405/3093971962.py:3: DeprecationWarning: get_tomogram is deprecated, use get_tomograms instead. Results may be incomplete\n",
      "  tomogram = run.get_voxel_spacing(voxel_size).get_tomogram(tomo_type).numpy()\n",
      "100%|██████████| 27/27 [00:06<00:00,  4.28it/s]\n"
     ]
    },
    {
     "name": "stdout",
     "output_type": "stream",
     "text": [
      "[0 1 2 3 4 5 6]\n"
     ]
    }
   ],
   "source": [
    "data_dicts = []\n",
    "for run in tqdm(root.runs):\n",
    "    tomogram = run.get_voxel_spacing(voxel_size).get_tomogram(tomo_type).numpy()\n",
    "    segmentation = run.get_segmentations(name=copick_segmentation_name, user_id=copick_user_name, voxel_size=voxel_size, is_multilabel=True)[0].numpy()\n",
    "    data_dicts.append({\"name\": run.name, \"image\": tomogram, \"label\": segmentation})\n",
    "    \n",
    "print(np.unique(data_dicts[0]['label']))"
   ]
  },
  {
   "cell_type": "code",
   "execution_count": 6,
   "id": "9f0c57fe",
   "metadata": {
    "execution": {
     "iopub.execute_input": "2024-11-11T21:43:34.542676Z",
     "iopub.status.busy": "2024-11-11T21:43:34.542248Z",
     "iopub.status.idle": "2024-11-11T21:43:34.550134Z",
     "shell.execute_reply": "2024-11-11T21:43:34.549071Z"
    },
    "papermill": {
     "duration": 0.027113,
     "end_time": "2024-11-11T21:43:34.552264",
     "exception": false,
     "start_time": "2024-11-11T21:43:34.525151",
     "status": "completed"
    },
    "tags": []
   },
   "outputs": [
    {
     "data": {
      "text/plain": [
       "(200, 630, 630)"
      ]
     },
     "execution_count": 6,
     "metadata": {},
     "output_type": "execute_result"
    }
   ],
   "source": [
    "data_dicts[0]['label'].shape"
   ]
  },
  {
   "cell_type": "code",
   "execution_count": 7,
   "id": "c588a2ea",
   "metadata": {
    "execution": {
     "iopub.execute_input": "2024-11-11T21:43:34.586571Z",
     "iopub.status.busy": "2024-11-11T21:43:34.585738Z",
     "iopub.status.idle": "2024-11-11T21:43:34.592985Z",
     "shell.execute_reply": "2024-11-11T21:43:34.591816Z"
    },
    "papermill": {
     "duration": 0.026938,
     "end_time": "2024-11-11T21:43:34.595106",
     "exception": false,
     "start_time": "2024-11-11T21:43:34.568168",
     "status": "completed"
    },
    "tags": []
   },
   "outputs": [
    {
     "data": {
      "text/plain": [
       "(200, 630, 630)"
      ]
     },
     "execution_count": 7,
     "metadata": {},
     "output_type": "execute_result"
    }
   ],
   "source": [
    "data_dicts[0]['image'].shape"
   ]
  },
  {
   "cell_type": "code",
   "execution_count": 10,
   "id": "3b1d83d3",
   "metadata": {
    "execution": {
     "iopub.execute_input": "2024-11-11T21:43:34.629405Z",
     "iopub.status.busy": "2024-11-11T21:43:34.628926Z",
     "iopub.status.idle": "2024-11-11T21:43:36.784179Z",
     "shell.execute_reply": "2024-11-11T21:43:36.783051Z"
    },
    "papermill": {
     "duration": 2.175614,
     "end_time": "2024-11-11T21:43:36.787014",
     "exception": false,
     "start_time": "2024-11-11T21:43:34.611400",
     "status": "completed"
    },
    "tags": []
   },
   "outputs": [],
   "source": [
    "output_dir = f\"/home/naoya/kaggle/czii/input/extra_data/numpy/{tomo_type}\"\n",
    "\n",
    "for i in range(len(data_dicts)):\n",
    "    image_path = os.path.join(output_dir, f\"train_image_{data_dicts[i]['name']}.npy\")\n",
    "    label_path = os.path.join(output_dir, f\"train_label_{data_dicts[i]['name']}.npy\")\n",
    "    \n",
    "    with open(image_path, 'wb') as f:\n",
    "        np.save(f, data_dicts[i]['image'])\n",
    "        \n",
    "    with open(label_path, 'wb') as f:\n",
    "        np.save(f, data_dicts[i]['label'])"
   ]
  },
  {
   "cell_type": "code",
   "execution_count": null,
   "id": "894b8356",
   "metadata": {},
   "outputs": [],
   "source": []
  },
  {
   "cell_type": "code",
   "execution_count": null,
   "id": "f5a133d0",
   "metadata": {},
   "outputs": [],
   "source": []
  }
 ],
 "metadata": {
  "kaggle": {
   "accelerator": "none",
   "dataSources": [
    {
     "databundleVersionId": 10033515,
     "sourceId": 84969,
     "sourceType": "competition"
    }
   ],
   "dockerImageVersionId": 30786,
   "isGpuEnabled": false,
   "isInternetEnabled": true,
   "language": "python",
   "sourceType": "notebook"
  },
  "kernelspec": {
   "display_name": ".venv",
   "language": "python",
   "name": "python3"
  },
  "language_info": {
   "codemirror_mode": {
    "name": "ipython",
    "version": 3
   },
   "file_extension": ".py",
   "mimetype": "text/x-python",
   "name": "python",
   "nbconvert_exporter": "python",
   "pygments_lexer": "ipython3",
   "version": "3.12.7"
  },
  "papermill": {
   "default_parameters": {},
   "duration": 195.574005,
   "end_time": "2024-11-11T21:43:41.192319",
   "environment_variables": {},
   "exception": null,
   "input_path": "__notebook__.ipynb",
   "output_path": "__notebook__.ipynb",
   "parameters": {},
   "start_time": "2024-11-11T21:40:25.618314",
   "version": "2.6.0"
  }
 },
 "nbformat": 4,
 "nbformat_minor": 5
}
