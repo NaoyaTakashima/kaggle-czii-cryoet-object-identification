{
 "cells": [
  {
   "cell_type": "code",
   "execution_count": 1,
   "metadata": {},
   "outputs": [],
   "source": [
    "import os\n",
    "import yaml # type: ignore\n",
    "\n",
    "def update_train_ids(directory, yaml_path, output_yaml_path):\n",
    "    # 指定ディレクトリ内の直下の.npyファイルを取得\n",
    "    npy_files = [f'{os.path.splitext(f)[0][12:]}-denoised' for f in os.listdir(directory) if f.endswith('.npy')]\n",
    "\n",
    "    # YAMLファイルを読み込む\n",
    "    with open(yaml_path, 'r') as file:\n",
    "        yaml_data = yaml.safe_load(file)\n",
    "    \n",
    "    # train_idsにファイル名を追加\n",
    "    if 'train_ids' not in yaml_data:\n",
    "        yaml_data['train_ids'] = []\n",
    "    \n",
    "    # 重複しないように新しいIDを追加\n",
    "    yaml_data['train_ids'] = list(set( npy_files))\n",
    "    \n",
    "    # 更新されたYAMLデータを書き込む\n",
    "    with open(output_yaml_path, 'w') as file:\n",
    "        yaml.dump(yaml_data, file)"
   ]
  },
  {
   "cell_type": "code",
   "execution_count": null,
   "metadata": {},
   "outputs": [],
   "source": [
    "PROJECT_ID = 'H'\n",
    "\n",
    "# 使用例\n",
    "npy_directory = '/home/naoya/kaggle/czii/input/extra_data/numpy/denoised'  # .npyファイルが存在するディレクトリ\n",
    "\n",
    "for i in range(7):\n",
    "    yaml_path = f'/home/naoya/kaggle/czii/project/F/run/conf/split/fold_{i}.yaml'  # 読み込むYAMLファイルのパス\n",
    "    output_yaml_path = f'/home/naoya/kaggle/czii/project/{PROJECT_ID}/pre-training/run/conf/split/fold_{i}.yaml'  # 更新後のYAMLファイルの保存パス\n",
    "\n",
    "    update_train_ids(npy_directory, yaml_path, output_yaml_path)"
   ]
  },
  {
   "cell_type": "code",
   "execution_count": null,
   "metadata": {},
   "outputs": [],
   "source": []
  }
 ],
 "metadata": {
  "kernelspec": {
   "display_name": ".venv",
   "language": "python",
   "name": "python3"
  },
  "language_info": {
   "codemirror_mode": {
    "name": "ipython",
    "version": 3
   },
   "file_extension": ".py",
   "mimetype": "text/x-python",
   "name": "python",
   "nbconvert_exporter": "python",
   "pygments_lexer": "ipython3",
   "version": "3.12.7"
  }
 },
 "nbformat": 4,
 "nbformat_minor": 2
}
